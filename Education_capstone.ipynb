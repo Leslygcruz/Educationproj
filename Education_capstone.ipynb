{
 "cells": [
  {
   "cell_type": "code",
   "execution_count": 1,
   "id": "4a9ed001-1c10-4acc-94df-e33585e06c52",
   "metadata": {},
   "outputs": [],
   "source": [
    "import pandas as pd"
   ]
  },
  {
   "cell_type": "markdown",
   "id": "b5e9da40-87d7-4b58-95fc-bf37d4d0b02e",
   "metadata": {},
   "source": [
    "# FMLI231"
   ]
  },
  {
   "cell_type": "code",
   "execution_count": 2,
   "id": "042b1518-ae13-4825-b2e2-c81ddd7dd442",
   "metadata": {},
   "outputs": [],
   "source": [
    "fmli231=pd.read_csv(r'C:\\Users\\Owner\\Documents\\NSS\\Capstone\\Educationproj\\data\\intrvw22\\fmli231.csv')"
   ]
  },
  {
   "cell_type": "code",
   "execution_count": 3,
   "id": "39c7ed05-5e02-4615-8383-ab13799578fb",
   "metadata": {},
   "outputs": [],
   "source": [
    "#region for Q1\n",
    "region231=[]\n",
    "for index, region in fmli231.iterrows():\n",
    "    if region['REGION']== 1:\n",
    "        region231.append('Northeast')\n",
    "    elif region['REGION']== 2:\n",
    "        region231.append('Midwest')\n",
    "    elif region['REGION']== 3:\n",
    "        region231.append('South')\n",
    "    elif region['REGION']== 4:\n",
    "        region231.append('West')\n",
    "    else:\n",
    "        region231.append('N/A')\n",
    "fmli231['Region']=region231"
   ]
  },
  {
   "cell_type": "code",
   "execution_count": 4,
   "id": "26a65c63-83b9-4cd8-85e9-a563d3459f38",
   "metadata": {},
   "outputs": [],
   "source": [
    "#education for Q1\n",
    "educlevel231=[]\n",
    "for index, educ in fmli231.iterrows():\n",
    "    if educ['HIGH_EDU'] in {0,00,10,11}:\n",
    "        educlevel231.append('No degree')\n",
    "    elif educ['HIGH_EDU'] in {12,13}:\n",
    "        educlevel231.append('High School')\n",
    "    elif educ['HIGH_EDU'] in {14}:\n",
    "        educlevel231.append('Associate Degree')\n",
    "    elif educ['HIGH_EDU'] in {15}:\n",
    "        educlevel231.append('Bachelor Degree')\n",
    "    elif educ['HIGH_EDU'] in {16}:\n",
    "        educlevel231.append('Master Degree')\n",
    "    elif educ['HIGH_EDU'] in {17}:\n",
    "        educlevel231.append('Professional/Doctorate Degree')\n",
    "    else:\n",
    "        educlevel231.append('N/A')\n",
    "fmli231['Education level']=educlevel231"
   ]
  },
  {
   "cell_type": "code",
   "execution_count": 43,
   "id": "1d898358-31b9-4bda-9d01-20e8ef20ae83",
   "metadata": {},
   "outputs": [],
   "source": [
    "#educ_ref\n",
    "#education for Q1\n",
    "educlevel231ref=[]\n",
    "for index, educ in fmli231.iterrows():\n",
    "    if educ['EDUC_REF'] in {1,2,3,4,5,6,7,10,11}:\n",
    "        educlevel231ref.append('No degree')\n",
    "    elif educ['EDUC_REF'] in {12,13}:\n",
    "        educlevel231ref.append('High School')\n",
    "    elif educ['EDUC_REF'] in {14}:\n",
    "        educlevel231ref.append('Associate Degree')\n",
    "    elif educ['EDUC_REF'] in {15}:\n",
    "        educlevel231ref.append('Bachelor Degree')\n",
    "    elif educ['EDUC_REF'] in {16}:\n",
    "        educlevel231ref.append('Master Degree')\n",
    "    elif educ['EDUC_REF'] in {17}:\n",
    "        educlevel231ref.append('Professional/Doctorate Degree')\n",
    "    else:\n",
    "        educlevel231ref.append('N/A')\n",
    "fmli231['Education level 2']=educlevel231ref"
   ]
  },
  {
   "cell_type": "code",
   "execution_count": 5,
   "id": "651b7fb2-22d1-44d3-931f-30e9367dc2a4",
   "metadata": {},
   "outputs": [],
   "source": [
    "#get rid of negative FINCBTAX Q1\n",
    "#idk why thats there...\n",
    "fmli231=fmli231.loc[fmli231['FINCBTAX'] >= 0]"
   ]
  },
  {
   "cell_type": "code",
   "execution_count": 6,
   "id": "45d5a2b0-84d8-47a1-9c9b-a193c05e95df",
   "metadata": {},
   "outputs": [],
   "source": [
    "#Q1\n",
    "#how much income is available per person in the household\n",
    "#FINCBTAX= Total amount of family income before taxes in the last 12 months (Collected data)\n",
    "fmli231['Income per Capita']= fmli231['FINCBTAX']/fmli231['FAM_SIZE']"
   ]
  },
  {
   "cell_type": "code",
   "execution_count": 7,
   "id": "aff2be17-a8d9-43a8-b5fd-3a911e6f11c4",
   "metadata": {},
   "outputs": [],
   "source": [
    "#educ order\n",
    "custom_order=['No degree','High School','Associate Degree','Bachelor Degree', 'Master Degree']"
   ]
  },
  {
   "cell_type": "code",
   "execution_count": 8,
   "id": "1f8aec3a-463b-4d51-a88c-14771486d3ef",
   "metadata": {},
   "outputs": [],
   "source": [
    "#order it with the cusom order\n",
    "fmli231['Education level']=pd.Categorical(fmli231['Education level'], categories= custom_order, ordered=True)"
   ]
  },
  {
   "cell_type": "code",
   "execution_count": 50,
   "id": "3c63a603-1b86-4bc7-8fb6-dbdc75ea88fc",
   "metadata": {},
   "outputs": [],
   "source": [
    "#order it with the cusom order\n",
    "fmli231['Education level 2']=pd.Categorical(fmli231['Education level'], categories= custom_order, ordered=True)"
   ]
  },
  {
   "cell_type": "code",
   "execution_count": 9,
   "id": "a79a5e62-cb77-452a-a95d-9ec619f48f2f",
   "metadata": {},
   "outputs": [
    {
     "data": {
      "text/html": [
       "<div>\n",
       "<style scoped>\n",
       "    .dataframe tbody tr th:only-of-type {\n",
       "        vertical-align: middle;\n",
       "    }\n",
       "\n",
       "    .dataframe tbody tr th {\n",
       "        vertical-align: top;\n",
       "    }\n",
       "\n",
       "    .dataframe thead th {\n",
       "        text-align: right;\n",
       "    }\n",
       "</style>\n",
       "<table border=\"1\" class=\"dataframe\">\n",
       "  <thead>\n",
       "    <tr style=\"text-align: right;\">\n",
       "      <th></th>\n",
       "      <th>NEWID</th>\n",
       "      <th>DIRACC</th>\n",
       "      <th>DIRACC_</th>\n",
       "      <th>AGE_REF</th>\n",
       "      <th>AGE_REF_</th>\n",
       "      <th>AGE2</th>\n",
       "      <th>AGE2_</th>\n",
       "      <th>AS_COMP1</th>\n",
       "      <th>AS_C_MP1</th>\n",
       "      <th>AS_COMP2</th>\n",
       "      <th>...</th>\n",
       "      <th>CHDTXP</th>\n",
       "      <th>CHDTXP_</th>\n",
       "      <th>CHDTXPH</th>\n",
       "      <th>CHDTXPH_</th>\n",
       "      <th>FFTAXOWE</th>\n",
       "      <th>FSTAXOWE</th>\n",
       "      <th>FINATXEM</th>\n",
       "      <th>Region</th>\n",
       "      <th>Education level</th>\n",
       "      <th>Income per Capita</th>\n",
       "    </tr>\n",
       "  </thead>\n",
       "  <tbody>\n",
       "    <tr>\n",
       "      <th>0</th>\n",
       "      <td>5011064</td>\n",
       "      <td>1.0</td>\n",
       "      <td>D</td>\n",
       "      <td>87</td>\n",
       "      <td>T</td>\n",
       "      <td>NaN</td>\n",
       "      <td>A</td>\n",
       "      <td>1</td>\n",
       "      <td>D</td>\n",
       "      <td>2</td>\n",
       "      <td>...</td>\n",
       "      <td>NaN</td>\n",
       "      <td>A</td>\n",
       "      <td>NaN</td>\n",
       "      <td>A</td>\n",
       "      <td>-4051</td>\n",
       "      <td>744</td>\n",
       "      <td>57240.2</td>\n",
       "      <td>South</td>\n",
       "      <td>High School</td>\n",
       "      <td>659.666667</td>\n",
       "    </tr>\n",
       "    <tr>\n",
       "      <th>1</th>\n",
       "      <td>5011134</td>\n",
       "      <td>1.0</td>\n",
       "      <td>D</td>\n",
       "      <td>73</td>\n",
       "      <td>D</td>\n",
       "      <td>75.0</td>\n",
       "      <td>D</td>\n",
       "      <td>1</td>\n",
       "      <td>D</td>\n",
       "      <td>1</td>\n",
       "      <td>...</td>\n",
       "      <td>NaN</td>\n",
       "      <td>A</td>\n",
       "      <td>NaN</td>\n",
       "      <td>A</td>\n",
       "      <td>-6600</td>\n",
       "      <td>0</td>\n",
       "      <td>55570.0</td>\n",
       "      <td>Northeast</td>\n",
       "      <td>Master Degree</td>\n",
       "      <td>24485.000000</td>\n",
       "    </tr>\n",
       "    <tr>\n",
       "      <th>2</th>\n",
       "      <td>5011244</td>\n",
       "      <td>1.0</td>\n",
       "      <td>D</td>\n",
       "      <td>47</td>\n",
       "      <td>D</td>\n",
       "      <td>44.0</td>\n",
       "      <td>D</td>\n",
       "      <td>1</td>\n",
       "      <td>D</td>\n",
       "      <td>1</td>\n",
       "      <td>...</td>\n",
       "      <td>NaN</td>\n",
       "      <td>A</td>\n",
       "      <td>NaN</td>\n",
       "      <td>A</td>\n",
       "      <td>22325</td>\n",
       "      <td>4892</td>\n",
       "      <td>145383.0</td>\n",
       "      <td>Midwest</td>\n",
       "      <td>Bachelor Degree</td>\n",
       "      <td>86300.000000</td>\n",
       "    </tr>\n",
       "    <tr>\n",
       "      <th>3</th>\n",
       "      <td>5011314</td>\n",
       "      <td>1.0</td>\n",
       "      <td>D</td>\n",
       "      <td>82</td>\n",
       "      <td>D</td>\n",
       "      <td>NaN</td>\n",
       "      <td>A</td>\n",
       "      <td>0</td>\n",
       "      <td>D</td>\n",
       "      <td>1</td>\n",
       "      <td>...</td>\n",
       "      <td>NaN</td>\n",
       "      <td>A</td>\n",
       "      <td>NaN</td>\n",
       "      <td>A</td>\n",
       "      <td>-1400</td>\n",
       "      <td>0</td>\n",
       "      <td>8732.0</td>\n",
       "      <td>Midwest</td>\n",
       "      <td>High School</td>\n",
       "      <td>7332.000000</td>\n",
       "    </tr>\n",
       "    <tr>\n",
       "      <th>4</th>\n",
       "      <td>5011334</td>\n",
       "      <td>1.0</td>\n",
       "      <td>D</td>\n",
       "      <td>87</td>\n",
       "      <td>T</td>\n",
       "      <td>80.0</td>\n",
       "      <td>D</td>\n",
       "      <td>1</td>\n",
       "      <td>D</td>\n",
       "      <td>1</td>\n",
       "      <td>...</td>\n",
       "      <td>NaN</td>\n",
       "      <td>A</td>\n",
       "      <td>NaN</td>\n",
       "      <td>A</td>\n",
       "      <td>-6600</td>\n",
       "      <td>-148</td>\n",
       "      <td>50555.0</td>\n",
       "      <td>West</td>\n",
       "      <td>High School</td>\n",
       "      <td>21903.500000</td>\n",
       "    </tr>\n",
       "  </tbody>\n",
       "</table>\n",
       "<p>5 rows × 821 columns</p>\n",
       "</div>"
      ],
      "text/plain": [
       "     NEWID  DIRACC DIRACC_  AGE_REF AGE_REF_  AGE2 AGE2_  AS_COMP1 AS_C_MP1  \\\n",
       "0  5011064     1.0       D       87        T   NaN     A         1        D   \n",
       "1  5011134     1.0       D       73        D  75.0     D         1        D   \n",
       "2  5011244     1.0       D       47        D  44.0     D         1        D   \n",
       "3  5011314     1.0       D       82        D   NaN     A         0        D   \n",
       "4  5011334     1.0       D       87        T  80.0     D         1        D   \n",
       "\n",
       "   AS_COMP2  ... CHDTXP  CHDTXP_ CHDTXPH  CHDTXPH_ FFTAXOWE  FSTAXOWE  \\\n",
       "0         2  ...    NaN        A     NaN         A    -4051       744   \n",
       "1         1  ...    NaN        A     NaN         A    -6600         0   \n",
       "2         1  ...    NaN        A     NaN         A    22325      4892   \n",
       "3         1  ...    NaN        A     NaN         A    -1400         0   \n",
       "4         1  ...    NaN        A     NaN         A    -6600      -148   \n",
       "\n",
       "   FINATXEM     Region  Education level  Income per Capita  \n",
       "0   57240.2      South      High School         659.666667  \n",
       "1   55570.0  Northeast    Master Degree       24485.000000  \n",
       "2  145383.0    Midwest  Bachelor Degree       86300.000000  \n",
       "3    8732.0    Midwest      High School        7332.000000  \n",
       "4   50555.0       West      High School       21903.500000  \n",
       "\n",
       "[5 rows x 821 columns]"
      ]
     },
     "execution_count": 9,
     "metadata": {},
     "output_type": "execute_result"
    }
   ],
   "source": [
    "fmli231.head()"
   ]
  },
  {
   "cell_type": "markdown",
   "id": "aa00806b-473e-4e0f-9824-41b54e6309a8",
   "metadata": {},
   "source": [
    "# FMLI232"
   ]
  },
  {
   "cell_type": "code",
   "execution_count": 10,
   "id": "0dc43b40-2e6d-45ef-be63-943418d15644",
   "metadata": {},
   "outputs": [],
   "source": [
    "fmli232=pd.read_csv(r'C:\\Users\\Owner\\Documents\\NSS\\Capstone\\Educationproj\\data\\intrvw23\\fmli232.csv')"
   ]
  },
  {
   "cell_type": "code",
   "execution_count": 11,
   "id": "0d25f6c5-d020-4bcc-89ed-8d6e522d1d48",
   "metadata": {},
   "outputs": [],
   "source": [
    "#region for Q2\n",
    "region232=[]\n",
    "for index, region in fmli232.iterrows():\n",
    "    if region['REGION']== 1:\n",
    "        region232.append('Northeast')\n",
    "    elif region['REGION']== 2:\n",
    "        region232.append('Midwest')\n",
    "    elif region['REGION']== 3:\n",
    "        region232.append('South')\n",
    "    elif region['REGION']== 4:\n",
    "        region232.append('West')\n",
    "    else:\n",
    "        region232.append('N/A')\n",
    "fmli232['Region']=region232"
   ]
  },
  {
   "cell_type": "code",
   "execution_count": 12,
   "id": "17882b40-69d8-4f2e-97da-fd463538c7da",
   "metadata": {},
   "outputs": [],
   "source": [
    "#EDUC FOR Q2\n",
    "educlevel232=[]\n",
    "for index, educ in fmli232.iterrows():\n",
    "    if educ['HIGH_EDU'] in {0,00,10,11}:\n",
    "        educlevel232.append('No degree')\n",
    "    elif educ['HIGH_EDU'] in {12,13}:\n",
    "        educlevel232.append('High School')\n",
    "    elif educ['HIGH_EDU'] in {14}:\n",
    "        educlevel232.append('Associate Degree')\n",
    "    elif educ['HIGH_EDU'] in {15}:\n",
    "        educlevel232.append('Bachelor Degree')\n",
    "    elif educ['HIGH_EDU'] in {16}:\n",
    "        educlevel232.append('Master Degree')\n",
    "    elif educ['HIGH_EDU'] in {17}:\n",
    "        educlevel232.append('Professional/Doctorate Degree')\n",
    "    else:\n",
    "        educlevel232.append('N/A')\n",
    "fmli232['Education level']=educlevel232"
   ]
  },
  {
   "cell_type": "code",
   "execution_count": 44,
   "id": "41dd04ae-6513-43d9-a848-c58778122757",
   "metadata": {},
   "outputs": [],
   "source": [
    "#educ_ref\n",
    "#education for Q2\n",
    "educlevel232ref=[]\n",
    "for index, educ in fmli232.iterrows():\n",
    "    if educ['EDUC_REF'] in {1,2,3,4,5,6,7,10,11}:\n",
    "        educlevel232ref.append('No degree')\n",
    "    elif educ['EDUC_REF'] in {12,13}:\n",
    "        educlevel232ref.append('High School')\n",
    "    elif educ['EDUC_REF'] in {14}:\n",
    "        educlevel232ref.append('Associate Degree')\n",
    "    elif educ['EDUC_REF'] in {15}:\n",
    "        educlevel232ref.append('Bachelor Degree')\n",
    "    elif educ['EDUC_REF'] in {16}:\n",
    "        educlevel232ref.append('Master Degree')\n",
    "    elif educ['EDUC_REF'] in {17}:\n",
    "        educlevel232ref.append('Professional/Doctorate Degree')\n",
    "    else:\n",
    "        educlevel232ref.append('N/A')\n",
    "fmli232['Education level 2']=educlevel232ref"
   ]
  },
  {
   "cell_type": "code",
   "execution_count": 13,
   "id": "bd52e274-5496-4ea0-be18-4d127ac75899",
   "metadata": {},
   "outputs": [],
   "source": [
    "#get rid of negative FINCBTAX Q2\n",
    "#idk why thats there...\n",
    "fmli232=fmli232.loc[fmli232['FINCBTAX'] >= 0]"
   ]
  },
  {
   "cell_type": "code",
   "execution_count": 14,
   "id": "956b54f5-35b2-40fb-b450-10847d63e689",
   "metadata": {},
   "outputs": [],
   "source": [
    "#Q2 calc income per capita\n",
    "fmli232['Income per Capita']= fmli232['FINCBTAX']/fmli232['FAM_SIZE']"
   ]
  },
  {
   "cell_type": "code",
   "execution_count": 36,
   "id": "e3086a74-fc61-432a-8782-127c4c8eae22",
   "metadata": {},
   "outputs": [],
   "source": [
    "#order it with the cusom order\n",
    "fmli232['Education level']=pd.Categorical(fmli232['Education level'], categories= custom_order, ordered=True)"
   ]
  },
  {
   "cell_type": "code",
   "execution_count": 49,
   "id": "fe18641f-c0f1-46d8-8277-7e46fe29d869",
   "metadata": {},
   "outputs": [],
   "source": [
    "#order it with the cusom order\n",
    "fmli232['Education level 2']=pd.Categorical(fmli232['Education level'], categories= custom_order, ordered=True)"
   ]
  },
  {
   "cell_type": "code",
   "execution_count": 15,
   "id": "7804509b-a564-408f-88af-f06ace9ee3bd",
   "metadata": {},
   "outputs": [
    {
     "data": {
      "text/html": [
       "<div>\n",
       "<style scoped>\n",
       "    .dataframe tbody tr th:only-of-type {\n",
       "        vertical-align: middle;\n",
       "    }\n",
       "\n",
       "    .dataframe tbody tr th {\n",
       "        vertical-align: top;\n",
       "    }\n",
       "\n",
       "    .dataframe thead th {\n",
       "        text-align: right;\n",
       "    }\n",
       "</style>\n",
       "<table border=\"1\" class=\"dataframe\">\n",
       "  <thead>\n",
       "    <tr style=\"text-align: right;\">\n",
       "      <th></th>\n",
       "      <th>NEWID</th>\n",
       "      <th>DIRACC</th>\n",
       "      <th>DIRACC_</th>\n",
       "      <th>AGE_REF</th>\n",
       "      <th>AGE_REF_</th>\n",
       "      <th>AGE2</th>\n",
       "      <th>AGE2_</th>\n",
       "      <th>AS_COMP1</th>\n",
       "      <th>AS_C_MP1</th>\n",
       "      <th>AS_COMP2</th>\n",
       "      <th>...</th>\n",
       "      <th>CHDTXP_</th>\n",
       "      <th>CHDTXPH</th>\n",
       "      <th>CHDTXPH_</th>\n",
       "      <th>NUM_VET</th>\n",
       "      <th>fftaxowe</th>\n",
       "      <th>fstaxowe</th>\n",
       "      <th>FINATXEM</th>\n",
       "      <th>Region</th>\n",
       "      <th>Education level</th>\n",
       "      <th>Income per Capita</th>\n",
       "    </tr>\n",
       "  </thead>\n",
       "  <tbody>\n",
       "    <tr>\n",
       "      <th>0</th>\n",
       "      <td>5090604</td>\n",
       "      <td>1.0</td>\n",
       "      <td>D</td>\n",
       "      <td>74</td>\n",
       "      <td>D</td>\n",
       "      <td>72.0</td>\n",
       "      <td>D</td>\n",
       "      <td>1</td>\n",
       "      <td>D</td>\n",
       "      <td>1</td>\n",
       "      <td>...</td>\n",
       "      <td>A</td>\n",
       "      <td>NaN</td>\n",
       "      <td>A</td>\n",
       "      <td>1</td>\n",
       "      <td>0</td>\n",
       "      <td>0</td>\n",
       "      <td>40677.0</td>\n",
       "      <td>South</td>\n",
       "      <td>Master Degree</td>\n",
       "      <td>20338.500000</td>\n",
       "    </tr>\n",
       "    <tr>\n",
       "      <th>1</th>\n",
       "      <td>5090624</td>\n",
       "      <td>1.0</td>\n",
       "      <td>D</td>\n",
       "      <td>87</td>\n",
       "      <td>T</td>\n",
       "      <td>NaN</td>\n",
       "      <td>A</td>\n",
       "      <td>0</td>\n",
       "      <td>D</td>\n",
       "      <td>1</td>\n",
       "      <td>...</td>\n",
       "      <td>A</td>\n",
       "      <td>NaN</td>\n",
       "      <td>A</td>\n",
       "      <td>0</td>\n",
       "      <td>0</td>\n",
       "      <td>0</td>\n",
       "      <td>13787.0</td>\n",
       "      <td>South</td>\n",
       "      <td>High School</td>\n",
       "      <td>13787.000000</td>\n",
       "    </tr>\n",
       "    <tr>\n",
       "      <th>2</th>\n",
       "      <td>5090634</td>\n",
       "      <td>1.0</td>\n",
       "      <td>D</td>\n",
       "      <td>58</td>\n",
       "      <td>D</td>\n",
       "      <td>NaN</td>\n",
       "      <td>A</td>\n",
       "      <td>0</td>\n",
       "      <td>D</td>\n",
       "      <td>1</td>\n",
       "      <td>...</td>\n",
       "      <td>A</td>\n",
       "      <td>NaN</td>\n",
       "      <td>A</td>\n",
       "      <td>0</td>\n",
       "      <td>20397</td>\n",
       "      <td>7544</td>\n",
       "      <td>107059.0</td>\n",
       "      <td>West</td>\n",
       "      <td>Bachelor Degree</td>\n",
       "      <td>135000.000000</td>\n",
       "    </tr>\n",
       "    <tr>\n",
       "      <th>3</th>\n",
       "      <td>5090664</td>\n",
       "      <td>1.0</td>\n",
       "      <td>D</td>\n",
       "      <td>55</td>\n",
       "      <td>D</td>\n",
       "      <td>52.0</td>\n",
       "      <td>D</td>\n",
       "      <td>1</td>\n",
       "      <td>D</td>\n",
       "      <td>1</td>\n",
       "      <td>...</td>\n",
       "      <td>A</td>\n",
       "      <td>NaN</td>\n",
       "      <td>A</td>\n",
       "      <td>0</td>\n",
       "      <td>3552</td>\n",
       "      <td>1489</td>\n",
       "      <td>57932.4</td>\n",
       "      <td>South</td>\n",
       "      <td>High School</td>\n",
       "      <td>0.000000</td>\n",
       "    </tr>\n",
       "    <tr>\n",
       "      <th>4</th>\n",
       "      <td>5090674</td>\n",
       "      <td>1.0</td>\n",
       "      <td>D</td>\n",
       "      <td>31</td>\n",
       "      <td>D</td>\n",
       "      <td>31.0</td>\n",
       "      <td>D</td>\n",
       "      <td>1</td>\n",
       "      <td>D</td>\n",
       "      <td>2</td>\n",
       "      <td>...</td>\n",
       "      <td>A</td>\n",
       "      <td>NaN</td>\n",
       "      <td>A</td>\n",
       "      <td>0</td>\n",
       "      <td>415</td>\n",
       "      <td>0</td>\n",
       "      <td>36475.0</td>\n",
       "      <td>West</td>\n",
       "      <td>High School</td>\n",
       "      <td>12473.333333</td>\n",
       "    </tr>\n",
       "  </tbody>\n",
       "</table>\n",
       "<p>5 rows × 822 columns</p>\n",
       "</div>"
      ],
      "text/plain": [
       "     NEWID  DIRACC DIRACC_  AGE_REF AGE_REF_  AGE2 AGE2_  AS_COMP1 AS_C_MP1  \\\n",
       "0  5090604     1.0       D       74        D  72.0     D         1        D   \n",
       "1  5090624     1.0       D       87        T   NaN     A         0        D   \n",
       "2  5090634     1.0       D       58        D   NaN     A         0        D   \n",
       "3  5090664     1.0       D       55        D  52.0     D         1        D   \n",
       "4  5090674     1.0       D       31        D  31.0     D         1        D   \n",
       "\n",
       "   AS_COMP2  ... CHDTXP_  CHDTXPH CHDTXPH_  NUM_VET fftaxowe  fstaxowe  \\\n",
       "0         1  ...       A      NaN        A        1        0         0   \n",
       "1         1  ...       A      NaN        A        0        0         0   \n",
       "2         1  ...       A      NaN        A        0    20397      7544   \n",
       "3         1  ...       A      NaN        A        0     3552      1489   \n",
       "4         2  ...       A      NaN        A        0      415         0   \n",
       "\n",
       "   FINATXEM  Region  Education level  Income per Capita  \n",
       "0   40677.0   South    Master Degree       20338.500000  \n",
       "1   13787.0   South      High School       13787.000000  \n",
       "2  107059.0    West  Bachelor Degree      135000.000000  \n",
       "3   57932.4   South      High School           0.000000  \n",
       "4   36475.0    West      High School       12473.333333  \n",
       "\n",
       "[5 rows x 822 columns]"
      ]
     },
     "execution_count": 15,
     "metadata": {},
     "output_type": "execute_result"
    }
   ],
   "source": [
    "fmli232.head()"
   ]
  },
  {
   "cell_type": "markdown",
   "id": "fc0acb27-c69b-41ff-8866-43a361b2eebe",
   "metadata": {},
   "source": [
    "# FMLI233"
   ]
  },
  {
   "cell_type": "code",
   "execution_count": 16,
   "id": "92521bb3-b5a2-4073-b239-65fcef54b525",
   "metadata": {},
   "outputs": [],
   "source": [
    "fmli233=pd.read_csv(r'C:\\Users\\Owner\\Documents\\NSS\\Capstone\\Educationproj\\data\\intrvw23\\fmli233.csv')"
   ]
  },
  {
   "cell_type": "code",
   "execution_count": 17,
   "id": "21052e52-d486-420e-8ab9-e4da1f12d297",
   "metadata": {},
   "outputs": [],
   "source": [
    "#region for Q3\n",
    "region233=[]\n",
    "for index, region in fmli233.iterrows():\n",
    "    if region['REGION']== 1:\n",
    "        region233.append('Northeast')\n",
    "    elif region['REGION']== 2:\n",
    "        region233.append('Midwest')\n",
    "    elif region['REGION']== 3:\n",
    "        region233.append('South')\n",
    "    elif region['REGION']== 4:\n",
    "        region233.append('West')\n",
    "    else:\n",
    "        region233.append('N/A')\n",
    "fmli233['Region']=region233"
   ]
  },
  {
   "cell_type": "code",
   "execution_count": 18,
   "id": "41210a20-4f1f-40fc-a6d1-c4b29387a430",
   "metadata": {},
   "outputs": [],
   "source": [
    "#EDUC FOR Q3\n",
    "educlevel233=[]\n",
    "for index, educ in fmli233.iterrows():\n",
    "    if educ['HIGH_EDU'] in {0,00,10,11}:\n",
    "        educlevel233.append('No degree')\n",
    "    elif educ['HIGH_EDU'] in {12,13}:\n",
    "        educlevel233.append('High School')\n",
    "    elif educ['HIGH_EDU'] in {14}:\n",
    "        educlevel233.append('Associate Degree')\n",
    "    elif educ['HIGH_EDU'] in {15}:\n",
    "        educlevel233.append('Bachelor Degree')\n",
    "    elif educ['HIGH_EDU'] in {16}:\n",
    "        educlevel233.append('Master Degree')\n",
    "    elif educ['HIGH_EDU'] in {17}:\n",
    "        educlevel233.append('Professional/Doctorate Degree')\n",
    "    else:\n",
    "        educlevel233.append('N/A')\n",
    "fmli233['Education level']=educlevel233"
   ]
  },
  {
   "cell_type": "code",
   "execution_count": 45,
   "id": "547ee2ef-aa55-4f1a-a0cf-9da5c35ff132",
   "metadata": {},
   "outputs": [],
   "source": [
    "#educ_ref\n",
    "#education for Q3\n",
    "educlevel233ref=[]\n",
    "for index, educ in fmli233.iterrows():\n",
    "    if educ['EDUC_REF'] in {1,2,3,4,5,6,7,10,11}:\n",
    "        educlevel233ref.append('No degree')\n",
    "    elif educ['EDUC_REF'] in {12,13}:\n",
    "        educlevel233ref.append('High School')\n",
    "    elif educ['EDUC_REF'] in {14}:\n",
    "        educlevel233ref.append('Associate Degree')\n",
    "    elif educ['EDUC_REF'] in {15}:\n",
    "        educlevel233ref.append('Bachelor Degree')\n",
    "    elif educ['EDUC_REF'] in {16}:\n",
    "        educlevel233ref.append('Master Degree')\n",
    "    elif educ['EDUC_REF'] in {17}:\n",
    "        educlevel233ref.append('Professional/Doctorate Degree')\n",
    "    else:\n",
    "        educlevel233ref.append('N/A')\n",
    "fmli233['Education level 2']=educlevel233ref"
   ]
  },
  {
   "cell_type": "code",
   "execution_count": 19,
   "id": "8f0c8021-2375-4705-b09a-ce4cf19bdf06",
   "metadata": {},
   "outputs": [],
   "source": [
    "#get rid of negative FINCBTAX Q3\n",
    "#idk why thats there...\n",
    "fmli233=fmli233.loc[fmli233['FINCBTAX'] >= 0]"
   ]
  },
  {
   "cell_type": "code",
   "execution_count": 20,
   "id": "f0c8bdea-563e-4008-8dcb-3e02bbbb5e51",
   "metadata": {},
   "outputs": [],
   "source": [
    "#Q3\n",
    "#calc households income per capita\n",
    "fmli233['Income per Capita']= fmli233['FINCBTAX']/fmli233['FAM_SIZE']"
   ]
  },
  {
   "cell_type": "code",
   "execution_count": 37,
   "id": "22b7dd45-b12f-4210-8b1f-70835fd3dd01",
   "metadata": {},
   "outputs": [],
   "source": [
    "#order it with the cusom order\n",
    "fmli233['Education level']=pd.Categorical(fmli233['Education level'], categories= custom_order, ordered=True)"
   ]
  },
  {
   "cell_type": "code",
   "execution_count": 48,
   "id": "ef8b6aa4-153a-4b0f-8777-fea4e72261a7",
   "metadata": {},
   "outputs": [],
   "source": [
    "#order it with the cusom order\n",
    "fmli233['Education level 2']=pd.Categorical(fmli233['Education level'], categories= custom_order, ordered=True)"
   ]
  },
  {
   "cell_type": "code",
   "execution_count": 21,
   "id": "ee059b58-082f-4a47-a700-64366355572b",
   "metadata": {},
   "outputs": [
    {
     "data": {
      "text/html": [
       "<div>\n",
       "<style scoped>\n",
       "    .dataframe tbody tr th:only-of-type {\n",
       "        vertical-align: middle;\n",
       "    }\n",
       "\n",
       "    .dataframe tbody tr th {\n",
       "        vertical-align: top;\n",
       "    }\n",
       "\n",
       "    .dataframe thead th {\n",
       "        text-align: right;\n",
       "    }\n",
       "</style>\n",
       "<table border=\"1\" class=\"dataframe\">\n",
       "  <thead>\n",
       "    <tr style=\"text-align: right;\">\n",
       "      <th></th>\n",
       "      <th>NEWID</th>\n",
       "      <th>DIRACC</th>\n",
       "      <th>DIRACC_</th>\n",
       "      <th>AGE_REF</th>\n",
       "      <th>AGE_REF_</th>\n",
       "      <th>AGE2</th>\n",
       "      <th>AGE2_</th>\n",
       "      <th>AS_COMP1</th>\n",
       "      <th>AS_C_MP1</th>\n",
       "      <th>AS_COMP2</th>\n",
       "      <th>...</th>\n",
       "      <th>CHDTXP_</th>\n",
       "      <th>CHDTXPH</th>\n",
       "      <th>CHDTXPH_</th>\n",
       "      <th>NUM_VET</th>\n",
       "      <th>FFTAXOWE</th>\n",
       "      <th>FSTAXOWE</th>\n",
       "      <th>FINATXEM</th>\n",
       "      <th>Region</th>\n",
       "      <th>Education level</th>\n",
       "      <th>Income per Capita</th>\n",
       "    </tr>\n",
       "  </thead>\n",
       "  <tbody>\n",
       "    <tr>\n",
       "      <th>0</th>\n",
       "      <td>5201374</td>\n",
       "      <td>1.0</td>\n",
       "      <td>D</td>\n",
       "      <td>23</td>\n",
       "      <td>D</td>\n",
       "      <td>NaN</td>\n",
       "      <td>A</td>\n",
       "      <td>0</td>\n",
       "      <td>D</td>\n",
       "      <td>1</td>\n",
       "      <td>...</td>\n",
       "      <td>A</td>\n",
       "      <td>NaN</td>\n",
       "      <td>A</td>\n",
       "      <td>0</td>\n",
       "      <td>1402</td>\n",
       "      <td>860</td>\n",
       "      <td>24534.8</td>\n",
       "      <td>South</td>\n",
       "      <td>Bachelor Degree</td>\n",
       "      <td>24000.000000</td>\n",
       "    </tr>\n",
       "    <tr>\n",
       "      <th>1</th>\n",
       "      <td>5201414</td>\n",
       "      <td>1.0</td>\n",
       "      <td>D</td>\n",
       "      <td>79</td>\n",
       "      <td>D</td>\n",
       "      <td>78.0</td>\n",
       "      <td>D</td>\n",
       "      <td>1</td>\n",
       "      <td>D</td>\n",
       "      <td>2</td>\n",
       "      <td>...</td>\n",
       "      <td>A</td>\n",
       "      <td>NaN</td>\n",
       "      <td>A</td>\n",
       "      <td>1</td>\n",
       "      <td>0</td>\n",
       "      <td>0</td>\n",
       "      <td>36257.0</td>\n",
       "      <td>South</td>\n",
       "      <td>High School</td>\n",
       "      <td>12085.666667</td>\n",
       "    </tr>\n",
       "    <tr>\n",
       "      <th>2</th>\n",
       "      <td>5201464</td>\n",
       "      <td>1.0</td>\n",
       "      <td>D</td>\n",
       "      <td>65</td>\n",
       "      <td>D</td>\n",
       "      <td>NaN</td>\n",
       "      <td>A</td>\n",
       "      <td>2</td>\n",
       "      <td>D</td>\n",
       "      <td>1</td>\n",
       "      <td>...</td>\n",
       "      <td>A</td>\n",
       "      <td>NaN</td>\n",
       "      <td>A</td>\n",
       "      <td>0</td>\n",
       "      <td>12192</td>\n",
       "      <td>4152</td>\n",
       "      <td>74146.0</td>\n",
       "      <td>Midwest</td>\n",
       "      <td>Master Degree</td>\n",
       "      <td>0.000000</td>\n",
       "    </tr>\n",
       "    <tr>\n",
       "      <th>3</th>\n",
       "      <td>5201474</td>\n",
       "      <td>1.0</td>\n",
       "      <td>D</td>\n",
       "      <td>72</td>\n",
       "      <td>D</td>\n",
       "      <td>NaN</td>\n",
       "      <td>A</td>\n",
       "      <td>0</td>\n",
       "      <td>D</td>\n",
       "      <td>1</td>\n",
       "      <td>...</td>\n",
       "      <td>A</td>\n",
       "      <td>NaN</td>\n",
       "      <td>A</td>\n",
       "      <td>0</td>\n",
       "      <td>0</td>\n",
       "      <td>0</td>\n",
       "      <td>16547.0</td>\n",
       "      <td>West</td>\n",
       "      <td>High School</td>\n",
       "      <td>16547.000000</td>\n",
       "    </tr>\n",
       "    <tr>\n",
       "      <th>4</th>\n",
       "      <td>5201664</td>\n",
       "      <td>1.0</td>\n",
       "      <td>D</td>\n",
       "      <td>71</td>\n",
       "      <td>D</td>\n",
       "      <td>71.0</td>\n",
       "      <td>D</td>\n",
       "      <td>2</td>\n",
       "      <td>D</td>\n",
       "      <td>2</td>\n",
       "      <td>...</td>\n",
       "      <td>A</td>\n",
       "      <td>NaN</td>\n",
       "      <td>A</td>\n",
       "      <td>0</td>\n",
       "      <td>36779</td>\n",
       "      <td>8888</td>\n",
       "      <td>238018.0</td>\n",
       "      <td>South</td>\n",
       "      <td>Master Degree</td>\n",
       "      <td>70921.250000</td>\n",
       "    </tr>\n",
       "  </tbody>\n",
       "</table>\n",
       "<p>5 rows × 822 columns</p>\n",
       "</div>"
      ],
      "text/plain": [
       "     NEWID  DIRACC DIRACC_  AGE_REF AGE_REF_  AGE2 AGE2_  AS_COMP1 AS_C_MP1  \\\n",
       "0  5201374     1.0       D       23        D   NaN     A         0        D   \n",
       "1  5201414     1.0       D       79        D  78.0     D         1        D   \n",
       "2  5201464     1.0       D       65        D   NaN     A         2        D   \n",
       "3  5201474     1.0       D       72        D   NaN     A         0        D   \n",
       "4  5201664     1.0       D       71        D  71.0     D         2        D   \n",
       "\n",
       "   AS_COMP2  ... CHDTXP_  CHDTXPH CHDTXPH_  NUM_VET FFTAXOWE  FSTAXOWE  \\\n",
       "0         1  ...       A      NaN        A        0     1402       860   \n",
       "1         2  ...       A      NaN        A        1        0         0   \n",
       "2         1  ...       A      NaN        A        0    12192      4152   \n",
       "3         1  ...       A      NaN        A        0        0         0   \n",
       "4         2  ...       A      NaN        A        0    36779      8888   \n",
       "\n",
       "   FINATXEM   Region  Education level  Income per Capita  \n",
       "0   24534.8    South  Bachelor Degree       24000.000000  \n",
       "1   36257.0    South      High School       12085.666667  \n",
       "2   74146.0  Midwest    Master Degree           0.000000  \n",
       "3   16547.0     West      High School       16547.000000  \n",
       "4  238018.0    South    Master Degree       70921.250000  \n",
       "\n",
       "[5 rows x 822 columns]"
      ]
     },
     "execution_count": 21,
     "metadata": {},
     "output_type": "execute_result"
    }
   ],
   "source": [
    "fmli233.head()"
   ]
  },
  {
   "cell_type": "markdown",
   "id": "bca54218-080b-4751-ace1-9336ff8b8a7e",
   "metadata": {},
   "source": [
    "# FMLI234"
   ]
  },
  {
   "cell_type": "code",
   "execution_count": 22,
   "id": "c0e9d38d-1f04-4f01-8544-d302ec9583c4",
   "metadata": {},
   "outputs": [],
   "source": [
    "fmli234=pd.read_csv(r'C:\\Users\\Owner\\Documents\\NSS\\Capstone\\Educationproj\\data\\intrvw23\\fmli234.csv')"
   ]
  },
  {
   "cell_type": "code",
   "execution_count": 23,
   "id": "4b7e6309-e20a-483a-baa4-b79018256847",
   "metadata": {},
   "outputs": [],
   "source": [
    "#region for Q4\n",
    "region234=[]\n",
    "for index, region in fmli234.iterrows():\n",
    "    if region['REGION']== 1:\n",
    "        region234.append('Northeast')\n",
    "    elif region['REGION']== 2:\n",
    "        region234.append('Midwest')\n",
    "    elif region['REGION']== 3:\n",
    "        region234.append('South')\n",
    "    elif region['REGION']== 4:\n",
    "        region234.append('West')\n",
    "    else:\n",
    "        region234.append('N/A')\n",
    "fmli234['Region']=region234"
   ]
  },
  {
   "cell_type": "code",
   "execution_count": 24,
   "id": "34702d51-f84e-4cd3-9fdb-6aafdd3572ed",
   "metadata": {},
   "outputs": [],
   "source": [
    "#EDUC FOR Q4\n",
    "educlevel234=[]\n",
    "for index, educ in fmli234.iterrows():\n",
    "    if educ['HIGH_EDU'] in {0,00,10,11}:\n",
    "        educlevel234.append('No degree')\n",
    "    elif educ['HIGH_EDU'] in {12,13}:\n",
    "        educlevel234.append('High School')\n",
    "    elif educ['HIGH_EDU'] in {14}:\n",
    "        educlevel234.append('Associate Degree')\n",
    "    elif educ['HIGH_EDU'] in {15}:\n",
    "        educlevel234.append('Bachelor Degree')\n",
    "    elif educ['HIGH_EDU'] in {16}:\n",
    "        educlevel234.append('Master Degree')\n",
    "    elif educ['HIGH_EDU'] in {17}:\n",
    "        educlevel234.append('Professional/Doctorate Degree')\n",
    "    else:\n",
    "        educlevel234.append('N/A')\n",
    "fmli234['Education level']=educlevel234"
   ]
  },
  {
   "cell_type": "code",
   "execution_count": 46,
   "id": "fe5ae1bb-9226-4a19-aa3f-7136ba78f227",
   "metadata": {},
   "outputs": [],
   "source": [
    "#educ_ref\n",
    "#education for Q3\n",
    "educlevel234ref=[]\n",
    "for index, educ in fmli234.iterrows():\n",
    "    if educ['EDUC_REF'] in {1,2,3,4,5,6,7,10,11}:\n",
    "        educlevel234ref.append('No degree')\n",
    "    elif educ['EDUC_REF'] in {12,13}:\n",
    "        educlevel234ref.append('High School')\n",
    "    elif educ['EDUC_REF'] in {14}:\n",
    "        educlevel234ref.append('Associate Degree')\n",
    "    elif educ['EDUC_REF'] in {15}:\n",
    "        educlevel234ref.append('Bachelor Degree')\n",
    "    elif educ['EDUC_REF'] in {16}:\n",
    "        educlevel234ref.append('Master Degree')\n",
    "    elif educ['EDUC_REF'] in {17}:\n",
    "        educlevel234ref.append('Professional/Doctorate Degree')\n",
    "    else:\n",
    "        educlevel234ref.append('N/A')\n",
    "fmli234['Education level 2']=educlevel234ref"
   ]
  },
  {
   "cell_type": "code",
   "execution_count": 25,
   "id": "c9875400-56b0-421a-aeed-8f6a7f222bff",
   "metadata": {},
   "outputs": [],
   "source": [
    "#get rid of negative FINCBTAX Q3\n",
    "#idk why thats there...\n",
    "fmli234=fmli234.loc[fmli234['FINCBTAX'] >= 0]"
   ]
  },
  {
   "cell_type": "code",
   "execution_count": 26,
   "id": "85e5079b-d266-43cc-a98c-984120a6a6fc",
   "metadata": {},
   "outputs": [],
   "source": [
    "# Q4 calc income per capita\n",
    "fmli234['Income per Capita']= fmli234['FINCBTAX']/fmli234['FAM_SIZE']"
   ]
  },
  {
   "cell_type": "code",
   "execution_count": 38,
   "id": "c30117cb-000b-4f1d-a0bb-6b28f577ef1e",
   "metadata": {},
   "outputs": [],
   "source": [
    "#order it with the cusom order\n",
    "fmli234['Education level']=pd.Categorical(fmli234['Education level'], categories= custom_order, ordered=True)"
   ]
  },
  {
   "cell_type": "code",
   "execution_count": 47,
   "id": "7312b84d-93ad-45c9-acc3-6a695e99b093",
   "metadata": {},
   "outputs": [],
   "source": [
    "#order it with the cusom order\n",
    "fmli234['Education level 2']=pd.Categorical(fmli234['Education level'], categories= custom_order, ordered=True)"
   ]
  },
  {
   "cell_type": "code",
   "execution_count": 27,
   "id": "0fba0888-70fe-480a-b1a8-b174be7322f3",
   "metadata": {},
   "outputs": [
    {
     "data": {
      "text/html": [
       "<div>\n",
       "<style scoped>\n",
       "    .dataframe tbody tr th:only-of-type {\n",
       "        vertical-align: middle;\n",
       "    }\n",
       "\n",
       "    .dataframe tbody tr th {\n",
       "        vertical-align: top;\n",
       "    }\n",
       "\n",
       "    .dataframe thead th {\n",
       "        text-align: right;\n",
       "    }\n",
       "</style>\n",
       "<table border=\"1\" class=\"dataframe\">\n",
       "  <thead>\n",
       "    <tr style=\"text-align: right;\">\n",
       "      <th></th>\n",
       "      <th>NEWID</th>\n",
       "      <th>DIRACC</th>\n",
       "      <th>DIRACC_</th>\n",
       "      <th>AGE_REF</th>\n",
       "      <th>AGE_REF_</th>\n",
       "      <th>AGE2</th>\n",
       "      <th>AGE2_</th>\n",
       "      <th>AS_COMP1</th>\n",
       "      <th>AS_C_MP1</th>\n",
       "      <th>AS_COMP2</th>\n",
       "      <th>...</th>\n",
       "      <th>CHDTXP_</th>\n",
       "      <th>CHDTXPH</th>\n",
       "      <th>CHDTXPH_</th>\n",
       "      <th>NUM_VET</th>\n",
       "      <th>fftaxowe</th>\n",
       "      <th>fstaxowe</th>\n",
       "      <th>FINATXEM</th>\n",
       "      <th>Region</th>\n",
       "      <th>Education level</th>\n",
       "      <th>Income per Capita</th>\n",
       "    </tr>\n",
       "  </thead>\n",
       "  <tbody>\n",
       "    <tr>\n",
       "      <th>0</th>\n",
       "      <td>5251754</td>\n",
       "      <td>1.0</td>\n",
       "      <td>D</td>\n",
       "      <td>39</td>\n",
       "      <td>D</td>\n",
       "      <td>39.0</td>\n",
       "      <td>D</td>\n",
       "      <td>2</td>\n",
       "      <td>D</td>\n",
       "      <td>3</td>\n",
       "      <td>...</td>\n",
       "      <td>A</td>\n",
       "      <td>NaN</td>\n",
       "      <td>A</td>\n",
       "      <td>1</td>\n",
       "      <td>2019</td>\n",
       "      <td>0</td>\n",
       "      <td>57981.0</td>\n",
       "      <td>South</td>\n",
       "      <td>High School</td>\n",
       "      <td>12000.0</td>\n",
       "    </tr>\n",
       "    <tr>\n",
       "      <th>1</th>\n",
       "      <td>5251764</td>\n",
       "      <td>1.0</td>\n",
       "      <td>D</td>\n",
       "      <td>34</td>\n",
       "      <td>D</td>\n",
       "      <td>34.0</td>\n",
       "      <td>D</td>\n",
       "      <td>1</td>\n",
       "      <td>D</td>\n",
       "      <td>1</td>\n",
       "      <td>...</td>\n",
       "      <td>A</td>\n",
       "      <td>NaN</td>\n",
       "      <td>A</td>\n",
       "      <td>0</td>\n",
       "      <td>73297</td>\n",
       "      <td>27329</td>\n",
       "      <td>286715.6</td>\n",
       "      <td>Midwest</td>\n",
       "      <td>Bachelor Degree</td>\n",
       "      <td>0.0</td>\n",
       "    </tr>\n",
       "    <tr>\n",
       "      <th>2</th>\n",
       "      <td>5251784</td>\n",
       "      <td>1.0</td>\n",
       "      <td>D</td>\n",
       "      <td>65</td>\n",
       "      <td>D</td>\n",
       "      <td>NaN</td>\n",
       "      <td>A</td>\n",
       "      <td>0</td>\n",
       "      <td>D</td>\n",
       "      <td>1</td>\n",
       "      <td>...</td>\n",
       "      <td>A</td>\n",
       "      <td>NaN</td>\n",
       "      <td>A</td>\n",
       "      <td>0</td>\n",
       "      <td>0</td>\n",
       "      <td>0</td>\n",
       "      <td>17197.0</td>\n",
       "      <td>West</td>\n",
       "      <td>Bachelor Degree</td>\n",
       "      <td>16132.0</td>\n",
       "    </tr>\n",
       "    <tr>\n",
       "      <th>3</th>\n",
       "      <td>5251854</td>\n",
       "      <td>1.0</td>\n",
       "      <td>D</td>\n",
       "      <td>49</td>\n",
       "      <td>D</td>\n",
       "      <td>NaN</td>\n",
       "      <td>A</td>\n",
       "      <td>0</td>\n",
       "      <td>D</td>\n",
       "      <td>2</td>\n",
       "      <td>...</td>\n",
       "      <td>A</td>\n",
       "      <td>NaN</td>\n",
       "      <td>A</td>\n",
       "      <td>0</td>\n",
       "      <td>8815</td>\n",
       "      <td>0</td>\n",
       "      <td>74135.0</td>\n",
       "      <td>West</td>\n",
       "      <td>Bachelor Degree</td>\n",
       "      <td>41475.0</td>\n",
       "    </tr>\n",
       "    <tr>\n",
       "      <th>4</th>\n",
       "      <td>5251874</td>\n",
       "      <td>1.0</td>\n",
       "      <td>D</td>\n",
       "      <td>42</td>\n",
       "      <td>D</td>\n",
       "      <td>NaN</td>\n",
       "      <td>A</td>\n",
       "      <td>1</td>\n",
       "      <td>D</td>\n",
       "      <td>0</td>\n",
       "      <td>...</td>\n",
       "      <td>A</td>\n",
       "      <td>NaN</td>\n",
       "      <td>A</td>\n",
       "      <td>0</td>\n",
       "      <td>6436</td>\n",
       "      <td>1969</td>\n",
       "      <td>55595.0</td>\n",
       "      <td>South</td>\n",
       "      <td>High School</td>\n",
       "      <td>64000.0</td>\n",
       "    </tr>\n",
       "  </tbody>\n",
       "</table>\n",
       "<p>5 rows × 822 columns</p>\n",
       "</div>"
      ],
      "text/plain": [
       "     NEWID  DIRACC DIRACC_  AGE_REF AGE_REF_  AGE2 AGE2_  AS_COMP1 AS_C_MP1  \\\n",
       "0  5251754     1.0       D       39        D  39.0     D         2        D   \n",
       "1  5251764     1.0       D       34        D  34.0     D         1        D   \n",
       "2  5251784     1.0       D       65        D   NaN     A         0        D   \n",
       "3  5251854     1.0       D       49        D   NaN     A         0        D   \n",
       "4  5251874     1.0       D       42        D   NaN     A         1        D   \n",
       "\n",
       "   AS_COMP2  ... CHDTXP_  CHDTXPH CHDTXPH_  NUM_VET fftaxowe  fstaxowe  \\\n",
       "0         3  ...       A      NaN        A        1     2019         0   \n",
       "1         1  ...       A      NaN        A        0    73297     27329   \n",
       "2         1  ...       A      NaN        A        0        0         0   \n",
       "3         2  ...       A      NaN        A        0     8815         0   \n",
       "4         0  ...       A      NaN        A        0     6436      1969   \n",
       "\n",
       "   FINATXEM   Region  Education level  Income per Capita  \n",
       "0   57981.0    South      High School            12000.0  \n",
       "1  286715.6  Midwest  Bachelor Degree                0.0  \n",
       "2   17197.0     West  Bachelor Degree            16132.0  \n",
       "3   74135.0     West  Bachelor Degree            41475.0  \n",
       "4   55595.0    South      High School            64000.0  \n",
       "\n",
       "[5 rows x 822 columns]"
      ]
     },
     "execution_count": 27,
     "metadata": {},
     "output_type": "execute_result"
    }
   ],
   "source": [
    "fmli234.head()"
   ]
  },
  {
   "cell_type": "markdown",
   "id": "b78da53b-dbf1-4b1a-b7a2-82731a7a1925",
   "metadata": {},
   "source": [
    "# Question 1: Do lower-income households have a lower level of education compared to high earning housholds?"
   ]
  },
  {
   "cell_type": "markdown",
   "id": "137ba1d1-4d31-4ddd-b0cd-4e16147d75ca",
   "metadata": {},
   "source": [
    "# Q1"
   ]
  },
  {
   "cell_type": "code",
   "execution_count": 28,
   "id": "8531f223-ded2-492a-8cb5-2a15b9a75def",
   "metadata": {},
   "outputs": [],
   "source": [
    "#keep relevant cols\n",
    "educincome231=fmli231[['NEWID','Region','Education level','Income per Capita']]"
   ]
  },
  {
   "cell_type": "code",
   "execution_count": 29,
   "id": "decedb16-7309-4fec-8a2e-42f2fd968a09",
   "metadata": {},
   "outputs": [],
   "source": [
    "#clean up the data\n",
    "#get rid of N/A vlaues from education\n",
    "#get rid of N/A vlaues from region\n",
    "    #group by region since income varies between region and it could offer more in depth insight\n",
    "educincome231=educincome231.loc[educincome231['Region'] != 'N/A']\n",
    "educincome231=educincome231.loc[educincome231['Education level'] != 'N/A']"
   ]
  },
  {
   "cell_type": "code",
   "execution_count": 32,
   "id": "20901de1-bc0f-49ab-beec-53f8f3d903fc",
   "metadata": {},
   "outputs": [
    {
     "name": "stderr",
     "output_type": "stream",
     "text": [
      "C:\\Users\\Owner\\AppData\\Local\\Temp\\ipykernel_19920\\1424022048.py:1: FutureWarning: The default of observed=False is deprecated and will be changed to True in a future version of pandas. Pass observed=False to retain current behavior or observed=True to adopt the future default and silence this warning.\n",
      "  educincome231avg=round(educincome231.groupby(['Region','Education level'])['Income per Capita'].mean(),2)\n"
     ]
    }
   ],
   "source": [
    "educincome231avg=round(educincome231.groupby(['Region','Education level'])['Income per Capita'].mean(),2)"
   ]
  },
  {
   "cell_type": "code",
   "execution_count": 33,
   "id": "653bfaba-d21f-4c1f-9002-d1e2758ac0bc",
   "metadata": {},
   "outputs": [
    {
     "name": "stderr",
     "output_type": "stream",
     "text": [
      "C:\\Users\\Owner\\AppData\\Local\\Temp\\ipykernel_19920\\1803680124.py:1: FutureWarning: The default of observed=False is deprecated and will be changed to True in a future version of pandas. Pass observed=False to retain current behavior or observed=True to adopt the future default and silence this warning.\n",
      "  educincome231median=round(educincome231.groupby(['Region','Education level'])['Income per Capita'].median(),2)\n"
     ]
    }
   ],
   "source": [
    "educincome231median=round(educincome231.groupby(['Region','Education level'])['Income per Capita'].median(),2)"
   ]
  },
  {
   "cell_type": "code",
   "execution_count": 35,
   "id": "045a6d0c-2f8e-4493-bc59-5e62fb193e25",
   "metadata": {},
   "outputs": [
    {
     "data": {
      "text/plain": [
       "Region     Education level \n",
       "Midwest    No degree           18598.70\n",
       "           High School         25939.67\n",
       "           Associate Degree    35068.33\n",
       "           Bachelor Degree     48396.44\n",
       "           Master Degree       59122.67\n",
       "Northeast  No degree           22729.86\n",
       "           High School         29851.48\n",
       "           Associate Degree    39454.08\n",
       "           Bachelor Degree     60466.30\n",
       "           Master Degree       67904.39\n",
       "South      No degree           16876.72\n",
       "           High School         24013.10\n",
       "           Associate Degree    31020.68\n",
       "           Bachelor Degree     46674.04\n",
       "           Master Degree       63440.71\n",
       "West       No degree           15081.63\n",
       "           High School         28340.41\n",
       "           Associate Degree    32750.64\n",
       "           Bachelor Degree     55155.54\n",
       "           Master Degree       67780.80\n",
       "Name: Income per Capita, dtype: float64"
      ]
     },
     "execution_count": 35,
     "metadata": {},
     "output_type": "execute_result"
    }
   ],
   "source": [
    "educincome231avg"
   ]
  },
  {
   "cell_type": "code",
   "execution_count": 33,
   "id": "4d3d21cb-7a36-479a-b62b-d7fb2747496f",
   "metadata": {},
   "outputs": [
    {
     "data": {
      "text/plain": [
       "Region     Education level \n",
       "Midwest    No degree           15000.00\n",
       "           High School         20003.75\n",
       "           Associate Degree    31196.50\n",
       "           Bachelor Degree     38825.50\n",
       "           Master Degree       48295.67\n",
       "Northeast  No degree           17482.00\n",
       "           High School         21380.25\n",
       "           Associate Degree    29547.50\n",
       "           Bachelor Degree     44749.00\n",
       "           Master Degree       50000.00\n",
       "South      No degree           14500.00\n",
       "           High School         18872.83\n",
       "           Associate Degree    25350.00\n",
       "           Bachelor Degree     35000.00\n",
       "           Master Degree       48000.00\n",
       "West       No degree           13475.50\n",
       "           High School         21903.50\n",
       "           Associate Degree    25123.00\n",
       "           Bachelor Degree     41250.00\n",
       "           Master Degree       48050.00\n",
       "Name: Income per Capita, dtype: float64"
      ]
     },
     "execution_count": 33,
     "metadata": {},
     "output_type": "execute_result"
    }
   ],
   "source": [
    "educincome231median"
   ]
  },
  {
   "cell_type": "code",
   "execution_count": 34,
   "id": "ed97a743-d9ff-4141-9931-906dd6662391",
   "metadata": {},
   "outputs": [],
   "source": [
    "import seaborn as sns\n",
    "import pandas as pd\n",
    "import matplotlib.pyplot as plt"
   ]
  },
  {
   "cell_type": "code",
   "execution_count": 35,
   "id": "2a7e756c-8018-4e0e-af38-7b969a985c85",
   "metadata": {},
   "outputs": [],
   "source": [
    "eeducincome231avgdf = educincome231avg.reset_index()"
   ]
  },
  {
   "cell_type": "code",
   "execution_count": 36,
   "id": "2390ae79-412b-4189-861a-cfba525fa41d",
   "metadata": {},
   "outputs": [
    {
     "data": {
      "image/png": "[encoded data removed]",
      "text/plain": [
       "<Figure size 1000x800 with 1 Axes>"
      ]
     },
     "metadata": {},
     "output_type": "display_data"
    }
   ],
   "source": [
    "#pick abother coloe scheme!\n",
    "plt.figure(figsize=(10, 8))\n",
    "sns.barplot(data=eeducincome231avgdf, x=\"Region\", y=\"Income per Capita\", hue=\"Education level\")\n",
    "plt.title(\"Average Income per Capita by Region and Education Level\")\n",
    "plt.xlabel(\"Region\")\n",
    "plt.ylabel(\"Income per Capita (USD)\")\n",
    "plt.legend(title=\"Education Level\")\n",
    "plt.show()"
   ]
  },
  {
   "cell_type": "markdown",
   "id": "9852e202-d419-4b4a-b47b-e548d569e238",
   "metadata": {},
   "source": [
    "# Q2 "
   ]
  },
  {
   "cell_type": "code",
   "execution_count": 37,
   "id": "e45ed555-b75f-40fd-a2b0-e3915939c2f3",
   "metadata": {},
   "outputs": [],
   "source": [
    "#keep relevant cols\n",
    "educincome232=fmli232[['NEWID','Region','Education level','Income per Capita']]"
   ]
  },
  {
   "cell_type": "code",
   "execution_count": 38,
   "id": "6137fa74-777f-45ed-8a79-f5c4964b69d0",
   "metadata": {},
   "outputs": [],
   "source": [
    "#clean up N/A from region and education level \n",
    "educincome232=educincome232.loc[educincome232['Region'] != 'N/A' ]\n",
    "educincome232=educincome232.loc[educincome232['Education level'] != 'N/A' ]"
   ]
  },
  {
   "cell_type": "code",
   "execution_count": 40,
   "id": "927b1724-6ced-4a76-9b94-722903c222a3",
   "metadata": {},
   "outputs": [
    {
     "name": "stderr",
     "output_type": "stream",
     "text": [
      "C:\\Users\\Owner\\AppData\\Local\\Temp\\ipykernel_17276\\4034586373.py:2: FutureWarning: The default of observed=False is deprecated and will be changed to True in a future version of pandas. Pass observed=False to retain current behavior or observed=True to adopt the future default and silence this warning.\n",
      "  educincome232avg=round(educincome232.groupby(['Region','Education level'])['Income per Capita'].mean(),2)\n"
     ]
    }
   ],
   "source": [
    "#avg houshold income per capita per region and educ level\n",
    "educincome232avg=round(educincome232.groupby(['Region','Education level'])['Income per Capita'].mean(),2)"
   ]
  },
  {
   "cell_type": "code",
   "execution_count": 41,
   "id": "de2c2113-7e3b-49fb-a8da-fb16e2ef5715",
   "metadata": {},
   "outputs": [
    {
     "name": "stderr",
     "output_type": "stream",
     "text": [
      "C:\\Users\\Owner\\AppData\\Local\\Temp\\ipykernel_17276\\3698810780.py:1: FutureWarning: The default of observed=False is deprecated and will be changed to True in a future version of pandas. Pass observed=False to retain current behavior or observed=True to adopt the future default and silence this warning.\n",
      "  educincome232median=round(educincome232.groupby(['Region','Education level'])['Income per Capita'].median(),2)\n"
     ]
    }
   ],
   "source": [
    "educincome232median=round(educincome232.groupby(['Region','Education level'])['Income per Capita'].median(),2)"
   ]
  },
  {
   "cell_type": "code",
   "execution_count": 42,
   "id": "6f2d2084-06da-4726-91e8-6ba6c85ef3d1",
   "metadata": {},
   "outputs": [
    {
     "data": {
      "text/plain": [
       "Region     Education level \n",
       "Midwest    No degree           17661.81\n",
       "           High School         28261.26\n",
       "           Associate Degree    35864.02\n",
       "           Bachelor Degree     50680.08\n",
       "           Master Degree       54713.32\n",
       "Northeast  No degree           19136.78\n",
       "           High School         32444.67\n",
       "           Associate Degree    34995.57\n",
       "           Bachelor Degree     58459.54\n",
       "           Master Degree       78148.93\n",
       "South      No degree           16294.17\n",
       "           High School         23798.18\n",
       "           Associate Degree    30688.81\n",
       "           Bachelor Degree     46313.80\n",
       "           Master Degree       65259.70\n",
       "West       No degree           21701.82\n",
       "           High School         30830.51\n",
       "           Associate Degree    34608.67\n",
       "           Bachelor Degree     56114.20\n",
       "           Master Degree       66927.94\n",
       "Name: Income per Capita, dtype: float64"
      ]
     },
     "execution_count": 42,
     "metadata": {},
     "output_type": "execute_result"
    }
   ],
   "source": [
    "educincome232avg"
   ]
  },
  {
   "cell_type": "code",
   "execution_count": 43,
   "id": "bec14656-749d-4959-b54a-c7c5e1357677",
   "metadata": {},
   "outputs": [
    {
     "data": {
      "text/plain": [
       "Region     Education level \n",
       "Midwest    No degree           15000.00\n",
       "           High School         22062.50\n",
       "           Associate Degree    29925.00\n",
       "           Bachelor Degree     37000.50\n",
       "           Master Degree       47612.00\n",
       "Northeast  No degree           14981.00\n",
       "           High School         22250.00\n",
       "           Associate Degree    30150.00\n",
       "           Bachelor Degree     42889.50\n",
       "           Master Degree       58000.00\n",
       "South      No degree           13979.00\n",
       "           High School         17209.75\n",
       "           Associate Degree    24253.75\n",
       "           Bachelor Degree     34000.00\n",
       "           Master Degree       46105.60\n",
       "West       No degree           15406.50\n",
       "           High School         21708.33\n",
       "           Associate Degree    27263.67\n",
       "           Bachelor Degree     40770.00\n",
       "           Master Degree       50000.00\n",
       "Name: Income per Capita, dtype: float64"
      ]
     },
     "execution_count": 43,
     "metadata": {},
     "output_type": "execute_result"
    }
   ],
   "source": [
    "educincome232median"
   ]
  },
  {
   "cell_type": "code",
   "execution_count": 44,
   "id": "63923358-1737-423c-863c-4b5e7dac5e56",
   "metadata": {},
   "outputs": [],
   "source": [
    "#make a visulizations...."
   ]
  },
  {
   "cell_type": "markdown",
   "id": "a7df0de8-cb4c-4e5b-9a93-91e2b3ac044e",
   "metadata": {},
   "source": [
    "# Q3"
   ]
  },
  {
   "cell_type": "code",
   "execution_count": 45,
   "id": "1d40ca1f-0c07-4611-8592-a15e6a219211",
   "metadata": {},
   "outputs": [],
   "source": [
    "#keep relevant cols\n",
    "educincome233=fmli233[['NEWID','Region','Education level','Income per Capita']]"
   ]
  },
  {
   "cell_type": "code",
   "execution_count": 46,
   "id": "2a80ba5f-5455-4883-a9b3-ba693eb4ed78",
   "metadata": {},
   "outputs": [],
   "source": [
    "#get rid of N/A vlaue from region and education levels\n",
    "educincome233=educincome233[educincome233['Education level'] != 'N/A']\n",
    "educincome233=educincome233[educincome233['Region'] != 'N/A']"
   ]
  },
  {
   "cell_type": "code",
   "execution_count": 48,
   "id": "1fe1f249-8a1c-4140-bc1c-2f7214dc1179",
   "metadata": {},
   "outputs": [
    {
     "name": "stderr",
     "output_type": "stream",
     "text": [
      "C:\\Users\\Owner\\AppData\\Local\\Temp\\ipykernel_17276\\2115042590.py:1: FutureWarning: The default of observed=False is deprecated and will be changed to True in a future version of pandas. Pass observed=False to retain current behavior or observed=True to adopt the future default and silence this warning.\n",
      "  educincome233regionavg= educincome233.groupby(['Region','Education level'])['Income per Capita'].mean()\n"
     ]
    }
   ],
   "source": [
    "educincome233regionavg= educincome233.groupby(['Region','Education level'])['Income per Capita'].mean()"
   ]
  },
  {
   "cell_type": "code",
   "execution_count": 49,
   "id": "7bb26c4c-a50c-4eae-acf7-d9852b1a2e85",
   "metadata": {},
   "outputs": [
    {
     "name": "stderr",
     "output_type": "stream",
     "text": [
      "C:\\Users\\Owner\\AppData\\Local\\Temp\\ipykernel_17276\\1643909058.py:1: FutureWarning: The default of observed=False is deprecated and will be changed to True in a future version of pandas. Pass observed=False to retain current behavior or observed=True to adopt the future default and silence this warning.\n",
      "  educincome233regionmedian= educincome233.groupby(['Region','Education level'])['Income per Capita'].median()\n"
     ]
    }
   ],
   "source": [
    "educincome233regionmedian= educincome233.groupby(['Region','Education level'])['Income per Capita'].median()"
   ]
  },
  {
   "cell_type": "code",
   "execution_count": 50,
   "id": "6a557bb6-e343-425a-8d7b-8bef9d7f6902",
   "metadata": {},
   "outputs": [
    {
     "data": {
      "text/plain": [
       "Region     Education level \n",
       "Midwest    No degree           17584.237434\n",
       "           High School         30656.005104\n",
       "           Associate Degree    34799.601701\n",
       "           Bachelor Degree     46963.370917\n",
       "           Master Degree       55425.884722\n",
       "Northeast  No degree           18106.768519\n",
       "           High School         26268.540926\n",
       "           Associate Degree    36800.032540\n",
       "           Bachelor Degree     55972.198492\n",
       "           Master Degree       72070.237332\n",
       "South      No degree           15535.194205\n",
       "           High School         23267.641467\n",
       "           Associate Degree    28767.751799\n",
       "           Bachelor Degree     42458.650641\n",
       "           Master Degree       61938.754834\n",
       "West       No degree           14425.368280\n",
       "           High School         29466.357336\n",
       "           Associate Degree    31198.684411\n",
       "           Bachelor Degree     55612.145993\n",
       "           Master Degree       75058.264669\n",
       "Name: Income per Capita, dtype: float64"
      ]
     },
     "execution_count": 50,
     "metadata": {},
     "output_type": "execute_result"
    }
   ],
   "source": [
    "educincome233regionavg"
   ]
  },
  {
   "cell_type": "code",
   "execution_count": 51,
   "id": "bd31d2ca-c659-4fa3-afb6-7f75e815901d",
   "metadata": {},
   "outputs": [
    {
     "data": {
      "text/plain": [
       "Region     Education level \n",
       "Midwest    No degree           15787.500000\n",
       "           High School         23127.000000\n",
       "           Associate Degree    28877.250000\n",
       "           Bachelor Degree     37001.000000\n",
       "           Master Degree       45389.000000\n",
       "Northeast  No degree           13990.250000\n",
       "           High School         20000.000000\n",
       "           Associate Degree    28666.666667\n",
       "           Bachelor Degree     42333.333333\n",
       "           Master Degree       58384.250000\n",
       "South      No degree           14369.000000\n",
       "           High School         17855.000000\n",
       "           Associate Degree    24341.500000\n",
       "           Bachelor Degree     33256.166667\n",
       "           Master Degree       48200.000000\n",
       "West       No degree           11940.000000\n",
       "           High School         22340.500000\n",
       "           Associate Degree    26039.500000\n",
       "           Bachelor Degree     41397.500000\n",
       "           Master Degree       54876.666667\n",
       "Name: Income per Capita, dtype: float64"
      ]
     },
     "execution_count": 51,
     "metadata": {},
     "output_type": "execute_result"
    }
   ],
   "source": [
    "educincome233regionmedian"
   ]
  },
  {
   "cell_type": "code",
   "execution_count": 52,
   "id": "b9fc8257-0857-4310-8efd-5d67190d3a87",
   "metadata": {},
   "outputs": [],
   "source": [
    "#plots...."
   ]
  },
  {
   "cell_type": "markdown",
   "id": "5da87d8b-e42e-4d2f-b369-b0493dbf6d8d",
   "metadata": {},
   "source": [
    "# Q4"
   ]
  },
  {
   "cell_type": "code",
   "execution_count": 53,
   "id": "e6b4e886-d3e0-46e8-8e56-f5a4bf9162aa",
   "metadata": {},
   "outputs": [],
   "source": [
    "#keep relevant cols\n",
    "educincome234= fmli234[['NEWID', 'Region', 'Education level', 'Income per Capita']]"
   ]
  },
  {
   "cell_type": "code",
   "execution_count": 54,
   "id": "de74e8a3-1217-4f3c-a922-618ba7478de3",
   "metadata": {},
   "outputs": [],
   "source": [
    "#clean up data\n",
    "#remove N/A vlaues from educ and region\n",
    "educincome234= educincome234.loc[educincome234['Region'] != 'N/A']\n",
    "educincome234= educincome234.loc[educincome234['Education level'] != 'N/A']"
   ]
  },
  {
   "cell_type": "code",
   "execution_count": 55,
   "id": "165f8c66-40fc-4063-b28f-6ce01a5303ff",
   "metadata": {},
   "outputs": [
    {
     "data": {
      "text/html": [
       "<div>\n",
       "<style scoped>\n",
       "    .dataframe tbody tr th:only-of-type {\n",
       "        vertical-align: middle;\n",
       "    }\n",
       "\n",
       "    .dataframe tbody tr th {\n",
       "        vertical-align: top;\n",
       "    }\n",
       "\n",
       "    .dataframe thead th {\n",
       "        text-align: right;\n",
       "    }\n",
       "</style>\n",
       "<table border=\"1\" class=\"dataframe\">\n",
       "  <thead>\n",
       "    <tr style=\"text-align: right;\">\n",
       "      <th></th>\n",
       "      <th>NEWID</th>\n",
       "      <th>Region</th>\n",
       "      <th>Education level</th>\n",
       "      <th>Income per Capita</th>\n",
       "    </tr>\n",
       "  </thead>\n",
       "  <tbody>\n",
       "    <tr>\n",
       "      <th>1</th>\n",
       "      <td>5251764</td>\n",
       "      <td>Midwest</td>\n",
       "      <td>Bachelor Degree</td>\n",
       "      <td>0.0</td>\n",
       "    </tr>\n",
       "    <tr>\n",
       "      <th>6</th>\n",
       "      <td>5251904</td>\n",
       "      <td>South</td>\n",
       "      <td>High School</td>\n",
       "      <td>0.0</td>\n",
       "    </tr>\n",
       "    <tr>\n",
       "      <th>11</th>\n",
       "      <td>5252104</td>\n",
       "      <td>South</td>\n",
       "      <td>Bachelor Degree</td>\n",
       "      <td>0.0</td>\n",
       "    </tr>\n",
       "    <tr>\n",
       "      <th>47</th>\n",
       "      <td>5253184</td>\n",
       "      <td>South</td>\n",
       "      <td>Bachelor Degree</td>\n",
       "      <td>0.0</td>\n",
       "    </tr>\n",
       "    <tr>\n",
       "      <th>59</th>\n",
       "      <td>5253564</td>\n",
       "      <td>South</td>\n",
       "      <td>Bachelor Degree</td>\n",
       "      <td>0.0</td>\n",
       "    </tr>\n",
       "    <tr>\n",
       "      <th>...</th>\n",
       "      <td>...</td>\n",
       "      <td>...</td>\n",
       "      <td>...</td>\n",
       "      <td>...</td>\n",
       "    </tr>\n",
       "    <tr>\n",
       "      <th>4573</th>\n",
       "      <td>5571091</td>\n",
       "      <td>West</td>\n",
       "      <td>High School</td>\n",
       "      <td>0.0</td>\n",
       "    </tr>\n",
       "    <tr>\n",
       "      <th>4580</th>\n",
       "      <td>5571291</td>\n",
       "      <td>West</td>\n",
       "      <td>No degree</td>\n",
       "      <td>0.0</td>\n",
       "    </tr>\n",
       "    <tr>\n",
       "      <th>4597</th>\n",
       "      <td>5571801</td>\n",
       "      <td>West</td>\n",
       "      <td>Master Degree</td>\n",
       "      <td>0.0</td>\n",
       "    </tr>\n",
       "    <tr>\n",
       "      <th>4628</th>\n",
       "      <td>5572621</td>\n",
       "      <td>South</td>\n",
       "      <td>Bachelor Degree</td>\n",
       "      <td>0.0</td>\n",
       "    </tr>\n",
       "    <tr>\n",
       "      <th>4650</th>\n",
       "      <td>5573141</td>\n",
       "      <td>Northeast</td>\n",
       "      <td>High School</td>\n",
       "      <td>0.0</td>\n",
       "    </tr>\n",
       "  </tbody>\n",
       "</table>\n",
       "<p>339 rows × 4 columns</p>\n",
       "</div>"
      ],
      "text/plain": [
       "        NEWID     Region  Education level  Income per Capita\n",
       "1     5251764    Midwest  Bachelor Degree                0.0\n",
       "6     5251904      South      High School                0.0\n",
       "11    5252104      South  Bachelor Degree                0.0\n",
       "47    5253184      South  Bachelor Degree                0.0\n",
       "59    5253564      South  Bachelor Degree                0.0\n",
       "...       ...        ...              ...                ...\n",
       "4573  5571091       West      High School                0.0\n",
       "4580  5571291       West        No degree                0.0\n",
       "4597  5571801       West    Master Degree                0.0\n",
       "4628  5572621      South  Bachelor Degree                0.0\n",
       "4650  5573141  Northeast      High School                0.0\n",
       "\n",
       "[339 rows x 4 columns]"
      ]
     },
     "execution_count": 55,
     "metadata": {},
     "output_type": "execute_result"
    }
   ],
   "source": [
    "#should ig et rid of these ????????????????\n",
    "educincome234.loc[educincome234['Income per Capita'] == 0]"
   ]
  },
  {
   "cell_type": "code",
   "execution_count": 57,
   "id": "46bf7c48-cbb1-4d75-8a58-79b207b490da",
   "metadata": {},
   "outputs": [
    {
     "name": "stderr",
     "output_type": "stream",
     "text": [
      "C:\\Users\\Owner\\AppData\\Local\\Temp\\ipykernel_17276\\3131840422.py:2: FutureWarning: The default of observed=False is deprecated and will be changed to True in a future version of pandas. Pass observed=False to retain current behavior or observed=True to adopt the future default and silence this warning.\n",
      "  educincome234avg= round(educincome234.groupby(['Region','Education level'])['Income per Capita'].mean(),2)\n"
     ]
    }
   ],
   "source": [
    "#avg icome per capita per region and education level\n",
    "educincome234avg= round(educincome234.groupby(['Region','Education level'])['Income per Capita'].mean(),2)"
   ]
  },
  {
   "cell_type": "code",
   "execution_count": 58,
   "id": "94cafdad-5565-45f9-adcc-c328c964fec4",
   "metadata": {},
   "outputs": [
    {
     "data": {
      "text/plain": [
       "Region     Education level \n",
       "Midwest    No degree           18203.17\n",
       "           High School         30329.60\n",
       "           Associate Degree    31254.20\n",
       "           Bachelor Degree     49138.18\n",
       "           Master Degree       59967.28\n",
       "Northeast  No degree           15752.34\n",
       "           High School         26120.02\n",
       "           Associate Degree    33191.91\n",
       "           Bachelor Degree     52128.44\n",
       "           Master Degree       68843.70\n",
       "South      No degree           18177.86\n",
       "           High School         23728.89\n",
       "           Associate Degree    29620.55\n",
       "           Bachelor Degree     45638.46\n",
       "           Master Degree       61033.53\n",
       "West       No degree           17813.48\n",
       "           High School         31070.14\n",
       "           Associate Degree    36289.84\n",
       "           Bachelor Degree     57170.26\n",
       "           Master Degree       84806.29\n",
       "Name: Income per Capita, dtype: float64"
      ]
     },
     "execution_count": 58,
     "metadata": {},
     "output_type": "execute_result"
    }
   ],
   "source": [
    "educincome234avg"
   ]
  },
  {
   "cell_type": "code",
   "execution_count": 59,
   "id": "48071e17-d8df-42a3-94c8-21f6d32c1e7c",
   "metadata": {},
   "outputs": [
    {
     "name": "stderr",
     "output_type": "stream",
     "text": [
      "C:\\Users\\Owner\\AppData\\Local\\Temp\\ipykernel_17276\\2236595054.py:2: FutureWarning: The default of observed=False is deprecated and will be changed to True in a future version of pandas. Pass observed=False to retain current behavior or observed=True to adopt the future default and silence this warning.\n",
      "  educincome234median= round(educincome234.groupby(['Region','Education level'])['Income per Capita'].median(),2)\n"
     ]
    }
   ],
   "source": [
    "#median icome per capita per region and education level to account for varrying level of income per region and educ level\n",
    "educincome234median= round(educincome234.groupby(['Region','Education level'])['Income per Capita'].median(),2)"
   ]
  },
  {
   "cell_type": "code",
   "execution_count": 60,
   "id": "23a8e981-07eb-4aef-9762-ec670a2cbbc0",
   "metadata": {},
   "outputs": [
    {
     "data": {
      "text/plain": [
       "Region     Education level \n",
       "Midwest    No degree           14672.17\n",
       "           High School         24879.00\n",
       "           Associate Degree    27500.00\n",
       "           Bachelor Degree     35000.00\n",
       "           Master Degree       50000.00\n",
       "Northeast  No degree           13834.50\n",
       "           High School         20242.00\n",
       "           Associate Degree    27007.17\n",
       "           Bachelor Degree     42111.00\n",
       "           Master Degree       51477.33\n",
       "South      No degree           13784.00\n",
       "           High School         17851.00\n",
       "           Associate Degree    24779.00\n",
       "           Bachelor Degree     33489.50\n",
       "           Master Degree       42792.62\n",
       "West       No degree           13759.50\n",
       "           High School         22412.00\n",
       "           Associate Degree    29183.95\n",
       "           Bachelor Degree     40689.50\n",
       "           Master Degree       58425.33\n",
       "Name: Income per Capita, dtype: float64"
      ]
     },
     "execution_count": 60,
     "metadata": {},
     "output_type": "execute_result"
    }
   ],
   "source": [
    "educincome234median"
   ]
  },
  {
   "cell_type": "code",
   "execution_count": 61,
   "id": "d168b9a5-590d-441e-80b1-3cf5bfb53a19",
   "metadata": {},
   "outputs": [],
   "source": [
    "#visualizations........"
   ]
  },
  {
   "cell_type": "markdown",
   "id": "36e258dc-808b-402c-be95-89b03bb681b3",
   "metadata": {},
   "source": [
    "# Question 2: Do households with higher education levels demonstrate more prudent spending patterns? \n",
    "a. Do higher educated households spend a lower percentage of their income on non-essentials compared to lower educated households?\n"
   ]
  },
  {
   "cell_type": "markdown",
   "id": "e335cbd5-b643-474b-a96b-11dd70717061",
   "metadata": {},
   "source": [
    "Q1"
   ]
  },
  {
   "cell_type": "code",
   "execution_count": 62,
   "id": "c0fecfc4-474c-42b8-87cc-fc59d1e934aa",
   "metadata": {},
   "outputs": [],
   "source": [
    "#clean up: get rid of N/A region and Educ cols\n",
    "fmli231spending=fmli231.loc[(fmli231['Region']!= 'N/A') & (fmli231['Education level'] != 'N/A')]"
   ]
  },
  {
   "cell_type": "code",
   "execution_count": 63,
   "id": "1ce34824-466f-4b3c-aa63-ddd4d97dea4d",
   "metadata": {},
   "outputs": [],
   "source": [
    "#read in MTBI\n",
    "mtbi231=pd.read_csv(r\"C:\\Users\\Owner\\Documents\\NSS\\Capstone\\Educationproj\\data\\intrvw22\\mtbi231.csv\")"
   ]
  },
  {
   "cell_type": "code",
   "execution_count": 64,
   "id": "09cb25a7-4e2c-436d-87e5-c8ac7868df86",
   "metadata": {},
   "outputs": [],
   "source": [
    "#Categorize the UCC codes\n",
    "nonessentials=[]\n",
    "for index, nonessential in mtbi231.iterrows():\n",
    "    if nonessential['UCC'] in {620212,620213,620215,620216,620222,620221,610900,620903,620926}:\n",
    "        nonessentials.append('Entertainmnet and Recreation')\n",
    "    elif nonessential['UCC'] in {430110,430120,640420}:\n",
    "        nonessentials.append('Luxury Purchases')\n",
    "    elif nonessential['UCC'] in {530110, 210210,530901, 680905,430130}:\n",
    "        nonessentials.append('Vacation and Travel')\n",
    "    elif nonessential['UCC'] in {450220,460902,520902,600132,600141,600110,600121,600122,600131,620919,620909,620907,620906,620921}:\n",
    "        nonessentials.append('Vehicles and Watercrafts')\n",
    "    elif nonessential['UCC'] in {620930,310350,310231,310243,310316,310314,310140,310231,310243,310232,310333,310400,340902,620917}:\n",
    "        nonessentials.append('Technology')\n",
    "    elif nonessential['UCC'] in {790330,790410,200900}: #790410 for dining out in MTBI231\n",
    "        nonessentials.append('Dining out and Alcoholic Beverages')\n",
    "    elif nonessential['UCC'] in {290430,280220,320233,320903,320904,990920,320345}:\n",
    "        nonessentials.append('Home Aesthetics')\n",
    "    elif nonessential['UCC'] in {340310,620112,680904,620918}:\n",
    "        nonessentials.append('Services')\n",
    "    else:\n",
    "        nonessentials.append('N/A')\n",
    "mtbi231['Non-essential']=nonessentials"
   ]
  },
  {
   "cell_type": "code",
   "execution_count": 65,
   "id": "16b89e84-1d52-45e6-8abd-b91895bd01b1",
   "metadata": {},
   "outputs": [],
   "source": [
    "#Clean mtbi: exclude 2022 itmes (Ref does not equal 2022)\n",
    "mtbi231=mtbi231.loc[mtbi231['REF_YR'] != 2022]"
   ]
  },
  {
   "cell_type": "code",
   "execution_count": 66,
   "id": "89c5476d-9da4-48dd-bd84-420fd408dbde",
   "metadata": {},
   "outputs": [],
   "source": [
    "#get rid of negative cost values\n",
    "mtbi231 = mtbi231.loc[mtbi231['COST'] >= 0]"
   ]
  },
  {
   "cell_type": "code",
   "execution_count": 67,
   "id": "2536317f-f831-4401-9b95-ce6f33b64924",
   "metadata": {},
   "outputs": [],
   "source": [
    "#merge data \n",
    "spending231= pd.merge(fmli231spending, mtbi231, on='NEWID', how='inner')"
   ]
  },
  {
   "cell_type": "code",
   "execution_count": 68,
   "id": "b14ef9b6-a376-4fac-ab80-b27250bf8c17",
   "metadata": {},
   "outputs": [],
   "source": [
    "#keep relevant columns from fmli and mtbi\n",
    "spending231=spending231[['NEWID','Region','Education level','FINCBTAX','Income per Capita','COST', 'UCC']]"
   ]
  },
  {
   "cell_type": "code",
   "execution_count": 69,
   "id": "f500328c-4aca-4475-ab1a-c39e8404cd75",
   "metadata": {},
   "outputs": [],
   "source": [
    "#get rid of 0 vlaues in income per capita \n",
    "spending231=spending231.loc[spending231['Income per Capita'] != 0]"
   ]
  },
  {
   "cell_type": "code",
   "execution_count": 70,
   "id": "6508ebdf-d202-415a-81b4-025830d350e4",
   "metadata": {},
   "outputs": [],
   "source": [
    "#percentage of income per capita spent on non-essentials \n",
    "spending231['Non-essential expenditure % per capita'] = spending231['COST'] / spending231['Income per Capita']*100"
   ]
  },
  {
   "cell_type": "code",
   "execution_count": 71,
   "id": "84ccd6f4-60a7-4bb6-b827-59877638a6ee",
   "metadata": {},
   "outputs": [],
   "source": [
    "spending231['Non-essential expenditure per capita'] = spending231['Income per Capita']-spending231['COST']"
   ]
  },
  {
   "cell_type": "code",
   "execution_count": 72,
   "id": "ccf70576-43b4-463c-a667-60f63baaca43",
   "metadata": {},
   "outputs": [],
   "source": [
    "#avg percentage of income spent on non-essentials per region and education\n",
    "#Region: to account for price differences between regions\n",
    "percspending231avg=round(spending231.groupby(['Region', 'Education level'])['Non-essential expenditure % per capita'].mean(),2)"
   ]
  },
  {
   "cell_type": "code",
   "execution_count": 73,
   "id": "84cde78a-f215-440f-905e-c8aaf911891d",
   "metadata": {},
   "outputs": [
    {
     "data": {
      "text/plain": [
       "Region     Education level \n",
       "Midwest    Associate Degree      2.79\n",
       "           Bachelor Degree       3.11\n",
       "           High School          11.05\n",
       "           Master Degree         3.80\n",
       "           No degree            59.61\n",
       "Northeast  Associate Degree      3.26\n",
       "           Bachelor Degree       4.58\n",
       "           High School          26.79\n",
       "           Master Degree        14.62\n",
       "           No degree             5.75\n",
       "South      Associate Degree      5.87\n",
       "           Bachelor Degree      11.02\n",
       "           High School         740.85\n",
       "           Master Degree        63.36\n",
       "           No degree            33.88\n",
       "West       Associate Degree      7.63\n",
       "           Bachelor Degree       6.87\n",
       "           High School           9.65\n",
       "           Master Degree         7.73\n",
       "           No degree            12.27\n",
       "Name: Non-essential expenditure % per capita, dtype: float64"
      ]
     },
     "execution_count": 73,
     "metadata": {},
     "output_type": "execute_result"
    }
   ],
   "source": [
    "percspending231avg"
   ]
  },
  {
   "cell_type": "code",
   "execution_count": 74,
   "id": "30e09fb4-d924-4425-bee0-b2e15d28d9d8",
   "metadata": {},
   "outputs": [],
   "source": [
    "#median to account for drastically diffring % of income spent on non-essentials\n",
    "percspending231median=round(spending231.groupby(['Region', 'Education level'])['Non-essential expenditure % per capita'].median(),2)"
   ]
  },
  {
   "cell_type": "code",
   "execution_count": 75,
   "id": "547f3c32-2847-4fa8-b01f-0d838d0020a4",
   "metadata": {},
   "outputs": [
    {
     "data": {
      "text/plain": [
       "Region     Education level \n",
       "Midwest    Associate Degree    0.32\n",
       "           Bachelor Degree     0.27\n",
       "           High School         0.44\n",
       "           Master Degree       0.22\n",
       "           No degree           0.89\n",
       "Northeast  Associate Degree    0.33\n",
       "           Bachelor Degree     0.26\n",
       "           High School         0.44\n",
       "           Master Degree       0.22\n",
       "           No degree           0.39\n",
       "South      Associate Degree    0.41\n",
       "           Bachelor Degree     0.30\n",
       "           High School         0.60\n",
       "           Master Degree       0.25\n",
       "           No degree           0.85\n",
       "West       Associate Degree    0.31\n",
       "           Bachelor Degree     0.27\n",
       "           High School         0.44\n",
       "           Master Degree       0.22\n",
       "           No degree           0.95\n",
       "Name: Non-essential expenditure % per capita, dtype: float64"
      ]
     },
     "execution_count": 75,
     "metadata": {},
     "output_type": "execute_result"
    }
   ],
   "source": [
    "percspending231median"
   ]
  },
  {
   "cell_type": "markdown",
   "id": "8bf7d7e8-738a-48dc-8ff2-95c9fe89c3e4",
   "metadata": {},
   "source": [
    "Q2"
   ]
  },
  {
   "cell_type": "code",
   "execution_count": 76,
   "id": "b4f5f0ac-e108-447f-9b9e-7592021ff8ae",
   "metadata": {},
   "outputs": [],
   "source": [
    "#clean up: get rid of N/A region and Educ cols\n",
    "fmli232spending=fmli232.loc[(fmli232['Region']!= 'N/A') & (fmli232['Education level'] != 'N/A')]"
   ]
  },
  {
   "cell_type": "code",
   "execution_count": 77,
   "id": "926076e1-db69-4d44-82bc-b1320e3ad76a",
   "metadata": {},
   "outputs": [],
   "source": [
    "mtbi232=pd.read_csv(r\"C:\\Users\\Owner\\Documents\\NSS\\Capstone\\Educationproj\\data\\intrvw23\\mtbi232.csv\")"
   ]
  },
  {
   "cell_type": "code",
   "execution_count": 96,
   "id": "69ac4fe5-f542-480e-a24e-64e16dfa22d6",
   "metadata": {},
   "outputs": [],
   "source": [
    "#Categorize the UCC codes\n",
    "nonessentials=[]\n",
    "for index, nonessential in mtbi232.iterrows():\n",
    "    if nonessential['UCC'] in {620212,620213,620215,620216,620222,620221,610900,620903,620926}:\n",
    "        nonessentials.append('Entertainmnet and Recreation')\n",
    "    elif nonessential['UCC'] in {430110,430120,640420}:\n",
    "        nonessentials.append('Luxury Purchases')\n",
    "    elif nonessential['UCC'] in {530110, 210210,530901, 680905,430130}:\n",
    "        nonessentials.append('Vacation and Travel')\n",
    "    elif nonessential['UCC'] in {450220,460902,520902,600132,600141,600110,600121,600122,600131,620919,620909,620907,620906,620921}:\n",
    "        nonessentials.append('Vehicles and Watercrafts')\n",
    "    elif nonessential['UCC'] in {620930,310350,310231,310243,310316,310314,310140,310231,310243,310232,310333,310400,340902,620917}:\n",
    "        nonessentials.append('Technology')\n",
    "    elif nonessential['UCC'] in {790330,790400,200900}: #790400 for dining out in MTBI232\n",
    "        nonessentials.append('Dining out and Alcoholic Beverages')\n",
    "    elif nonessential['UCC'] in {290430,280220,320233,320903,320904,990920,320345}:\n",
    "        nonessentials.append('Home Aesthetics')\n",
    "    elif nonessential['UCC'] in {340310,620112,680904,620918}:\n",
    "        nonessentials.append('Services')\n",
    "    else:\n",
    "        nonessentials.append('N/A')\n",
    "mtbi232['Non-essential']=nonessentials"
   ]
  },
  {
   "cell_type": "code",
   "execution_count": 97,
   "id": "24cdc46f-afad-4604-a268-fb5b0a888f5a",
   "metadata": {},
   "outputs": [],
   "source": [
    "#get rid of negative cost values\n",
    "mtbi232 = mtbi232.loc[mtbi232['COST'] >= 0]"
   ]
  },
  {
   "cell_type": "code",
   "execution_count": 98,
   "id": "c529704f-b8f1-4313-a1d3-66584b16d35a",
   "metadata": {},
   "outputs": [],
   "source": [
    "#merge data\n",
    "spending232= pd.merge(fmli232spending, mtbi232, on= 'NEWID', how='inner')"
   ]
  },
  {
   "cell_type": "code",
   "execution_count": 99,
   "id": "9c0085c6-0a6d-453c-a50c-2a2d15dd2ece",
   "metadata": {},
   "outputs": [],
   "source": [
    "##keep relevant columns from fmli and mtbi\n",
    "spending232=spending232[['NEWID','Region','Education level','FINCBTAX','Income per Capita','COST', 'UCC']]"
   ]
  },
  {
   "cell_type": "code",
   "execution_count": 100,
   "id": "8aeeaead-1e23-45fc-9cbd-443cc0566276",
   "metadata": {},
   "outputs": [],
   "source": [
    "#get rid of 0's from income per capita\n",
    "#note: that this get rid of people who may derive their inocme from other sources\n",
    "spending232=spending232.loc[spending232['Income per Capita'] != 0]"
   ]
  },
  {
   "cell_type": "code",
   "execution_count": 101,
   "id": "d5fd1c75-5002-4cef-a6f6-3b3251256136",
   "metadata": {},
   "outputs": [],
   "source": [
    "#percentage of income per capita spent on non-essentials \n",
    "spending232['Non-essential expenditure % per capita'] = spending232['COST'] / spending232['Income per Capita']*100"
   ]
  },
  {
   "cell_type": "code",
   "execution_count": 102,
   "id": "b47330ff-dcd8-4bc2-b89a-22e3d53977c8",
   "metadata": {},
   "outputs": [],
   "source": [
    "spending232['Non-essential expenditure per capita'] = spending232['Income per Capita']-spending232['COST']"
   ]
  },
  {
   "cell_type": "code",
   "execution_count": 104,
   "id": "b15423fc-19a7-4957-bc0f-12ffc5b463be",
   "metadata": {},
   "outputs": [
    {
     "data": {
      "text/plain": [
       "334739"
      ]
     },
     "execution_count": 104,
     "metadata": {},
     "output_type": "execute_result"
    }
   ],
   "source": [
    "spending232.shape[0]"
   ]
  },
  {
   "cell_type": "code",
   "execution_count": 86,
   "id": "6459c9c6-79f5-406f-adcf-495602822b07",
   "metadata": {},
   "outputs": [],
   "source": [
    "#avg percentage of income spent on non-essentials per region and education\n",
    "#Region: to account for price differences between regions\n",
    "percspending232avg=round(spending232.groupby(['Region', 'Education level'])['Non-essential expenditure % per capita'].mean(),2)"
   ]
  },
  {
   "cell_type": "code",
   "execution_count": 87,
   "id": "a60f28c9-1e70-4145-b92f-7bbb933e6134",
   "metadata": {},
   "outputs": [
    {
     "data": {
      "text/plain": [
       "Region     Education level \n",
       "Midwest    Associate Degree       4.23\n",
       "           Bachelor Degree        4.76\n",
       "           High School           43.21\n",
       "           Master Degree          4.29\n",
       "           No degree             11.95\n",
       "Northeast  Associate Degree       6.98\n",
       "           Bachelor Degree       88.70\n",
       "           High School            8.52\n",
       "           Master Degree        106.96\n",
       "           No degree             11.61\n",
       "South      Associate Degree       6.63\n",
       "           Bachelor Degree      128.65\n",
       "           High School           73.91\n",
       "           Master Degree         33.75\n",
       "           No degree             36.35\n",
       "West       Associate Degree       8.58\n",
       "           Bachelor Degree        8.60\n",
       "           High School            8.10\n",
       "           Master Degree       1201.63\n",
       "           No degree              4.61\n",
       "Name: Non-essential expenditure % per capita, dtype: float64"
      ]
     },
     "execution_count": 87,
     "metadata": {},
     "output_type": "execute_result"
    }
   ],
   "source": [
    "percspending232avg"
   ]
  },
  {
   "cell_type": "code",
   "execution_count": 91,
   "id": "be40ba36-56f1-4830-8c72-c3a3ec8e9a38",
   "metadata": {},
   "outputs": [],
   "source": [
    "#median percentage of income spent on non-essentials per region and education\n",
    "#Region: to account for price differences between regions\n",
    "percspending232median=round(spending232.groupby(['Region', 'Education level'])['Non-essential expenditure % per capita'].median(),2)"
   ]
  },
  {
   "cell_type": "code",
   "execution_count": 92,
   "id": "9526033a-8ca0-444a-85ec-963afebafdc3",
   "metadata": {},
   "outputs": [
    {
     "data": {
      "text/plain": [
       "Region     Education level \n",
       "Midwest    Associate Degree    0.36\n",
       "           Bachelor Degree     0.30\n",
       "           High School         0.42\n",
       "           Master Degree       0.24\n",
       "           No degree           0.84\n",
       "Northeast  Associate Degree    0.36\n",
       "           Bachelor Degree     0.26\n",
       "           High School         0.45\n",
       "           Master Degree       0.22\n",
       "           No degree           0.57\n",
       "South      Associate Degree    0.43\n",
       "           Bachelor Degree     0.34\n",
       "           High School         0.61\n",
       "           Master Degree       0.26\n",
       "           No degree           0.86\n",
       "West       Associate Degree    0.41\n",
       "           Bachelor Degree     0.28\n",
       "           High School         0.50\n",
       "           Master Degree       0.25\n",
       "           No degree           0.59\n",
       "Name: Non-essential expenditure % per capita, dtype: float64"
      ]
     },
     "execution_count": 92,
     "metadata": {},
     "output_type": "execute_result"
    }
   ],
   "source": [
    "percspending232median"
   ]
  },
  {
   "cell_type": "markdown",
   "id": "fc06ade6-6f75-4bb4-bc5c-49c36d4b8fba",
   "metadata": {},
   "source": [
    "Q3"
   ]
  },
  {
   "cell_type": "code",
   "execution_count": 118,
   "id": "990297bb-833e-4fba-b99b-0853e704d7f5",
   "metadata": {},
   "outputs": [],
   "source": [
    "#clean up: get rid of N/A region and Educ cols\n",
    "fmli233spending=fmli233.loc[(fmli233['Region']!= 'N/A') & (fmli233['Education level'] != 'N/A')]"
   ]
  },
  {
   "cell_type": "code",
   "execution_count": 119,
   "id": "b64a2c98-8314-4d0b-a5cc-e04ea375a806",
   "metadata": {},
   "outputs": [],
   "source": [
    "mtbi233= pd.read_csv(r\"C:\\Users\\Owner\\Documents\\NSS\\Capstone\\Educationproj\\data\\intrvw23\\mtbi233.csv\")"
   ]
  },
  {
   "cell_type": "code",
   "execution_count": 120,
   "id": "282463e4-4032-4a3f-b0cb-eccb17039d6e",
   "metadata": {},
   "outputs": [],
   "source": [
    "#Categorize the UCC codes\n",
    "nonessentials=[]\n",
    "for index, nonessential in mtbi233.iterrows():\n",
    "    if nonessential['UCC'] in {620212,620213,620215,620216,620222,620221,610900,620903,620926}:\n",
    "        nonessentials.append('Entertainmnet and Recreation')\n",
    "    elif nonessential['UCC'] in {430110,430120,640420}:\n",
    "        nonessentials.append('Luxury Purchases')\n",
    "    elif nonessential['UCC'] in {530110, 210210,530901, 680905,430130}:\n",
    "        nonessentials.append('Vacation and Travel')\n",
    "    elif nonessential['UCC'] in {450220,460902,520902,600132,600141,600110,600121,600122,600131,620919,620909,620907,620906,620921}:\n",
    "        nonessentials.append('Vehicles and Watercrafts')\n",
    "    elif nonessential['UCC'] in {620930,310350,310231,310243,310316,310314,310140,310231,310243,310232,310333,310400,340902,620917}:\n",
    "        nonessentials.append('Technology')\n",
    "    elif nonessential['UCC'] in {790330,790400,200900}: #790400 for dining out in MTBI233\n",
    "        nonessentials.append('Dining out and Alcoholic Beverages')\n",
    "    elif nonessential['UCC'] in {290430,280220,320233,320903,320904,990920,320345}:\n",
    "        nonessentials.append('Home Aesthetics')\n",
    "    elif nonessential['UCC'] in {340310,620112,680904,620918}:\n",
    "        nonessentials.append('Services')\n",
    "    else:\n",
    "        nonessentials.append('N/A')\n",
    "mtbi233['Non-essential']=nonessentials"
   ]
  },
  {
   "cell_type": "code",
   "execution_count": 121,
   "id": "1d7304d8-3123-4d17-8d6b-8a63764225d3",
   "metadata": {},
   "outputs": [],
   "source": [
    "#get rid of negative cost values\n",
    "mtbi233 = mtbi233.loc[mtbi233['COST'] >= 0]"
   ]
  },
  {
   "cell_type": "code",
   "execution_count": 122,
   "id": "cb8a18e6-ab42-44d8-8ba0-bda02af4b755",
   "metadata": {},
   "outputs": [],
   "source": [
    "#merge data\n",
    "spending233= pd.merge(fmli233spending, mtbi233, on= 'NEWID', how='inner')"
   ]
  },
  {
   "cell_type": "code",
   "execution_count": 123,
   "id": "07ddd477-22bf-4099-8bcd-3417b4d28071",
   "metadata": {},
   "outputs": [],
   "source": [
    "#keep relevant columns from fmli and mtbi\n",
    "spending233=spending233[['NEWID','Region','Education level','FINCBTAX','Income per Capita','COST', 'UCC']]"
   ]
  },
  {
   "cell_type": "code",
   "execution_count": 124,
   "id": "67a71e3c-9a54-45a7-80db-466915edbb19",
   "metadata": {},
   "outputs": [],
   "source": [
    "#get rid of 0's from income per capita\n",
    "#note: that this get rid of people who may derive their inocme from other sources\n",
    "spending233=spending233.loc[spending233['Income per Capita'] != 0]"
   ]
  },
  {
   "cell_type": "code",
   "execution_count": 125,
   "id": "4c61d739-7db7-4b98-b3ef-a512b31c8703",
   "metadata": {},
   "outputs": [],
   "source": [
    "#percentage of income per capita spent on non-essentials \n",
    "spending233['Non-essential expenditure % per capita'] = spending233['COST'] / spending233['Income per Capita']*100"
   ]
  },
  {
   "cell_type": "code",
   "execution_count": 126,
   "id": "37fbb40e-7d1b-48a6-9610-fea95887891f",
   "metadata": {},
   "outputs": [],
   "source": [
    "spending233['Non-essential expenditure per capita'] = spending233['Income per Capita']-spending233['COST']"
   ]
  },
  {
   "cell_type": "code",
   "execution_count": 127,
   "id": "69b0b843-1163-438e-be1c-3ce96562fb6b",
   "metadata": {},
   "outputs": [],
   "source": [
    "#avg percentage of income spent on non-essentials per region and education\n",
    "#Region: to account for price differences between regions\n",
    "percspending233avg=round(spending233.groupby(['Region', 'Education level'])['Non-essential expenditure % per capita'].mean(),2)"
   ]
  },
  {
   "cell_type": "code",
   "execution_count": 128,
   "id": "a6db4901-7c87-40b3-ae9e-97ca5c796b4b",
   "metadata": {},
   "outputs": [],
   "source": [
    "#median percentage of income spent on non-essentials per region and education\n",
    "#Region: to account for price differences between regions\n",
    "percspending233median=round(spending233.groupby(['Region', 'Education level'])['Non-essential expenditure % per capita'].median(),2)"
   ]
  },
  {
   "cell_type": "code",
   "execution_count": 129,
   "id": "d0e8fe85-aa17-4527-be78-db8192af2fee",
   "metadata": {},
   "outputs": [
    {
     "data": {
      "text/plain": [
       "Region     Education level \n",
       "Midwest    Associate Degree      7.02\n",
       "           Bachelor Degree       9.76\n",
       "           High School           8.24\n",
       "           Master Degree       818.52\n",
       "           No degree            18.66\n",
       "Northeast  Associate Degree      4.22\n",
       "           Bachelor Degree       7.71\n",
       "           High School         103.27\n",
       "           Master Degree        11.92\n",
       "           No degree             5.74\n",
       "South      Associate Degree     12.00\n",
       "           Bachelor Degree      13.17\n",
       "           High School          32.99\n",
       "           Master Degree         8.01\n",
       "           No degree            10.02\n",
       "West       Associate Degree      7.50\n",
       "           Bachelor Degree      13.69\n",
       "           High School         557.72\n",
       "           Master Degree       681.13\n",
       "           No degree             6.43\n",
       "Name: Non-essential expenditure % per capita, dtype: float64"
      ]
     },
     "execution_count": 129,
     "metadata": {},
     "output_type": "execute_result"
    }
   ],
   "source": [
    "percspending233avg"
   ]
  },
  {
   "cell_type": "code",
   "execution_count": 130,
   "id": "249363d1-4143-421d-91a1-5e20c6f2f550",
   "metadata": {},
   "outputs": [
    {
     "data": {
      "text/plain": [
       "Region     Education level \n",
       "Midwest    Associate Degree    0.35\n",
       "           Bachelor Degree     0.30\n",
       "           High School         0.40\n",
       "           Master Degree       0.24\n",
       "           No degree           0.73\n",
       "Northeast  Associate Degree    0.34\n",
       "           Bachelor Degree     0.27\n",
       "           High School         0.50\n",
       "           Master Degree       0.22\n",
       "           No degree           0.65\n",
       "South      Associate Degree    0.49\n",
       "           Bachelor Degree     0.34\n",
       "           High School         0.57\n",
       "           Master Degree       0.26\n",
       "           No degree           0.97\n",
       "West       Associate Degree    0.42\n",
       "           Bachelor Degree     0.28\n",
       "           High School         0.48\n",
       "           Master Degree       0.22\n",
       "           No degree           0.83\n",
       "Name: Non-essential expenditure % per capita, dtype: float64"
      ]
     },
     "execution_count": 130,
     "metadata": {},
     "output_type": "execute_result"
    }
   ],
   "source": [
    "percspending233median"
   ]
  },
  {
   "cell_type": "markdown",
   "id": "81372993-9f4f-4854-a1a7-f9c124bea325",
   "metadata": {},
   "source": [
    "Q4"
   ]
  },
  {
   "cell_type": "code",
   "execution_count": 132,
   "id": "c49873aa-2e62-42f1-8638-cefab2627fb3",
   "metadata": {},
   "outputs": [],
   "source": [
    "#clean up: get rid of N/A region and Educ cols\n",
    "fmli234spending=fmli234.loc[(fmli234['Region']!= 'N/A') & (fmli234['Education level'] != 'N/A')]"
   ]
  },
  {
   "cell_type": "code",
   "execution_count": 133,
   "id": "1846137f-f8ad-426d-84ba-a6a4479c2bb1",
   "metadata": {},
   "outputs": [],
   "source": [
    "mtbi234= pd.read_csv(r\"C:\\Users\\Owner\\Documents\\NSS\\Capstone\\Educationproj\\data\\intrvw23\\mtbi234.csv\")"
   ]
  },
  {
   "cell_type": "code",
   "execution_count": null,
   "id": "5b8a2d0f-e530-4e61-91bb-b5f767db4467",
   "metadata": {},
   "outputs": [],
   "source": [
    "#Categorize the UCC codes\n",
    "nonessentials=[]\n",
    "for index, nonessential in mtbi234.iterrows():\n",
    "    if nonessential['UCC'] in {620212,620213,620215,620216,620222,620221,610900,620903,620926}:\n",
    "        nonessentials.append('Entertainmnet and Recreation')\n",
    "    elif nonessential['UCC'] in {430110,430120,640420}:\n",
    "        nonessentials.append('Luxury Purchases')\n",
    "    elif nonessential['UCC'] in {530110, 210210,530901, 680905,430130}:\n",
    "        nonessentials.append('Vacation and Travel')\n",
    "    elif nonessential['UCC'] in {450220,460902,520902,600132,600141,600110,600121,600122,600131,620919,620909,620907,620906,620921}:\n",
    "        nonessentials.append('Vehicles and Watercrafts')\n",
    "    elif nonessential['UCC'] in {620930,310350,310231,310243,310316,310314,310140,310231,310243,310232,310333,310400,340902,620917}:\n",
    "        nonessentials.append('Technology')\n",
    "    elif nonessential['UCC'] in {790330,790400,200900}: #790400 for dining out in MTBI234\n",
    "        nonessentials.append('Dining out and Alcoholic Beverages')\n",
    "    elif nonessential['UCC'] in {290430,280220,320233,320903,320904,990920,320345}:\n",
    "        nonessentials.append('Home Aesthetics')\n",
    "    elif nonessential['UCC'] in {340310,620112,680904,620918}:\n",
    "        nonessentials.append('Services')\n",
    "    else:\n",
    "        nonessentials.append('N/A')\n",
    "mtbi234['Non-essential']=nonessentials"
   ]
  },
  {
   "cell_type": "code",
   "execution_count": 134,
   "id": "b35984ab-6b1d-4112-9bb1-50410fcd15e2",
   "metadata": {},
   "outputs": [],
   "source": [
    "#get rid of negative cost values\n",
    "mtbi234 = mtbi234.loc[mtbi234['COST'] >= 0]"
   ]
  },
  {
   "cell_type": "code",
   "execution_count": 135,
   "id": "0ad8556b-941f-4b7b-8cec-0337128c7b86",
   "metadata": {},
   "outputs": [],
   "source": [
    "#merge data\n",
    "spending234= pd.merge(fmli234spending, mtbi234, on= 'NEWID', how='inner')"
   ]
  },
  {
   "cell_type": "code",
   "execution_count": 136,
   "id": "a4c3fc6c-099a-4ba2-bf9a-efbceb66a22e",
   "metadata": {},
   "outputs": [],
   "source": [
    "#keep relevant columns from fmli and mtbi\n",
    "spending234=spending234[['NEWID','Region','Education level','FINCBTAX','Income per Capita','COST', 'UCC']]"
   ]
  },
  {
   "cell_type": "code",
   "execution_count": 137,
   "id": "e2590c44-49d0-4ba4-8cf4-393a24b2a03e",
   "metadata": {},
   "outputs": [],
   "source": [
    "#get rid of 0's from income per capita\n",
    "#note: that this get rid of people who may derive their inocme from other sources\n",
    "spending234=spending234.loc[spending234['Income per Capita'] != 0]"
   ]
  },
  {
   "cell_type": "code",
   "execution_count": 138,
   "id": "ad77313d-dbb5-4ecb-b57b-acdd2cd0d17e",
   "metadata": {},
   "outputs": [],
   "source": [
    "#percentage of income per capita spent on non-essentials \n",
    "spending234['Non-essential expenditure % per capita'] = spending234['COST'] / spending234['Income per Capita']*100"
   ]
  },
  {
   "cell_type": "code",
   "execution_count": 139,
   "id": "92ef6df3-7bb4-48a7-a674-58738d51577e",
   "metadata": {},
   "outputs": [],
   "source": [
    "spending234['Non-essential expenditure per capita'] = spending234['Income per Capita']-spending234['COST']"
   ]
  },
  {
   "cell_type": "code",
   "execution_count": 140,
   "id": "ae9f0569-dd68-4be7-9a6d-4c6cb07ee38c",
   "metadata": {},
   "outputs": [],
   "source": [
    "#avg percentage of income spent on non-essentials per region and education\n",
    "#Region: to account for price differences between regions\n",
    "percspending234avg=round(spending234.groupby(['Region', 'Education level'])['Non-essential expenditure % per capita'].mean(),2)"
   ]
  },
  {
   "cell_type": "code",
   "execution_count": 141,
   "id": "390ececb-c17d-4af8-8c28-156e1f234cc4",
   "metadata": {},
   "outputs": [],
   "source": [
    "#median percentage of income spent on non-essentials per region and education\n",
    "#Region: to account for price differences between regions\n",
    "percspending234median=round(spending234.groupby(['Region', 'Education level'])['Non-essential expenditure % per capita'].median(),2)"
   ]
  },
  {
   "cell_type": "code",
   "execution_count": 142,
   "id": "d73c5613-530a-40b3-a909-cea13bb11e27",
   "metadata": {},
   "outputs": [
    {
     "data": {
      "text/plain": [
       "Region     Education level \n",
       "Midwest    Associate Degree       4.83\n",
       "           Bachelor Degree        5.89\n",
       "           High School           10.39\n",
       "           Master Degree         37.23\n",
       "           No degree             11.22\n",
       "Northeast  Associate Degree       8.48\n",
       "           Bachelor Degree       38.14\n",
       "           High School          110.38\n",
       "           Master Degree          7.01\n",
       "           No degree             12.11\n",
       "South      Associate Degree      13.01\n",
       "           Bachelor Degree     1339.54\n",
       "           High School           12.75\n",
       "           Master Degree         97.98\n",
       "           No degree             11.58\n",
       "West       Associate Degree       7.33\n",
       "           Bachelor Degree       10.57\n",
       "           High School          604.00\n",
       "           Master Degree       2636.18\n",
       "           No degree             11.61\n",
       "Name: Non-essential expenditure % per capita, dtype: float64"
      ]
     },
     "execution_count": 142,
     "metadata": {},
     "output_type": "execute_result"
    }
   ],
   "source": [
    "percspending234avg"
   ]
  },
  {
   "cell_type": "code",
   "execution_count": 143,
   "id": "998583d3-cfdf-4e4b-be13-f2f4f7f5d7e0",
   "metadata": {},
   "outputs": [
    {
     "data": {
      "text/plain": [
       "Region     Education level \n",
       "Midwest    Associate Degree    0.40\n",
       "           Bachelor Degree     0.30\n",
       "           High School         0.40\n",
       "           Master Degree       0.24\n",
       "           No degree           0.78\n",
       "Northeast  Associate Degree    0.41\n",
       "           Bachelor Degree     0.30\n",
       "           High School         0.49\n",
       "           Master Degree       0.22\n",
       "           No degree           0.69\n",
       "South      Associate Degree    0.49\n",
       "           Bachelor Degree     0.33\n",
       "           High School         0.57\n",
       "           Master Degree       0.27\n",
       "           No degree           0.91\n",
       "West       Associate Degree    0.39\n",
       "           Bachelor Degree     0.26\n",
       "           High School         0.44\n",
       "           Master Degree       0.21\n",
       "           No degree           0.77\n",
       "Name: Non-essential expenditure % per capita, dtype: float64"
      ]
     },
     "execution_count": 143,
     "metadata": {},
     "output_type": "execute_result"
    }
   ],
   "source": [
    "percspending234median"
   ]
  },
  {
   "cell_type": "code",
   "execution_count": null,
   "id": "5b950379-120f-4a8d-8103-9f9b655a1e51",
   "metadata": {},
   "outputs": [],
   "source": [
    "#visuals"
   ]
  },
  {
   "cell_type": "markdown",
   "id": "15a44fc1-c4fd-4dcb-9be0-b74775a6960f",
   "metadata": {},
   "source": [
    "# Question 3: Do households with higher education levels derive a greater proportion of their income from passive investment sources like interest and dividends compared to lower-educated households?"
   ]
  },
  {
   "cell_type": "markdown",
   "id": "49276799-39c0-42e7-8ba3-95f5e40e3f79",
   "metadata": {},
   "source": [
    "# Q1"
   ]
  },
  {
   "cell_type": "code",
   "execution_count": 150,
   "id": "d732b079-2277-43dc-8714-c834db036149",
   "metadata": {},
   "outputs": [],
   "source": [
    "#clean up data\n",
    "investinc231= fmli231.loc[(fmli231['FINCBTAX'] != 0) &\n",
    "                                (fmli231['Education level'] != 'N/A') &\n",
    "                                (fmli231['Region'] != 'N/A')]"
   ]
  },
  {
   "cell_type": "code",
   "execution_count": 151,
   "id": "e8eb6b92-7e6a-40d4-9620-5d7e84f82e58",
   "metadata": {},
   "outputs": [],
   "source": [
    "#drop nan values\n",
    "investinc231=investinc231.dropna(subset=['INTRDVX'])"
   ]
  },
  {
   "cell_type": "code",
   "execution_count": 152,
   "id": "98307fc6-fb36-4c4c-bf31-d3b1006a3311",
   "metadata": {},
   "outputs": [],
   "source": [
    "#keep relevant cols\n",
    "investinc231 =investinc231[['NEWID','Region','Education level','INTRDVX','FINCBTAX']]"
   ]
  },
  {
   "cell_type": "code",
   "execution_count": 154,
   "id": "39ef4c40-c22b-413d-975b-939b37135f87",
   "metadata": {},
   "outputs": [],
   "source": [
    "#calc the percetnage of income that comes from passive income\n",
    "investinc231['% of passive income']=investinc231['INTRDVX']/investinc231['FINCBTAX']*100"
   ]
  },
  {
   "cell_type": "code",
   "execution_count": 156,
   "id": "08c9d21a-aeae-4718-a85e-2f4a58a100d7",
   "metadata": {},
   "outputs": [],
   "source": [
    "#avg percetnage of passive income per region and houshold\n",
    "investinc231avg=round(investinc231.groupby(['Region','Education level'])['% of passive income'].mean(),2)"
   ]
  },
  {
   "cell_type": "code",
   "execution_count": 157,
   "id": "0aece261-8be2-462e-b6da-ed927e049f5f",
   "metadata": {},
   "outputs": [],
   "source": [
    "#median to .. between varying percentages of passive income from income\n",
    "investinc231median=round(investinc231.groupby(['Region','Education level'])['% of passive income'].median(),2)"
   ]
  },
  {
   "cell_type": "code",
   "execution_count": 158,
   "id": "0c241304-302f-42d4-b586-ff4b42e5f4dc",
   "metadata": {},
   "outputs": [
    {
     "data": {
      "text/plain": [
       "Region     Education level \n",
       "Midwest    Associate Degree     4.33\n",
       "           Bachelor Degree      5.73\n",
       "           High School          3.89\n",
       "           Master Degree        5.06\n",
       "           No degree            6.58\n",
       "Northeast  Associate Degree     5.35\n",
       "           Bachelor Degree     10.85\n",
       "           High School         10.83\n",
       "           Master Degree        7.25\n",
       "           No degree            0.09\n",
       "South      Associate Degree     2.48\n",
       "           Bachelor Degree      2.89\n",
       "           High School          4.30\n",
       "           Master Degree       16.03\n",
       "           No degree            8.16\n",
       "West       Associate Degree     3.68\n",
       "           Bachelor Degree      6.83\n",
       "           High School          9.77\n",
       "           Master Degree        9.28\n",
       "           No degree            0.00\n",
       "Name: % of passive income, dtype: float64"
      ]
     },
     "execution_count": 158,
     "metadata": {},
     "output_type": "execute_result"
    }
   ],
   "source": [
    "investinc231avg"
   ]
  },
  {
   "cell_type": "code",
   "execution_count": 159,
   "id": "140e3988-621c-490f-affc-cff88d42af28",
   "metadata": {},
   "outputs": [
    {
     "data": {
      "text/plain": [
       "Region     Education level \n",
       "Midwest    Associate Degree    0.22\n",
       "           Bachelor Degree     0.44\n",
       "           High School         0.29\n",
       "           Master Degree       0.33\n",
       "           No degree           6.58\n",
       "Northeast  Associate Degree    0.14\n",
       "           Bachelor Degree     0.22\n",
       "           High School         0.17\n",
       "           Master Degree       1.49\n",
       "           No degree           0.03\n",
       "South      Associate Degree    0.18\n",
       "           Bachelor Degree     0.16\n",
       "           High School         0.69\n",
       "           Master Degree       0.49\n",
       "           No degree           8.16\n",
       "West       Associate Degree    0.32\n",
       "           Bachelor Degree     0.26\n",
       "           High School         0.35\n",
       "           Master Degree       0.27\n",
       "           No degree           0.00\n",
       "Name: % of passive income, dtype: float64"
      ]
     },
     "execution_count": 159,
     "metadata": {},
     "output_type": "execute_result"
    }
   ],
   "source": [
    "investinc231median"
   ]
  },
  {
   "cell_type": "markdown",
   "id": "cfce65c5-aa47-4026-90bb-843ed32695b1",
   "metadata": {},
   "source": [
    "# Q2"
   ]
  },
  {
   "cell_type": "code",
   "execution_count": 161,
   "id": "2a02c100-6a87-43c3-9ba0-4603944f49f6",
   "metadata": {},
   "outputs": [],
   "source": [
    "#clean up data\n",
    "investinc232= fmli232.loc[(fmli232['FINCBTAX'] != 0) &\n",
    "                                (fmli232['Education level'] != 'N/A') &\n",
    "                                (fmli232['Region'] != 'N/A')]"
   ]
  },
  {
   "cell_type": "code",
   "execution_count": 162,
   "id": "45e48085-51c7-476b-a304-845b85743bff",
   "metadata": {},
   "outputs": [],
   "source": [
    "#drop nan values\n",
    "investinc232=investinc232.dropna(subset=['INTRDVX'])"
   ]
  },
  {
   "cell_type": "code",
   "execution_count": 163,
   "id": "51831be3-e2b3-4fb1-8aee-b3d81051f23c",
   "metadata": {},
   "outputs": [],
   "source": [
    "#keep relevant cols\n",
    "investinc232 =investinc232[['NEWID','Region','Education level','INTRDVX','FINCBTAX']]"
   ]
  },
  {
   "cell_type": "code",
   "execution_count": 164,
   "id": "26885039-2663-4b2f-8b2c-351a8decb310",
   "metadata": {},
   "outputs": [],
   "source": [
    "#calc the percetnage of income that comes from passive income\n",
    "investinc232['% of passive income']=investinc232['INTRDVX']/investinc232['FINCBTAX']*100"
   ]
  },
  {
   "cell_type": "code",
   "execution_count": 166,
   "id": "a5974062-8adc-4d49-be99-0116e1f81204",
   "metadata": {},
   "outputs": [],
   "source": [
    "#avg percetnage of passive income per region and houshold\n",
    "investinc232avg=round(investinc232.groupby(['Region','Education level'])['% of passive income'].mean(),2)"
   ]
  },
  {
   "cell_type": "code",
   "execution_count": 167,
   "id": "5b183c98-a5cc-45e9-8950-ee5bcfad3ed5",
   "metadata": {},
   "outputs": [],
   "source": [
    "#median to .. between varying percentages of passive income from income\n",
    "investinc232median=round(investinc232.groupby(['Region','Education level'])['% of passive income'].median(),2)"
   ]
  },
  {
   "cell_type": "code",
   "execution_count": 168,
   "id": "fc231bfb-bf00-4e40-9c3b-f3061b5f6b84",
   "metadata": {},
   "outputs": [
    {
     "data": {
      "text/plain": [
       "Region     Education level \n",
       "Midwest    Associate Degree     4.07\n",
       "           Bachelor Degree     10.10\n",
       "           High School          8.45\n",
       "           Master Degree        5.25\n",
       "           No degree            3.07\n",
       "Northeast  Associate Degree     7.51\n",
       "           Bachelor Degree     11.26\n",
       "           High School          5.27\n",
       "           Master Degree       12.16\n",
       "           No degree           21.60\n",
       "South      Associate Degree     3.16\n",
       "           Bachelor Degree      8.27\n",
       "           High School          4.27\n",
       "           Master Degree       13.27\n",
       "           No degree           15.39\n",
       "West       Associate Degree    10.30\n",
       "           Bachelor Degree      7.96\n",
       "           High School          6.46\n",
       "           Master Degree        9.05\n",
       "           No degree            0.09\n",
       "Name: % of passive income, dtype: float64"
      ]
     },
     "execution_count": 168,
     "metadata": {},
     "output_type": "execute_result"
    }
   ],
   "source": [
    "investinc232avg"
   ]
  },
  {
   "cell_type": "code",
   "execution_count": 169,
   "id": "430d9e2e-4abf-453a-b63e-c3e9a2647036",
   "metadata": {},
   "outputs": [
    {
     "data": {
      "text/plain": [
       "Region     Education level \n",
       "Midwest    Associate Degree     0.36\n",
       "           Bachelor Degree      0.25\n",
       "           High School          0.73\n",
       "           Master Degree        0.11\n",
       "           No degree            3.07\n",
       "Northeast  Associate Degree     0.14\n",
       "           Bachelor Degree      0.41\n",
       "           High School          0.20\n",
       "           Master Degree        1.52\n",
       "           No degree            0.91\n",
       "South      Associate Degree     0.16\n",
       "           Bachelor Degree      0.43\n",
       "           High School          0.24\n",
       "           Master Degree        0.83\n",
       "           No degree           15.39\n",
       "West       Associate Degree     0.37\n",
       "           Bachelor Degree      0.18\n",
       "           High School          0.73\n",
       "           Master Degree        0.60\n",
       "           No degree            0.09\n",
       "Name: % of passive income, dtype: float64"
      ]
     },
     "execution_count": 169,
     "metadata": {},
     "output_type": "execute_result"
    }
   ],
   "source": [
    "investinc232median"
   ]
  },
  {
   "cell_type": "markdown",
   "id": "b7468755-d49d-4356-a290-0264879c67ee",
   "metadata": {},
   "source": [
    "# Q3"
   ]
  },
  {
   "cell_type": "code",
   "execution_count": 171,
   "id": "9159e5ce-502d-4049-8675-8e07b524148d",
   "metadata": {},
   "outputs": [],
   "source": [
    "#clean up data\n",
    "investinc233= fmli233.loc[(fmli233['FINCBTAX'] != 0) &\n",
    "                                (fmli233['Education level'] != 'N/A') &\n",
    "                                (fmli233['Region'] != 'N/A')]"
   ]
  },
  {
   "cell_type": "code",
   "execution_count": 172,
   "id": "62f6599b-9410-4a7c-acbd-1048d902785c",
   "metadata": {},
   "outputs": [],
   "source": [
    "#drop nan values\n",
    "investinc233=investinc233.dropna(subset=['INTRDVX'])"
   ]
  },
  {
   "cell_type": "code",
   "execution_count": 173,
   "id": "f844a052-4d99-4878-8498-8f5e40e59c81",
   "metadata": {},
   "outputs": [],
   "source": [
    "#calc the percetnage of income that comes from passive income\n",
    "investinc233['% of passive income']=investinc233['INTRDVX']/investinc233['FINCBTAX']*100"
   ]
  },
  {
   "cell_type": "code",
   "execution_count": 176,
   "id": "88c8495b-0fe7-4ce2-a4a5-7ed7702be209",
   "metadata": {},
   "outputs": [],
   "source": [
    "#avg percetnage of passive income per region and houshold\n",
    "investinc233avg=round(investinc233.groupby(['Region','Education level'])['% of passive income'].mean(),2)"
   ]
  },
  {
   "cell_type": "code",
   "execution_count": 177,
   "id": "cbda547f-0086-497c-b961-7f0195489815",
   "metadata": {},
   "outputs": [],
   "source": [
    "#median to .. between varying percentages of passive income from income\n",
    "investinc233median=round(investinc233.groupby(['Region','Education level'])['% of passive income'].median(),2)"
   ]
  },
  {
   "cell_type": "code",
   "execution_count": 178,
   "id": "5ff422e1-5d6d-4f99-9cd4-8947ac975cca",
   "metadata": {},
   "outputs": [
    {
     "data": {
      "text/plain": [
       "Region     Education level \n",
       "Midwest    Associate Degree     1.03\n",
       "           Bachelor Degree     12.31\n",
       "           High School          5.71\n",
       "           Master Degree        8.33\n",
       "           No degree            1.17\n",
       "Northeast  Associate Degree     3.72\n",
       "           Bachelor Degree      9.03\n",
       "           High School          2.38\n",
       "           Master Degree       10.33\n",
       "           No degree            2.51\n",
       "South      Associate Degree     0.76\n",
       "           Bachelor Degree      4.21\n",
       "           High School          5.23\n",
       "           Master Degree        8.49\n",
       "West       Associate Degree    11.84\n",
       "           Bachelor Degree     11.09\n",
       "           High School          8.10\n",
       "           Master Degree        7.76\n",
       "           No degree           25.61\n",
       "Name: % of passive income, dtype: float64"
      ]
     },
     "execution_count": 178,
     "metadata": {},
     "output_type": "execute_result"
    }
   ],
   "source": [
    "investinc233avg"
   ]
  },
  {
   "cell_type": "code",
   "execution_count": 179,
   "id": "198189fd-d147-4319-9098-7d4d342a25d9",
   "metadata": {},
   "outputs": [
    {
     "data": {
      "text/plain": [
       "Region     Education level \n",
       "Midwest    Associate Degree     0.41\n",
       "           Bachelor Degree      0.26\n",
       "           High School          1.02\n",
       "           Master Degree        0.34\n",
       "           No degree            1.17\n",
       "Northeast  Associate Degree     0.27\n",
       "           Bachelor Degree      0.84\n",
       "           High School          0.21\n",
       "           Master Degree        1.52\n",
       "           No degree            2.51\n",
       "South      Associate Degree     0.13\n",
       "           Bachelor Degree      0.28\n",
       "           High School          0.21\n",
       "           Master Degree        0.31\n",
       "West       Associate Degree     4.17\n",
       "           Bachelor Degree      0.29\n",
       "           High School          0.60\n",
       "           Master Degree        0.45\n",
       "           No degree           25.61\n",
       "Name: % of passive income, dtype: float64"
      ]
     },
     "execution_count": 179,
     "metadata": {},
     "output_type": "execute_result"
    }
   ],
   "source": [
    "investinc233median"
   ]
  },
  {
   "cell_type": "markdown",
   "id": "97985ebb-574f-4d5b-ac23-e005d86ea4d1",
   "metadata": {},
   "source": [
    "# Q4"
   ]
  },
  {
   "cell_type": "code",
   "execution_count": 189,
   "id": "549e0d93-b57a-4007-b9cf-f5b13d5d4f64",
   "metadata": {},
   "outputs": [],
   "source": [
    "#clean up data\n",
    "investinc234= fmli234.loc[(fmli234['FINCBTAX'] != 0) &\n",
    "                                (fmli234['Education level'] != 'N/A') &\n",
    "                                (fmli234['Region'] != 'N/A')]"
   ]
  },
  {
   "cell_type": "code",
   "execution_count": 190,
   "id": "59d0b15c-d2fc-4fb1-ac07-71edfa006b48",
   "metadata": {},
   "outputs": [],
   "source": [
    "#drop nan values\n",
    "investinc234=investinc234.dropna(subset=['INTRDVX'])"
   ]
  },
  {
   "cell_type": "code",
   "execution_count": 191,
   "id": "c6f990a9-272f-44a7-9e55-9a0c6f3bca64",
   "metadata": {},
   "outputs": [],
   "source": [
    "#calc the percetnage of income that comes from passive income\n",
    "investinc234['% of passive income']=investinc234['INTRDVX']/investinc234['FINCBTAX']*100"
   ]
  },
  {
   "cell_type": "code",
   "execution_count": 192,
   "id": "22f5ebf3-e710-475c-a7ef-59976e082e7e",
   "metadata": {},
   "outputs": [],
   "source": [
    "#avg percetnage of passive income per region and houshold\n",
    "investinc234avg=round(investinc234.groupby(['Region','Education level'])['% of passive income'].mean(),2)"
   ]
  },
  {
   "cell_type": "code",
   "execution_count": 193,
   "id": "fbd83dee-74e6-4c22-a12f-e9e988da5f82",
   "metadata": {},
   "outputs": [],
   "source": [
    "#median to .. between varying percentages of passive income from income\n",
    "investinc234median=round(investinc234.groupby(['Region','Education level'])['% of passive income'].median(),2)"
   ]
  },
  {
   "cell_type": "code",
   "execution_count": 194,
   "id": "8e8cc907-6c37-4498-b659-f982b8097db3",
   "metadata": {},
   "outputs": [
    {
     "data": {
      "text/plain": [
       "Region     Education level \n",
       "Midwest    Associate Degree     7.31\n",
       "           Bachelor Degree     10.83\n",
       "           High School          9.98\n",
       "           Master Degree        9.79\n",
       "           No degree            1.17\n",
       "Northeast  Associate Degree     0.34\n",
       "           Bachelor Degree      4.54\n",
       "           High School          0.70\n",
       "           Master Degree        8.28\n",
       "           No degree            0.34\n",
       "South      Associate Degree     1.54\n",
       "           Bachelor Degree      7.79\n",
       "           High School          4.37\n",
       "           Master Degree        8.28\n",
       "           No degree            1.50\n",
       "West       Associate Degree    12.54\n",
       "           Bachelor Degree      9.51\n",
       "           High School          5.96\n",
       "           Master Degree       10.08\n",
       "           No degree           25.61\n",
       "Name: % of passive income, dtype: float64"
      ]
     },
     "execution_count": 194,
     "metadata": {},
     "output_type": "execute_result"
    }
   ],
   "source": [
    "investinc234avg"
   ]
  },
  {
   "cell_type": "code",
   "execution_count": 195,
   "id": "6cb690c5-a6a7-4c2f-80a4-de36b2e8f28b",
   "metadata": {},
   "outputs": [
    {
     "data": {
      "text/plain": [
       "Region     Education level \n",
       "Midwest    Associate Degree     0.27\n",
       "           Bachelor Degree      0.19\n",
       "           High School          1.21\n",
       "           Master Degree        0.61\n",
       "           No degree            1.17\n",
       "Northeast  Associate Degree     0.27\n",
       "           Bachelor Degree      0.75\n",
       "           High School          0.10\n",
       "           Master Degree        0.99\n",
       "           No degree            0.09\n",
       "South      Associate Degree     0.26\n",
       "           Bachelor Degree      0.54\n",
       "           High School          0.22\n",
       "           Master Degree        0.26\n",
       "           No degree            1.50\n",
       "West       Associate Degree     2.00\n",
       "           Bachelor Degree      0.89\n",
       "           High School          0.41\n",
       "           Master Degree        0.63\n",
       "           No degree           25.61\n",
       "Name: % of passive income, dtype: float64"
      ]
     },
     "execution_count": 195,
     "metadata": {},
     "output_type": "execute_result"
    }
   ],
   "source": [
    "investinc234median"
   ]
  },
  {
   "cell_type": "markdown",
   "id": "adf10932-1d8e-463f-bcdb-fe89fe8c8d7a",
   "metadata": {},
   "source": [
    "# Question 4: Are households with higher education levels more likely to have retirement accounts compared to lower-educated households?\n",
    "a. Do you have any retirement accounts such as 401(k0s, IRAS, Thrift Saving Plans? (IRA)\n",
    "b. Do you have a defined retirement plan, such as a pension, from an employer? (DEFBENRP)"
   ]
  },
  {
   "cell_type": "code",
   "execution_count": null,
   "id": "485674d0-47b1-457e-84a0-995f9d2968f6",
   "metadata": {},
   "outputs": [],
   "source": [
    "#USE EDUC_REF"
   ]
  },
  {
   "cell_type": "markdown",
   "id": "b622bc5f-4757-4668-b6eb-9ac287b67613",
   "metadata": {},
   "source": [
    "# Part A: Q1"
   ]
  },
  {
   "cell_type": "code",
   "execution_count": 57,
   "id": "69cb344c-49c6-45c1-bf15-0db84db9357a",
   "metadata": {},
   "outputs": [],
   "source": [
    "retire231=fmli231[['NEWID','Region','Education level 2','IRA','DEFBENRP']]"
   ]
  },
  {
   "cell_type": "code",
   "execution_count": 58,
   "id": "d9c8ee21-d198-4846-86b7-06dc613c15d3",
   "metadata": {},
   "outputs": [],
   "source": [
    "#drop na vlaues from IRA and DEFBENRP\n",
    "retire231a=retire231.dropna(subset=['IRA'])"
   ]
  },
  {
   "cell_type": "code",
   "execution_count": 60,
   "id": "e7630903-be74-43c1-99d9-c0538541bb09",
   "metadata": {},
   "outputs": [],
   "source": [
    "#clean up data\n",
    "retire231a= retire231a.loc[(retire231a['Education level 2'] != 'N/A') &\n",
    "                                (retire231a['Region'] != 'N/A')]"
   ]
  },
  {
   "cell_type": "code",
   "execution_count": 68,
   "id": "8ff1d48a-e604-496d-b8b5-cda462ae4187",
   "metadata": {},
   "outputs": [
    {
     "name": "stderr",
     "output_type": "stream",
     "text": [
      "C:\\Users\\Owner\\AppData\\Local\\Temp\\ipykernel_19920\\83742277.py:4: FutureWarning: The default of observed=False is deprecated and will be changed to True in a future version of pandas. Pass observed=False to retain current behavior or observed=True to adopt the future default and silence this warning.\n",
      "  retireacc231perc=retire231a.groupby(['Region','Education level 2']).apply(lambda x: ((x.loc[x['IRA'] == 1])['IRA'].count())/ x['IRA'].count())*100\n",
      "C:\\Users\\Owner\\AppData\\Local\\Temp\\ipykernel_19920\\83742277.py:4: DeprecationWarning: DataFrameGroupBy.apply operated on the grouping columns. This behavior is deprecated, and in a future version of pandas the grouping columns will be excluded from the operation. Either pass `include_groups=False` to exclude the groupings or explicitly select the grouping columns after groupby to silence this warning.\n",
      "  retireacc231perc=retire231a.groupby(['Region','Education level 2']).apply(lambda x: ((x.loc[x['IRA'] == 1])['IRA'].count())/ x['IRA'].count())*100\n"
     ]
    }
   ],
   "source": [
    "#calculate the percentage of peple with retiremtn accounts per education level\n",
    "#if ira = 1 = yes\n",
    "#if ira = 2 = no\n",
    "retireacc231perc=retire231a.groupby(['Region','Education level 2']).apply(lambda x: ((x.loc[x['IRA'] == 1])['IRA'].count())/ x['IRA'].count())*100"
   ]
  },
  {
   "cell_type": "code",
   "execution_count": 69,
   "id": "258e7300-12e9-4c3e-ab5e-af75059064d4",
   "metadata": {},
   "outputs": [
    {
     "data": {
      "text/plain": [
       "Region     Education level 2\n",
       "Midwest    No degree            12.500000\n",
       "           High School          43.939394\n",
       "           Associate Degree     57.894737\n",
       "           Bachelor Degree      79.411765\n",
       "           Master Degree        81.081081\n",
       "Northeast  No degree            12.500000\n",
       "           High School          38.888889\n",
       "           Associate Degree     57.692308\n",
       "           Bachelor Degree      74.468085\n",
       "           Master Degree        77.966102\n",
       "South      No degree            15.000000\n",
       "           High School          25.600000\n",
       "           Associate Degree     28.947368\n",
       "           Bachelor Degree      55.660377\n",
       "           Master Degree        68.831169\n",
       "West       No degree            33.333333\n",
       "           High School          34.782609\n",
       "           Associate Degree     38.235294\n",
       "           Bachelor Degree      70.786517\n",
       "           Master Degree        81.967213\n",
       "dtype: float64"
      ]
     },
     "execution_count": 69,
     "metadata": {},
     "output_type": "execute_result"
    }
   ],
   "source": [
    "retireacc231perc"
   ]
  },
  {
   "cell_type": "markdown",
   "id": "de435372-89fd-4b9c-9bbf-88434c01bc30",
   "metadata": {},
   "source": [
    "# Part B: Q1"
   ]
  },
  {
   "cell_type": "code",
   "execution_count": 64,
   "id": "4d2b05b2-d7cd-4776-a61c-c23265c93122",
   "metadata": {},
   "outputs": [],
   "source": [
    "retire231b=retire231.dropna(subset=['DEFBENRP'])"
   ]
  },
  {
   "cell_type": "code",
   "execution_count": 65,
   "id": "5cbba22b-443a-4be9-b624-01adefb6afbd",
   "metadata": {},
   "outputs": [],
   "source": [
    "#clean up data\n",
    "retire231b= retire231b.loc[(retire231b['Education level 2'] != 'N/A') &\n",
    "                                (retire231b['Region'] != 'N/A')]"
   ]
  },
  {
   "cell_type": "code",
   "execution_count": 72,
   "id": "68291a92-ef87-4786-a328-de940a0aacc0",
   "metadata": {},
   "outputs": [
    {
     "name": "stderr",
     "output_type": "stream",
     "text": [
      "C:\\Users\\Owner\\AppData\\Local\\Temp\\ipykernel_19920\\2495381893.py:4: FutureWarning: The default of observed=False is deprecated and will be changed to True in a future version of pandas. Pass observed=False to retain current behavior or observed=True to adopt the future default and silence this warning.\n",
      "  retire231b=retire231b.groupby(['Region','Education level 2']).apply(lambda x: ((x.loc[x['DEFBENRP'] == 1])['DEFBENRP'].count())/ x['DEFBENRP'].count())\n",
      "C:\\Users\\Owner\\AppData\\Local\\Temp\\ipykernel_19920\\2495381893.py:4: DeprecationWarning: DataFrameGroupBy.apply operated on the grouping columns. This behavior is deprecated, and in a future version of pandas the grouping columns will be excluded from the operation. Either pass `include_groups=False` to exclude the groupings or explicitly select the grouping columns after groupby to silence this warning.\n",
      "  retire231b=retire231b.groupby(['Region','Education level 2']).apply(lambda x: ((x.loc[x['DEFBENRP'] == 1])['DEFBENRP'].count())/ x['DEFBENRP'].count())\n"
     ]
    }
   ],
   "source": [
    "#calculate the percentage of peple with retiremtn accounts per education level\n",
    "#if DEFBENRP = 1 = yes\n",
    "#if DEFBENRP = 2 = no\n",
    "retire231b=retire231b.groupby(['Region','Education level 2']).apply(lambda x: ((x.loc[x['DEFBENRP'] == 1])['DEFBENRP'].count())/ x['DEFBENRP'].count())"
   ]
  },
  {
   "cell_type": "code",
   "execution_count": 73,
   "id": "314c519a-73c8-4c36-a9aa-e289754d73cb",
   "metadata": {},
   "outputs": [
    {
     "data": {
      "text/plain": [
       "Region     Education level 2\n",
       "Midwest    No degree            0.000000\n",
       "           High School          0.378788\n",
       "           Associate Degree     0.368421\n",
       "           Bachelor Degree      0.279412\n",
       "           Master Degree        0.405405\n",
       "Northeast  No degree            0.125000\n",
       "           High School          0.200000\n",
       "           Associate Degree     0.370370\n",
       "           Bachelor Degree      0.333333\n",
       "           Master Degree        0.344828\n",
       "South      No degree            0.050000\n",
       "           High School          0.126984\n",
       "           Associate Degree     0.078947\n",
       "           Bachelor Degree      0.242718\n",
       "           Master Degree        0.298701\n",
       "West       No degree            0.100000\n",
       "           High School          0.130435\n",
       "           Associate Degree     0.205882\n",
       "           Bachelor Degree      0.252874\n",
       "           Master Degree        0.428571\n",
       "dtype: float64"
      ]
     },
     "execution_count": 73,
     "metadata": {},
     "output_type": "execute_result"
    }
   ],
   "source": [
    "retire231b"
   ]
  },
  {
   "cell_type": "markdown",
   "id": "379dfa67-8ab3-4775-877f-c36eed6f876b",
   "metadata": {},
   "source": [
    "# Q2"
   ]
  },
  {
   "cell_type": "code",
   "execution_count": null,
   "id": "72224e35-3fbd-4105-841c-c47f8a259bba",
   "metadata": {},
   "outputs": [],
   "source": []
  },
  {
   "cell_type": "code",
   "execution_count": null,
   "id": "1effaadf-0c3a-445f-8d24-408566a71037",
   "metadata": {},
   "outputs": [],
   "source": []
  },
  {
   "cell_type": "code",
   "execution_count": null,
   "id": "33858739-5ee0-45db-854d-44b4afec0726",
   "metadata": {},
   "outputs": [],
   "source": []
  },
  {
   "cell_type": "code",
   "execution_count": null,
   "id": "b1916320-1279-448d-8ae2-157ed0cf08d3",
   "metadata": {},
   "outputs": [],
   "source": []
  },
  {
   "cell_type": "code",
   "execution_count": null,
   "id": "9a41d762-c6c1-4ab0-ac85-91d7938f4238",
   "metadata": {},
   "outputs": [],
   "source": []
  },
  {
   "cell_type": "code",
   "execution_count": null,
   "id": "24c9f278-22b6-4e1c-8d44-61d10a87bac9",
   "metadata": {},
   "outputs": [],
   "source": []
  },
  {
   "cell_type": "code",
   "execution_count": null,
   "id": "4dc878b4-c698-40c9-b9e8-ae07c11311ee",
   "metadata": {},
   "outputs": [],
   "source": []
  },
  {
   "cell_type": "code",
   "execution_count": null,
   "id": "981a06c5-2ee4-4ab4-abcc-dc1b69920a16",
   "metadata": {},
   "outputs": [],
   "source": []
  },
  {
   "cell_type": "markdown",
   "id": "27d01e43-d7d2-400d-afca-085541beafbe",
   "metadata": {},
   "source": [
    "# Does education level influence investment participation?\n",
    "# Are households with higher education levels less likely to have debt?\n"
   ]
  }
 ],
 "metadata": {
  "kernelspec": {
   "display_name": "Python 3 (ipykernel)",
   "language": "python",
   "name": "python3"
  },
  "language_info": {
   "codemirror_mode": {
    "name": "ipython",
    "version": 3
   },
   "file_extension": ".py",
   "mimetype": "text/x-python",
   "name": "python",
   "nbconvert_exporter": "python",
   "pygments_lexer": "ipython3",
   "version": "3.12.7"
  }
 },
 "nbformat": 4,
 "nbformat_minor": 5
}
