{
 "cells": [
  {
   "cell_type": "code",
   "execution_count": 1,
   "id": "4a9ed001-1c10-4acc-94df-e33585e06c52",
   "metadata": {},
   "outputs": [],
   "source": [
    "import pandas as pd"
   ]
  },
  {
   "cell_type": "code",
   "execution_count": 2,
   "id": "042b1518-ae13-4825-b2e2-c81ddd7dd442",
   "metadata": {},
   "outputs": [],
   "source": [
    "#FMLI231\n",
    "fmli231=pd.read_csv(r'C:\\Users\\Owner\\Documents\\NSS\\Capstone\\Educationproj\\data\\intrvw22\\fmli231.csv')"
   ]
  },
  {
   "cell_type": "code",
   "execution_count": 3,
   "id": "39c7ed05-5e02-4615-8383-ab13799578fb",
   "metadata": {},
   "outputs": [],
   "source": [
    "#region for Q1\n",
    "region231=[]\n",
    "for index, region in fmli231.iterrows():\n",
    "    if region['REGION']== 1:\n",
    "        region231.append('Northeast')\n",
    "    elif region['REGION']== 2:\n",
    "        region231.append('Midwest')\n",
    "    elif region['REGION']== 3:\n",
    "        region231.append('South')\n",
    "    elif region['REGION']== 4:\n",
    "        region231.append('West')\n",
    "    else:\n",
    "        region231.append('N/A')\n",
    "fmli231['Region']=region231"
   ]
  },
  {
   "cell_type": "code",
   "execution_count": 4,
   "id": "26a65c63-83b9-4cd8-85e9-a563d3459f38",
   "metadata": {},
   "outputs": [],
   "source": [
    "#education for Q1\n",
    "educlevel231=[]\n",
    "for index, educ in fmli231.iterrows():\n",
    "    if educ['HIGH_EDU'] in {0,00,10,11}:\n",
    "        educlevel231.append('No degree')\n",
    "    elif educ['HIGH_EDU'] in {11,12,13}:\n",
    "        educlevel231.append('High School')\n",
    "    elif educ['HIGH_EDU'] in {14}:\n",
    "        educlevel231.append('Associate Degree')\n",
    "    elif educ['HIGH_EDU'] in {15}:\n",
    "        educlevel231.append('Bachelor Degree')\n",
    "    elif educ['HIGH_EDU'] in {16}:\n",
    "        educlevel231.append('Master Degree')\n",
    "    elif educ['HIGH_EDU'] in {17}:\n",
    "        educlevel231.append('Professional/Doctorate Degree')\n",
    "    else:\n",
    "        educlevel231.append('N/A')\n",
    "fmli231['Education level']=educlevel231"
   ]
  },
  {
   "cell_type": "code",
   "execution_count": 5,
   "id": "45d5a2b0-84d8-47a1-9c9b-a193c05e95df",
   "metadata": {},
   "outputs": [],
   "source": [
    "#Q1\n",
    "#how much income is available per person in the household\n",
    "#FINCBTAX= Total amount of family income before taxes in the last 12 months (Collected data)\n",
    "fmli231['Income per Capita']= fmli231['FINCBTAX']/fmli231['FAM_SIZE']"
   ]
  },
  {
   "cell_type": "code",
   "execution_count": 6,
   "id": "a79a5e62-cb77-452a-a95d-9ec619f48f2f",
   "metadata": {},
   "outputs": [
    {
     "data": {
      "text/html": [
       "<div>\n",
       "<style scoped>\n",
       "    .dataframe tbody tr th:only-of-type {\n",
       "        vertical-align: middle;\n",
       "    }\n",
       "\n",
       "    .dataframe tbody tr th {\n",
       "        vertical-align: top;\n",
       "    }\n",
       "\n",
       "    .dataframe thead th {\n",
       "        text-align: right;\n",
       "    }\n",
       "</style>\n",
       "<table border=\"1\" class=\"dataframe\">\n",
       "  <thead>\n",
       "    <tr style=\"text-align: right;\">\n",
       "      <th></th>\n",
       "      <th>NEWID</th>\n",
       "      <th>DIRACC</th>\n",
       "      <th>DIRACC_</th>\n",
       "      <th>AGE_REF</th>\n",
       "      <th>AGE_REF_</th>\n",
       "      <th>AGE2</th>\n",
       "      <th>AGE2_</th>\n",
       "      <th>AS_COMP1</th>\n",
       "      <th>AS_C_MP1</th>\n",
       "      <th>AS_COMP2</th>\n",
       "      <th>...</th>\n",
       "      <th>CHDTXP</th>\n",
       "      <th>CHDTXP_</th>\n",
       "      <th>CHDTXPH</th>\n",
       "      <th>CHDTXPH_</th>\n",
       "      <th>FFTAXOWE</th>\n",
       "      <th>FSTAXOWE</th>\n",
       "      <th>FINATXEM</th>\n",
       "      <th>Region</th>\n",
       "      <th>Education level</th>\n",
       "      <th>Income per Capita</th>\n",
       "    </tr>\n",
       "  </thead>\n",
       "  <tbody>\n",
       "    <tr>\n",
       "      <th>0</th>\n",
       "      <td>5011064</td>\n",
       "      <td>1.0</td>\n",
       "      <td>D</td>\n",
       "      <td>87</td>\n",
       "      <td>T</td>\n",
       "      <td>NaN</td>\n",
       "      <td>A</td>\n",
       "      <td>1</td>\n",
       "      <td>D</td>\n",
       "      <td>2</td>\n",
       "      <td>...</td>\n",
       "      <td>NaN</td>\n",
       "      <td>A</td>\n",
       "      <td>NaN</td>\n",
       "      <td>A</td>\n",
       "      <td>-4051</td>\n",
       "      <td>744</td>\n",
       "      <td>57240.2</td>\n",
       "      <td>South</td>\n",
       "      <td>High School</td>\n",
       "      <td>659.666667</td>\n",
       "    </tr>\n",
       "    <tr>\n",
       "      <th>1</th>\n",
       "      <td>5011134</td>\n",
       "      <td>1.0</td>\n",
       "      <td>D</td>\n",
       "      <td>73</td>\n",
       "      <td>D</td>\n",
       "      <td>75.0</td>\n",
       "      <td>D</td>\n",
       "      <td>1</td>\n",
       "      <td>D</td>\n",
       "      <td>1</td>\n",
       "      <td>...</td>\n",
       "      <td>NaN</td>\n",
       "      <td>A</td>\n",
       "      <td>NaN</td>\n",
       "      <td>A</td>\n",
       "      <td>-6600</td>\n",
       "      <td>0</td>\n",
       "      <td>55570.0</td>\n",
       "      <td>Northeast</td>\n",
       "      <td>Master Degree</td>\n",
       "      <td>24485.000000</td>\n",
       "    </tr>\n",
       "    <tr>\n",
       "      <th>2</th>\n",
       "      <td>5011244</td>\n",
       "      <td>1.0</td>\n",
       "      <td>D</td>\n",
       "      <td>47</td>\n",
       "      <td>D</td>\n",
       "      <td>44.0</td>\n",
       "      <td>D</td>\n",
       "      <td>1</td>\n",
       "      <td>D</td>\n",
       "      <td>1</td>\n",
       "      <td>...</td>\n",
       "      <td>NaN</td>\n",
       "      <td>A</td>\n",
       "      <td>NaN</td>\n",
       "      <td>A</td>\n",
       "      <td>22325</td>\n",
       "      <td>4892</td>\n",
       "      <td>145383.0</td>\n",
       "      <td>Midwest</td>\n",
       "      <td>Bachelor Degree</td>\n",
       "      <td>86300.000000</td>\n",
       "    </tr>\n",
       "    <tr>\n",
       "      <th>3</th>\n",
       "      <td>5011314</td>\n",
       "      <td>1.0</td>\n",
       "      <td>D</td>\n",
       "      <td>82</td>\n",
       "      <td>D</td>\n",
       "      <td>NaN</td>\n",
       "      <td>A</td>\n",
       "      <td>0</td>\n",
       "      <td>D</td>\n",
       "      <td>1</td>\n",
       "      <td>...</td>\n",
       "      <td>NaN</td>\n",
       "      <td>A</td>\n",
       "      <td>NaN</td>\n",
       "      <td>A</td>\n",
       "      <td>-1400</td>\n",
       "      <td>0</td>\n",
       "      <td>8732.0</td>\n",
       "      <td>Midwest</td>\n",
       "      <td>High School</td>\n",
       "      <td>7332.000000</td>\n",
       "    </tr>\n",
       "    <tr>\n",
       "      <th>4</th>\n",
       "      <td>5011334</td>\n",
       "      <td>1.0</td>\n",
       "      <td>D</td>\n",
       "      <td>87</td>\n",
       "      <td>T</td>\n",
       "      <td>80.0</td>\n",
       "      <td>D</td>\n",
       "      <td>1</td>\n",
       "      <td>D</td>\n",
       "      <td>1</td>\n",
       "      <td>...</td>\n",
       "      <td>NaN</td>\n",
       "      <td>A</td>\n",
       "      <td>NaN</td>\n",
       "      <td>A</td>\n",
       "      <td>-6600</td>\n",
       "      <td>-148</td>\n",
       "      <td>50555.0</td>\n",
       "      <td>West</td>\n",
       "      <td>High School</td>\n",
       "      <td>21903.500000</td>\n",
       "    </tr>\n",
       "  </tbody>\n",
       "</table>\n",
       "<p>5 rows × 821 columns</p>\n",
       "</div>"
      ],
      "text/plain": [
       "     NEWID  DIRACC DIRACC_  AGE_REF AGE_REF_  AGE2 AGE2_  AS_COMP1 AS_C_MP1  \\\n",
       "0  5011064     1.0       D       87        T   NaN     A         1        D   \n",
       "1  5011134     1.0       D       73        D  75.0     D         1        D   \n",
       "2  5011244     1.0       D       47        D  44.0     D         1        D   \n",
       "3  5011314     1.0       D       82        D   NaN     A         0        D   \n",
       "4  5011334     1.0       D       87        T  80.0     D         1        D   \n",
       "\n",
       "   AS_COMP2  ... CHDTXP  CHDTXP_ CHDTXPH  CHDTXPH_ FFTAXOWE  FSTAXOWE  \\\n",
       "0         2  ...    NaN        A     NaN         A    -4051       744   \n",
       "1         1  ...    NaN        A     NaN         A    -6600         0   \n",
       "2         1  ...    NaN        A     NaN         A    22325      4892   \n",
       "3         1  ...    NaN        A     NaN         A    -1400         0   \n",
       "4         1  ...    NaN        A     NaN         A    -6600      -148   \n",
       "\n",
       "   FINATXEM     Region  Education level  Income per Capita  \n",
       "0   57240.2      South      High School         659.666667  \n",
       "1   55570.0  Northeast    Master Degree       24485.000000  \n",
       "2  145383.0    Midwest  Bachelor Degree       86300.000000  \n",
       "3    8732.0    Midwest      High School        7332.000000  \n",
       "4   50555.0       West      High School       21903.500000  \n",
       "\n",
       "[5 rows x 821 columns]"
      ]
     },
     "execution_count": 6,
     "metadata": {},
     "output_type": "execute_result"
    }
   ],
   "source": [
    "fmli231.head()"
   ]
  },
  {
   "cell_type": "code",
   "execution_count": 7,
   "id": "7a8471ba-50ed-41f5-8828-d0dafe6fb0e2",
   "metadata": {},
   "outputs": [
    {
     "data": {
      "text/plain": [
       "Education level\n",
       "High School         1679\n",
       "Bachelor Degree     1330\n",
       "Master Degree       1019\n",
       "Associate Degree     539\n",
       "No degree            240\n",
       "Name: count, dtype: int64"
      ]
     },
     "execution_count": 7,
     "metadata": {},
     "output_type": "execute_result"
    }
   ],
   "source": [
    "fmli231['Education level'].value_counts()"
   ]
  },
  {
   "cell_type": "code",
   "execution_count": 8,
   "id": "0dc43b40-2e6d-45ef-be63-943418d15644",
   "metadata": {},
   "outputs": [],
   "source": [
    "#FMLI232\n",
    "fmli232=pd.read_csv(r'C:\\Users\\Owner\\Documents\\NSS\\Capstone\\Educationproj\\data\\intrvw23\\fmli232.csv')"
   ]
  },
  {
   "cell_type": "code",
   "execution_count": 9,
   "id": "0d25f6c5-d020-4bcc-89ed-8d6e522d1d48",
   "metadata": {},
   "outputs": [],
   "source": [
    "#region for Q2\n",
    "region232=[]\n",
    "for index, region in fmli232.iterrows():\n",
    "    if region['REGION']== 1:\n",
    "        region232.append('Northeast')\n",
    "    elif region['REGION']== 2:\n",
    "        region232.append('Midwest')\n",
    "    elif region['REGION']== 3:\n",
    "        region232.append('South')\n",
    "    elif region['REGION']== 4:\n",
    "        region232.append('West')\n",
    "    else:\n",
    "        region232.append('N/A')\n",
    "fmli232['Region']=region232"
   ]
  },
  {
   "cell_type": "code",
   "execution_count": 10,
   "id": "17882b40-69d8-4f2e-97da-fd463538c7da",
   "metadata": {},
   "outputs": [],
   "source": [
    "#EDUC FOR Q2\n",
    "educlevel232=[]\n",
    "for index, educ in fmli232.iterrows():\n",
    "    if educ['HIGH_EDU'] in {0,00,10,11}:\n",
    "        educlevel232.append('No degree')\n",
    "    elif educ['HIGH_EDU'] in {11,12,13}:\n",
    "        educlevel232.append('High School')\n",
    "    elif educ['HIGH_EDU'] in {14}:\n",
    "        educlevel232.append('Associate Degree')\n",
    "    elif educ['HIGH_EDU'] in {15}:\n",
    "        educlevel232.append('Bachelor Degree')\n",
    "    elif educ['HIGH_EDU'] in {16}:\n",
    "        educlevel232.append('Master Degree')\n",
    "    elif educ['HIGH_EDU'] in {17}:\n",
    "        educlevel232.append('Professional/Doctorate Degree')\n",
    "    else:\n",
    "        educlevel232.append('N/A')\n",
    "fmli232['Education level']=educlevel232"
   ]
  },
  {
   "cell_type": "code",
   "execution_count": 11,
   "id": "956b54f5-35b2-40fb-b450-10847d63e689",
   "metadata": {},
   "outputs": [],
   "source": [
    "#Q2\n",
    "#calc income per capita\n",
    "fmli232['Income per Capita']= fmli232['FINCBTAX']/fmli232['FAM_SIZE']"
   ]
  },
  {
   "cell_type": "code",
   "execution_count": 12,
   "id": "7804509b-a564-408f-88af-f06ace9ee3bd",
   "metadata": {},
   "outputs": [
    {
     "data": {
      "text/html": [
       "<div>\n",
       "<style scoped>\n",
       "    .dataframe tbody tr th:only-of-type {\n",
       "        vertical-align: middle;\n",
       "    }\n",
       "\n",
       "    .dataframe tbody tr th {\n",
       "        vertical-align: top;\n",
       "    }\n",
       "\n",
       "    .dataframe thead th {\n",
       "        text-align: right;\n",
       "    }\n",
       "</style>\n",
       "<table border=\"1\" class=\"dataframe\">\n",
       "  <thead>\n",
       "    <tr style=\"text-align: right;\">\n",
       "      <th></th>\n",
       "      <th>NEWID</th>\n",
       "      <th>DIRACC</th>\n",
       "      <th>DIRACC_</th>\n",
       "      <th>AGE_REF</th>\n",
       "      <th>AGE_REF_</th>\n",
       "      <th>AGE2</th>\n",
       "      <th>AGE2_</th>\n",
       "      <th>AS_COMP1</th>\n",
       "      <th>AS_C_MP1</th>\n",
       "      <th>AS_COMP2</th>\n",
       "      <th>...</th>\n",
       "      <th>CHDTXP_</th>\n",
       "      <th>CHDTXPH</th>\n",
       "      <th>CHDTXPH_</th>\n",
       "      <th>NUM_VET</th>\n",
       "      <th>fftaxowe</th>\n",
       "      <th>fstaxowe</th>\n",
       "      <th>FINATXEM</th>\n",
       "      <th>Region</th>\n",
       "      <th>Education level</th>\n",
       "      <th>Income per Capita</th>\n",
       "    </tr>\n",
       "  </thead>\n",
       "  <tbody>\n",
       "    <tr>\n",
       "      <th>0</th>\n",
       "      <td>5090604</td>\n",
       "      <td>1.0</td>\n",
       "      <td>D</td>\n",
       "      <td>74</td>\n",
       "      <td>D</td>\n",
       "      <td>72.0</td>\n",
       "      <td>D</td>\n",
       "      <td>1</td>\n",
       "      <td>D</td>\n",
       "      <td>1</td>\n",
       "      <td>...</td>\n",
       "      <td>A</td>\n",
       "      <td>NaN</td>\n",
       "      <td>A</td>\n",
       "      <td>1</td>\n",
       "      <td>0</td>\n",
       "      <td>0</td>\n",
       "      <td>40677.0</td>\n",
       "      <td>South</td>\n",
       "      <td>Master Degree</td>\n",
       "      <td>20338.500000</td>\n",
       "    </tr>\n",
       "    <tr>\n",
       "      <th>1</th>\n",
       "      <td>5090624</td>\n",
       "      <td>1.0</td>\n",
       "      <td>D</td>\n",
       "      <td>87</td>\n",
       "      <td>T</td>\n",
       "      <td>NaN</td>\n",
       "      <td>A</td>\n",
       "      <td>0</td>\n",
       "      <td>D</td>\n",
       "      <td>1</td>\n",
       "      <td>...</td>\n",
       "      <td>A</td>\n",
       "      <td>NaN</td>\n",
       "      <td>A</td>\n",
       "      <td>0</td>\n",
       "      <td>0</td>\n",
       "      <td>0</td>\n",
       "      <td>13787.0</td>\n",
       "      <td>South</td>\n",
       "      <td>High School</td>\n",
       "      <td>13787.000000</td>\n",
       "    </tr>\n",
       "    <tr>\n",
       "      <th>2</th>\n",
       "      <td>5090634</td>\n",
       "      <td>1.0</td>\n",
       "      <td>D</td>\n",
       "      <td>58</td>\n",
       "      <td>D</td>\n",
       "      <td>NaN</td>\n",
       "      <td>A</td>\n",
       "      <td>0</td>\n",
       "      <td>D</td>\n",
       "      <td>1</td>\n",
       "      <td>...</td>\n",
       "      <td>A</td>\n",
       "      <td>NaN</td>\n",
       "      <td>A</td>\n",
       "      <td>0</td>\n",
       "      <td>20397</td>\n",
       "      <td>7544</td>\n",
       "      <td>107059.0</td>\n",
       "      <td>West</td>\n",
       "      <td>Bachelor Degree</td>\n",
       "      <td>135000.000000</td>\n",
       "    </tr>\n",
       "    <tr>\n",
       "      <th>3</th>\n",
       "      <td>5090664</td>\n",
       "      <td>1.0</td>\n",
       "      <td>D</td>\n",
       "      <td>55</td>\n",
       "      <td>D</td>\n",
       "      <td>52.0</td>\n",
       "      <td>D</td>\n",
       "      <td>1</td>\n",
       "      <td>D</td>\n",
       "      <td>1</td>\n",
       "      <td>...</td>\n",
       "      <td>A</td>\n",
       "      <td>NaN</td>\n",
       "      <td>A</td>\n",
       "      <td>0</td>\n",
       "      <td>3552</td>\n",
       "      <td>1489</td>\n",
       "      <td>57932.4</td>\n",
       "      <td>South</td>\n",
       "      <td>High School</td>\n",
       "      <td>0.000000</td>\n",
       "    </tr>\n",
       "    <tr>\n",
       "      <th>4</th>\n",
       "      <td>5090674</td>\n",
       "      <td>1.0</td>\n",
       "      <td>D</td>\n",
       "      <td>31</td>\n",
       "      <td>D</td>\n",
       "      <td>31.0</td>\n",
       "      <td>D</td>\n",
       "      <td>1</td>\n",
       "      <td>D</td>\n",
       "      <td>2</td>\n",
       "      <td>...</td>\n",
       "      <td>A</td>\n",
       "      <td>NaN</td>\n",
       "      <td>A</td>\n",
       "      <td>0</td>\n",
       "      <td>415</td>\n",
       "      <td>0</td>\n",
       "      <td>36475.0</td>\n",
       "      <td>West</td>\n",
       "      <td>High School</td>\n",
       "      <td>12473.333333</td>\n",
       "    </tr>\n",
       "  </tbody>\n",
       "</table>\n",
       "<p>5 rows × 822 columns</p>\n",
       "</div>"
      ],
      "text/plain": [
       "     NEWID  DIRACC DIRACC_  AGE_REF AGE_REF_  AGE2 AGE2_  AS_COMP1 AS_C_MP1  \\\n",
       "0  5090604     1.0       D       74        D  72.0     D         1        D   \n",
       "1  5090624     1.0       D       87        T   NaN     A         0        D   \n",
       "2  5090634     1.0       D       58        D   NaN     A         0        D   \n",
       "3  5090664     1.0       D       55        D  52.0     D         1        D   \n",
       "4  5090674     1.0       D       31        D  31.0     D         1        D   \n",
       "\n",
       "   AS_COMP2  ... CHDTXP_  CHDTXPH CHDTXPH_  NUM_VET fftaxowe  fstaxowe  \\\n",
       "0         1  ...       A      NaN        A        1        0         0   \n",
       "1         1  ...       A      NaN        A        0        0         0   \n",
       "2         1  ...       A      NaN        A        0    20397      7544   \n",
       "3         1  ...       A      NaN        A        0     3552      1489   \n",
       "4         2  ...       A      NaN        A        0      415         0   \n",
       "\n",
       "   FINATXEM  Region  Education level  Income per Capita  \n",
       "0   40677.0   South    Master Degree       20338.500000  \n",
       "1   13787.0   South      High School       13787.000000  \n",
       "2  107059.0    West  Bachelor Degree      135000.000000  \n",
       "3   57932.4   South      High School           0.000000  \n",
       "4   36475.0    West      High School       12473.333333  \n",
       "\n",
       "[5 rows x 822 columns]"
      ]
     },
     "execution_count": 12,
     "metadata": {},
     "output_type": "execute_result"
    }
   ],
   "source": [
    "fmli232.head()"
   ]
  },
  {
   "cell_type": "code",
   "execution_count": 13,
   "id": "92521bb3-b5a2-4073-b239-65fcef54b525",
   "metadata": {},
   "outputs": [],
   "source": [
    "#FMLI233\n",
    "fmli233=pd.read_csv(r'C:\\Users\\Owner\\Documents\\NSS\\Capstone\\Educationproj\\data\\intrvw23\\fmli233.csv')"
   ]
  },
  {
   "cell_type": "code",
   "execution_count": 14,
   "id": "21052e52-d486-420e-8ab9-e4da1f12d297",
   "metadata": {},
   "outputs": [],
   "source": [
    "#region for Q3\n",
    "region233=[]\n",
    "for index, region in fmli233.iterrows():\n",
    "    if region['REGION']== 1:\n",
    "        region233.append('Northeast')\n",
    "    elif region['REGION']== 2:\n",
    "        region233.append('Midwest')\n",
    "    elif region['REGION']== 3:\n",
    "        region233.append('South')\n",
    "    elif region['REGION']== 4:\n",
    "        region233.append('West')\n",
    "    else:\n",
    "        region233.append('N/A')\n",
    "fmli233['Region']=region233"
   ]
  },
  {
   "cell_type": "code",
   "execution_count": 15,
   "id": "41210a20-4f1f-40fc-a6d1-c4b29387a430",
   "metadata": {},
   "outputs": [],
   "source": [
    "#EDUC FOR Q3\n",
    "educlevel233=[]\n",
    "for index, educ in fmli233.iterrows():\n",
    "    if educ['HIGH_EDU'] in {0,00,10,11}:\n",
    "        educlevel233.append('No degree')\n",
    "    elif educ['HIGH_EDU'] in {11,12,13}:\n",
    "        educlevel233.append('High School')\n",
    "    elif educ['HIGH_EDU'] in {14}:\n",
    "        educlevel233.append('Associate Degree')\n",
    "    elif educ['HIGH_EDU'] in {15}:\n",
    "        educlevel233.append('Bachelor Degree')\n",
    "    elif educ['HIGH_EDU'] in {16}:\n",
    "        educlevel233.append('Master Degree')\n",
    "    elif educ['HIGH_EDU'] in {17}:\n",
    "        educlevel233.append('Professional/Doctorate Degree')\n",
    "    else:\n",
    "        educlevel233.append('N/A')\n",
    "fmli233['Education level']=educlevel233"
   ]
  },
  {
   "cell_type": "code",
   "execution_count": 16,
   "id": "f0c8bdea-563e-4008-8dcb-3e02bbbb5e51",
   "metadata": {},
   "outputs": [],
   "source": [
    "#Q3\n",
    "#calc households income per capita\n",
    "fmli233['Income per Capita']= fmli233['FINCBTAX']/fmli233['FAM_SIZE']"
   ]
  },
  {
   "cell_type": "code",
   "execution_count": 17,
   "id": "ee059b58-082f-4a47-a700-64366355572b",
   "metadata": {},
   "outputs": [
    {
     "data": {
      "text/html": [
       "<div>\n",
       "<style scoped>\n",
       "    .dataframe tbody tr th:only-of-type {\n",
       "        vertical-align: middle;\n",
       "    }\n",
       "\n",
       "    .dataframe tbody tr th {\n",
       "        vertical-align: top;\n",
       "    }\n",
       "\n",
       "    .dataframe thead th {\n",
       "        text-align: right;\n",
       "    }\n",
       "</style>\n",
       "<table border=\"1\" class=\"dataframe\">\n",
       "  <thead>\n",
       "    <tr style=\"text-align: right;\">\n",
       "      <th></th>\n",
       "      <th>NEWID</th>\n",
       "      <th>DIRACC</th>\n",
       "      <th>DIRACC_</th>\n",
       "      <th>AGE_REF</th>\n",
       "      <th>AGE_REF_</th>\n",
       "      <th>AGE2</th>\n",
       "      <th>AGE2_</th>\n",
       "      <th>AS_COMP1</th>\n",
       "      <th>AS_C_MP1</th>\n",
       "      <th>AS_COMP2</th>\n",
       "      <th>...</th>\n",
       "      <th>CHDTXP_</th>\n",
       "      <th>CHDTXPH</th>\n",
       "      <th>CHDTXPH_</th>\n",
       "      <th>NUM_VET</th>\n",
       "      <th>FFTAXOWE</th>\n",
       "      <th>FSTAXOWE</th>\n",
       "      <th>FINATXEM</th>\n",
       "      <th>Region</th>\n",
       "      <th>Education level</th>\n",
       "      <th>Income per Capita</th>\n",
       "    </tr>\n",
       "  </thead>\n",
       "  <tbody>\n",
       "    <tr>\n",
       "      <th>0</th>\n",
       "      <td>5201374</td>\n",
       "      <td>1.0</td>\n",
       "      <td>D</td>\n",
       "      <td>23</td>\n",
       "      <td>D</td>\n",
       "      <td>NaN</td>\n",
       "      <td>A</td>\n",
       "      <td>0</td>\n",
       "      <td>D</td>\n",
       "      <td>1</td>\n",
       "      <td>...</td>\n",
       "      <td>A</td>\n",
       "      <td>NaN</td>\n",
       "      <td>A</td>\n",
       "      <td>0</td>\n",
       "      <td>1402</td>\n",
       "      <td>860</td>\n",
       "      <td>24534.8</td>\n",
       "      <td>South</td>\n",
       "      <td>Bachelor Degree</td>\n",
       "      <td>24000.000000</td>\n",
       "    </tr>\n",
       "    <tr>\n",
       "      <th>1</th>\n",
       "      <td>5201414</td>\n",
       "      <td>1.0</td>\n",
       "      <td>D</td>\n",
       "      <td>79</td>\n",
       "      <td>D</td>\n",
       "      <td>78.0</td>\n",
       "      <td>D</td>\n",
       "      <td>1</td>\n",
       "      <td>D</td>\n",
       "      <td>2</td>\n",
       "      <td>...</td>\n",
       "      <td>A</td>\n",
       "      <td>NaN</td>\n",
       "      <td>A</td>\n",
       "      <td>1</td>\n",
       "      <td>0</td>\n",
       "      <td>0</td>\n",
       "      <td>36257.0</td>\n",
       "      <td>South</td>\n",
       "      <td>High School</td>\n",
       "      <td>12085.666667</td>\n",
       "    </tr>\n",
       "    <tr>\n",
       "      <th>2</th>\n",
       "      <td>5201464</td>\n",
       "      <td>1.0</td>\n",
       "      <td>D</td>\n",
       "      <td>65</td>\n",
       "      <td>D</td>\n",
       "      <td>NaN</td>\n",
       "      <td>A</td>\n",
       "      <td>2</td>\n",
       "      <td>D</td>\n",
       "      <td>1</td>\n",
       "      <td>...</td>\n",
       "      <td>A</td>\n",
       "      <td>NaN</td>\n",
       "      <td>A</td>\n",
       "      <td>0</td>\n",
       "      <td>12192</td>\n",
       "      <td>4152</td>\n",
       "      <td>74146.0</td>\n",
       "      <td>Midwest</td>\n",
       "      <td>Master Degree</td>\n",
       "      <td>0.000000</td>\n",
       "    </tr>\n",
       "    <tr>\n",
       "      <th>3</th>\n",
       "      <td>5201474</td>\n",
       "      <td>1.0</td>\n",
       "      <td>D</td>\n",
       "      <td>72</td>\n",
       "      <td>D</td>\n",
       "      <td>NaN</td>\n",
       "      <td>A</td>\n",
       "      <td>0</td>\n",
       "      <td>D</td>\n",
       "      <td>1</td>\n",
       "      <td>...</td>\n",
       "      <td>A</td>\n",
       "      <td>NaN</td>\n",
       "      <td>A</td>\n",
       "      <td>0</td>\n",
       "      <td>0</td>\n",
       "      <td>0</td>\n",
       "      <td>16547.0</td>\n",
       "      <td>West</td>\n",
       "      <td>High School</td>\n",
       "      <td>16547.000000</td>\n",
       "    </tr>\n",
       "    <tr>\n",
       "      <th>4</th>\n",
       "      <td>5201664</td>\n",
       "      <td>1.0</td>\n",
       "      <td>D</td>\n",
       "      <td>71</td>\n",
       "      <td>D</td>\n",
       "      <td>71.0</td>\n",
       "      <td>D</td>\n",
       "      <td>2</td>\n",
       "      <td>D</td>\n",
       "      <td>2</td>\n",
       "      <td>...</td>\n",
       "      <td>A</td>\n",
       "      <td>NaN</td>\n",
       "      <td>A</td>\n",
       "      <td>0</td>\n",
       "      <td>36779</td>\n",
       "      <td>8888</td>\n",
       "      <td>238018.0</td>\n",
       "      <td>South</td>\n",
       "      <td>Master Degree</td>\n",
       "      <td>70921.250000</td>\n",
       "    </tr>\n",
       "  </tbody>\n",
       "</table>\n",
       "<p>5 rows × 822 columns</p>\n",
       "</div>"
      ],
      "text/plain": [
       "     NEWID  DIRACC DIRACC_  AGE_REF AGE_REF_  AGE2 AGE2_  AS_COMP1 AS_C_MP1  \\\n",
       "0  5201374     1.0       D       23        D   NaN     A         0        D   \n",
       "1  5201414     1.0       D       79        D  78.0     D         1        D   \n",
       "2  5201464     1.0       D       65        D   NaN     A         2        D   \n",
       "3  5201474     1.0       D       72        D   NaN     A         0        D   \n",
       "4  5201664     1.0       D       71        D  71.0     D         2        D   \n",
       "\n",
       "   AS_COMP2  ... CHDTXP_  CHDTXPH CHDTXPH_  NUM_VET FFTAXOWE  FSTAXOWE  \\\n",
       "0         1  ...       A      NaN        A        0     1402       860   \n",
       "1         2  ...       A      NaN        A        1        0         0   \n",
       "2         1  ...       A      NaN        A        0    12192      4152   \n",
       "3         1  ...       A      NaN        A        0        0         0   \n",
       "4         2  ...       A      NaN        A        0    36779      8888   \n",
       "\n",
       "   FINATXEM   Region  Education level  Income per Capita  \n",
       "0   24534.8    South  Bachelor Degree       24000.000000  \n",
       "1   36257.0    South      High School       12085.666667  \n",
       "2   74146.0  Midwest    Master Degree           0.000000  \n",
       "3   16547.0     West      High School       16547.000000  \n",
       "4  238018.0    South    Master Degree       70921.250000  \n",
       "\n",
       "[5 rows x 822 columns]"
      ]
     },
     "execution_count": 17,
     "metadata": {},
     "output_type": "execute_result"
    }
   ],
   "source": [
    "fmli233.head()"
   ]
  },
  {
   "cell_type": "markdown",
   "id": "bca54218-080b-4751-ace1-9336ff8b8a7e",
   "metadata": {},
   "source": [
    "Q4"
   ]
  },
  {
   "cell_type": "code",
   "execution_count": 18,
   "id": "c0e9d38d-1f04-4f01-8544-d302ec9583c4",
   "metadata": {},
   "outputs": [],
   "source": [
    "#FMLI234\n",
    "fmli234=pd.read_csv(r'C:\\Users\\Owner\\Documents\\NSS\\Capstone\\Educationproj\\data\\intrvw23\\fmli234.csv')"
   ]
  },
  {
   "cell_type": "code",
   "execution_count": 19,
   "id": "4b7e6309-e20a-483a-baa4-b79018256847",
   "metadata": {},
   "outputs": [],
   "source": [
    "#region for Q4\n",
    "region234=[]\n",
    "for index, region in fmli234.iterrows():\n",
    "    if region['REGION']== 1:\n",
    "        region234.append('Northeast')\n",
    "    elif region['REGION']== 2:\n",
    "        region234.append('Midwest')\n",
    "    elif region['REGION']== 3:\n",
    "        region234.append('South')\n",
    "    elif region['REGION']== 4:\n",
    "        region234.append('West')\n",
    "    else:\n",
    "        region234.append('N/A')\n",
    "fmli234['Region']=region234"
   ]
  },
  {
   "cell_type": "code",
   "execution_count": 20,
   "id": "34702d51-f84e-4cd3-9fdb-6aafdd3572ed",
   "metadata": {},
   "outputs": [],
   "source": [
    "#EDUC FOR Q4\n",
    "educlevel234=[]\n",
    "for index, educ in fmli234.iterrows():\n",
    "    if educ['HIGH_EDU'] in {0,00,10,11}:\n",
    "        educlevel234.append('No degree')\n",
    "    elif educ['HIGH_EDU'] in {11,12,13}:\n",
    "        educlevel234.append('High School')\n",
    "    elif educ['HIGH_EDU'] in {14}:\n",
    "        educlevel234.append('Associate Degree')\n",
    "    elif educ['HIGH_EDU'] in {15}:\n",
    "        educlevel234.append('Bachelor Degree')\n",
    "    elif educ['HIGH_EDU'] in {16}:\n",
    "        educlevel234.append('Master Degree')\n",
    "    elif educ['HIGH_EDU'] in {17}:\n",
    "        educlevel234.append('Professional/Doctorate Degree')\n",
    "    else:\n",
    "        educlevel234.append('N/A')\n",
    "fmli234['Education level']=educlevel234"
   ]
  },
  {
   "cell_type": "code",
   "execution_count": 21,
   "id": "85e5079b-d266-43cc-a98c-984120a6a6fc",
   "metadata": {},
   "outputs": [],
   "source": [
    "# Q4 calc income per capita\n",
    "fmli234['Income per Capita']= fmli234['FINCBTAX']/fmli234['FAM_SIZE']"
   ]
  },
  {
   "cell_type": "code",
   "execution_count": 22,
   "id": "0fba0888-70fe-480a-b1a8-b174be7322f3",
   "metadata": {},
   "outputs": [
    {
     "data": {
      "text/html": [
       "<div>\n",
       "<style scoped>\n",
       "    .dataframe tbody tr th:only-of-type {\n",
       "        vertical-align: middle;\n",
       "    }\n",
       "\n",
       "    .dataframe tbody tr th {\n",
       "        vertical-align: top;\n",
       "    }\n",
       "\n",
       "    .dataframe thead th {\n",
       "        text-align: right;\n",
       "    }\n",
       "</style>\n",
       "<table border=\"1\" class=\"dataframe\">\n",
       "  <thead>\n",
       "    <tr style=\"text-align: right;\">\n",
       "      <th></th>\n",
       "      <th>NEWID</th>\n",
       "      <th>DIRACC</th>\n",
       "      <th>DIRACC_</th>\n",
       "      <th>AGE_REF</th>\n",
       "      <th>AGE_REF_</th>\n",
       "      <th>AGE2</th>\n",
       "      <th>AGE2_</th>\n",
       "      <th>AS_COMP1</th>\n",
       "      <th>AS_C_MP1</th>\n",
       "      <th>AS_COMP2</th>\n",
       "      <th>...</th>\n",
       "      <th>CHDTXP_</th>\n",
       "      <th>CHDTXPH</th>\n",
       "      <th>CHDTXPH_</th>\n",
       "      <th>NUM_VET</th>\n",
       "      <th>fftaxowe</th>\n",
       "      <th>fstaxowe</th>\n",
       "      <th>FINATXEM</th>\n",
       "      <th>Region</th>\n",
       "      <th>Education level</th>\n",
       "      <th>Income per Capita</th>\n",
       "    </tr>\n",
       "  </thead>\n",
       "  <tbody>\n",
       "    <tr>\n",
       "      <th>0</th>\n",
       "      <td>5251754</td>\n",
       "      <td>1.0</td>\n",
       "      <td>D</td>\n",
       "      <td>39</td>\n",
       "      <td>D</td>\n",
       "      <td>39.0</td>\n",
       "      <td>D</td>\n",
       "      <td>2</td>\n",
       "      <td>D</td>\n",
       "      <td>3</td>\n",
       "      <td>...</td>\n",
       "      <td>A</td>\n",
       "      <td>NaN</td>\n",
       "      <td>A</td>\n",
       "      <td>1</td>\n",
       "      <td>2019</td>\n",
       "      <td>0</td>\n",
       "      <td>57981.0</td>\n",
       "      <td>South</td>\n",
       "      <td>High School</td>\n",
       "      <td>12000.0</td>\n",
       "    </tr>\n",
       "    <tr>\n",
       "      <th>1</th>\n",
       "      <td>5251764</td>\n",
       "      <td>1.0</td>\n",
       "      <td>D</td>\n",
       "      <td>34</td>\n",
       "      <td>D</td>\n",
       "      <td>34.0</td>\n",
       "      <td>D</td>\n",
       "      <td>1</td>\n",
       "      <td>D</td>\n",
       "      <td>1</td>\n",
       "      <td>...</td>\n",
       "      <td>A</td>\n",
       "      <td>NaN</td>\n",
       "      <td>A</td>\n",
       "      <td>0</td>\n",
       "      <td>73297</td>\n",
       "      <td>27329</td>\n",
       "      <td>286715.6</td>\n",
       "      <td>Midwest</td>\n",
       "      <td>Bachelor Degree</td>\n",
       "      <td>0.0</td>\n",
       "    </tr>\n",
       "    <tr>\n",
       "      <th>2</th>\n",
       "      <td>5251784</td>\n",
       "      <td>1.0</td>\n",
       "      <td>D</td>\n",
       "      <td>65</td>\n",
       "      <td>D</td>\n",
       "      <td>NaN</td>\n",
       "      <td>A</td>\n",
       "      <td>0</td>\n",
       "      <td>D</td>\n",
       "      <td>1</td>\n",
       "      <td>...</td>\n",
       "      <td>A</td>\n",
       "      <td>NaN</td>\n",
       "      <td>A</td>\n",
       "      <td>0</td>\n",
       "      <td>0</td>\n",
       "      <td>0</td>\n",
       "      <td>17197.0</td>\n",
       "      <td>West</td>\n",
       "      <td>Bachelor Degree</td>\n",
       "      <td>16132.0</td>\n",
       "    </tr>\n",
       "    <tr>\n",
       "      <th>3</th>\n",
       "      <td>5251854</td>\n",
       "      <td>1.0</td>\n",
       "      <td>D</td>\n",
       "      <td>49</td>\n",
       "      <td>D</td>\n",
       "      <td>NaN</td>\n",
       "      <td>A</td>\n",
       "      <td>0</td>\n",
       "      <td>D</td>\n",
       "      <td>2</td>\n",
       "      <td>...</td>\n",
       "      <td>A</td>\n",
       "      <td>NaN</td>\n",
       "      <td>A</td>\n",
       "      <td>0</td>\n",
       "      <td>8815</td>\n",
       "      <td>0</td>\n",
       "      <td>74135.0</td>\n",
       "      <td>West</td>\n",
       "      <td>Bachelor Degree</td>\n",
       "      <td>41475.0</td>\n",
       "    </tr>\n",
       "    <tr>\n",
       "      <th>4</th>\n",
       "      <td>5251874</td>\n",
       "      <td>1.0</td>\n",
       "      <td>D</td>\n",
       "      <td>42</td>\n",
       "      <td>D</td>\n",
       "      <td>NaN</td>\n",
       "      <td>A</td>\n",
       "      <td>1</td>\n",
       "      <td>D</td>\n",
       "      <td>0</td>\n",
       "      <td>...</td>\n",
       "      <td>A</td>\n",
       "      <td>NaN</td>\n",
       "      <td>A</td>\n",
       "      <td>0</td>\n",
       "      <td>6436</td>\n",
       "      <td>1969</td>\n",
       "      <td>55595.0</td>\n",
       "      <td>South</td>\n",
       "      <td>High School</td>\n",
       "      <td>64000.0</td>\n",
       "    </tr>\n",
       "  </tbody>\n",
       "</table>\n",
       "<p>5 rows × 822 columns</p>\n",
       "</div>"
      ],
      "text/plain": [
       "     NEWID  DIRACC DIRACC_  AGE_REF AGE_REF_  AGE2 AGE2_  AS_COMP1 AS_C_MP1  \\\n",
       "0  5251754     1.0       D       39        D  39.0     D         2        D   \n",
       "1  5251764     1.0       D       34        D  34.0     D         1        D   \n",
       "2  5251784     1.0       D       65        D   NaN     A         0        D   \n",
       "3  5251854     1.0       D       49        D   NaN     A         0        D   \n",
       "4  5251874     1.0       D       42        D   NaN     A         1        D   \n",
       "\n",
       "   AS_COMP2  ... CHDTXP_  CHDTXPH CHDTXPH_  NUM_VET fftaxowe  fstaxowe  \\\n",
       "0         3  ...       A      NaN        A        1     2019         0   \n",
       "1         1  ...       A      NaN        A        0    73297     27329   \n",
       "2         1  ...       A      NaN        A        0        0         0   \n",
       "3         2  ...       A      NaN        A        0     8815         0   \n",
       "4         0  ...       A      NaN        A        0     6436      1969   \n",
       "\n",
       "   FINATXEM   Region  Education level  Income per Capita  \n",
       "0   57981.0    South      High School            12000.0  \n",
       "1  286715.6  Midwest  Bachelor Degree                0.0  \n",
       "2   17197.0     West  Bachelor Degree            16132.0  \n",
       "3   74135.0     West  Bachelor Degree            41475.0  \n",
       "4   55595.0    South      High School            64000.0  \n",
       "\n",
       "[5 rows x 822 columns]"
      ]
     },
     "execution_count": 22,
     "metadata": {},
     "output_type": "execute_result"
    }
   ],
   "source": [
    "fmli234.head()"
   ]
  },
  {
   "cell_type": "code",
   "execution_count": null,
   "id": "d9035efd-15a5-4ac0-8073-b3311cff930e",
   "metadata": {},
   "outputs": [],
   "source": []
  },
  {
   "cell_type": "code",
   "execution_count": null,
   "id": "b8a42803-ed9f-4a66-8d93-2e8967e1d964",
   "metadata": {},
   "outputs": [],
   "source": []
  },
  {
   "cell_type": "code",
   "execution_count": null,
   "id": "d9422623-1688-4405-a07f-9efac4979962",
   "metadata": {},
   "outputs": [],
   "source": []
  },
  {
   "cell_type": "code",
   "execution_count": null,
   "id": "96710d67-6fe7-4cf8-bef5-e57475064e9a",
   "metadata": {},
   "outputs": [],
   "source": []
  },
  {
   "cell_type": "markdown",
   "id": "b78da53b-dbf1-4b1a-b7a2-82731a7a1925",
   "metadata": {},
   "source": [
    "Question 1: Do lower-income households have a lower level of education compared to high earning housholds?"
   ]
  },
  {
   "cell_type": "code",
   "execution_count": 23,
   "id": "8531f223-ded2-492a-8cb5-2a15b9a75def",
   "metadata": {},
   "outputs": [],
   "source": [
    "#keep relevant cols\n",
    "educincome231=fmli231[['NEWID','Region','Education level','Income per Capita']]"
   ]
  },
  {
   "cell_type": "code",
   "execution_count": 24,
   "id": "decedb16-7309-4fec-8a2e-42f2fd968a09",
   "metadata": {},
   "outputs": [],
   "source": [
    "#clean up the data\n",
    "#get rid of N/A vlaues from education\n",
    "#get rid of N/A vlaues from region\n",
    "    #group by region since income varies between region and it could offer more in depth insight\n",
    "educincome231=educincome231.loc[educincome231['Region'] != 'N/A']\n",
    "educincome231=educincome231.loc[educincome231['Education level'] != 'N/A']"
   ]
  },
  {
   "cell_type": "code",
   "execution_count": 25,
   "id": "d940192d-092c-48ab-a184-d91fe2aeb51f",
   "metadata": {},
   "outputs": [],
   "source": [
    "#educ order\n",
    "custom_order=['No degree','High School','Associate Degree','Bachelor Degree', 'Master Degree']"
   ]
  },
  {
   "cell_type": "code",
   "execution_count": 26,
   "id": "c459208e-9114-470b-b355-1408e203c2d1",
   "metadata": {},
   "outputs": [],
   "source": [
    "#order it with the cusom order\n",
    "educincome231['Education level']=pd.Categorical(educincome231['Education level'], categories= custom_order, ordered=True)"
   ]
  },
  {
   "cell_type": "code",
   "execution_count": 27,
   "id": "20901de1-bc0f-49ab-beec-53f8f3d903fc",
   "metadata": {},
   "outputs": [
    {
     "name": "stderr",
     "output_type": "stream",
     "text": [
      "C:\\Users\\Owner\\AppData\\Local\\Temp\\ipykernel_16456\\1424022048.py:1: FutureWarning: The default of observed=False is deprecated and will be changed to True in a future version of pandas. Pass observed=False to retain current behavior or observed=True to adopt the future default and silence this warning.\n",
      "  educincome231avg=round(educincome231.groupby(['Region','Education level'])['Income per Capita'].mean(),2)\n"
     ]
    }
   ],
   "source": [
    "educincome231avg=round(educincome231.groupby(['Region','Education level'])['Income per Capita'].mean(),2)"
   ]
  },
  {
   "cell_type": "code",
   "execution_count": 28,
   "id": "653bfaba-d21f-4c1f-9002-d1e2758ac0bc",
   "metadata": {},
   "outputs": [
    {
     "name": "stderr",
     "output_type": "stream",
     "text": [
      "C:\\Users\\Owner\\AppData\\Local\\Temp\\ipykernel_16456\\1803680124.py:1: FutureWarning: The default of observed=False is deprecated and will be changed to True in a future version of pandas. Pass observed=False to retain current behavior or observed=True to adopt the future default and silence this warning.\n",
      "  educincome231median=round(educincome231.groupby(['Region','Education level'])['Income per Capita'].median(),2)\n"
     ]
    }
   ],
   "source": [
    "educincome231median=round(educincome231.groupby(['Region','Education level'])['Income per Capita'].median(),2)"
   ]
  },
  {
   "cell_type": "code",
   "execution_count": 29,
   "id": "045a6d0c-2f8e-4493-bc59-5e62fb193e25",
   "metadata": {},
   "outputs": [
    {
     "data": {
      "text/plain": [
       "Region     Education level \n",
       "Midwest    No degree           18598.70\n",
       "           High School         25808.32\n",
       "           Associate Degree    35068.33\n",
       "           Bachelor Degree     48396.44\n",
       "           Master Degree       59122.67\n",
       "Northeast  No degree           22729.86\n",
       "           High School         29851.48\n",
       "           Associate Degree    39454.08\n",
       "           Bachelor Degree     60466.30\n",
       "           Master Degree       67904.39\n",
       "South      No degree           16876.72\n",
       "           High School         24013.10\n",
       "           Associate Degree    31020.68\n",
       "           Bachelor Degree     46674.04\n",
       "           Master Degree       63440.71\n",
       "West       No degree           15081.63\n",
       "           High School         28340.41\n",
       "           Associate Degree    32750.64\n",
       "           Bachelor Degree     55155.54\n",
       "           Master Degree       67780.80\n",
       "Name: Income per Capita, dtype: float64"
      ]
     },
     "execution_count": 29,
     "metadata": {},
     "output_type": "execute_result"
    }
   ],
   "source": [
    "educincome231avg"
   ]
  },
  {
   "cell_type": "code",
   "execution_count": 30,
   "id": "4d3d21cb-7a36-479a-b62b-d7fb2747496f",
   "metadata": {},
   "outputs": [
    {
     "data": {
      "text/plain": [
       "Region     Education level \n",
       "Midwest    No degree           15000.00\n",
       "           High School         20000.00\n",
       "           Associate Degree    31196.50\n",
       "           Bachelor Degree     38825.50\n",
       "           Master Degree       48295.67\n",
       "Northeast  No degree           17482.00\n",
       "           High School         21380.25\n",
       "           Associate Degree    29547.50\n",
       "           Bachelor Degree     44749.00\n",
       "           Master Degree       50000.00\n",
       "South      No degree           14500.00\n",
       "           High School         18872.83\n",
       "           Associate Degree    25350.00\n",
       "           Bachelor Degree     35000.00\n",
       "           Master Degree       48000.00\n",
       "West       No degree           13475.50\n",
       "           High School         21903.50\n",
       "           Associate Degree    25123.00\n",
       "           Bachelor Degree     41250.00\n",
       "           Master Degree       48050.00\n",
       "Name: Income per Capita, dtype: float64"
      ]
     },
     "execution_count": 30,
     "metadata": {},
     "output_type": "execute_result"
    }
   ],
   "source": [
    "educincome231median"
   ]
  },
  {
   "cell_type": "code",
   "execution_count": 31,
   "id": "ed97a743-d9ff-4141-9931-906dd6662391",
   "metadata": {},
   "outputs": [],
   "source": [
    "import seaborn as sns\n",
    "import pandas as pd\n",
    "import matplotlib.pyplot as plt"
   ]
  },
  {
   "cell_type": "code",
   "execution_count": 32,
   "id": "2a7e756c-8018-4e0e-af38-7b969a985c85",
   "metadata": {},
   "outputs": [],
   "source": [
    "eeducincome231avgdf = educincome231avg.reset_index()"
   ]
  },
  {
   "cell_type": "code",
   "execution_count": 33,
   "id": "2390ae79-412b-4189-861a-cfba525fa41d",
   "metadata": {},
   "outputs": [
    {
     "data": {
      "image/png": "[encoded data removed]",
      "text/plain": [
       "<Figure size 1000x800 with 1 Axes>"
      ]
     },
     "metadata": {},
     "output_type": "display_data"
    }
   ],
   "source": [
    "#pick abother coloe scheme!\n",
    "plt.figure(figsize=(10, 8))\n",
    "sns.barplot(data=eeducincome231avgdf, x=\"Region\", y=\"Income per Capita\", hue=\"Education level\")\n",
    "plt.title(\"Average Income per Capita by Region and Education Level\")\n",
    "plt.xlabel(\"Region\")\n",
    "plt.ylabel(\"Income per Capita (USD)\")\n",
    "plt.legend(title=\"Education Level\")\n",
    "plt.show()"
   ]
  },
  {
   "cell_type": "markdown",
   "id": "9852e202-d419-4b4a-b47b-e548d569e238",
   "metadata": {},
   "source": [
    "Q2 "
   ]
  },
  {
   "cell_type": "code",
   "execution_count": 34,
   "id": "e45ed555-b75f-40fd-a2b0-e3915939c2f3",
   "metadata": {},
   "outputs": [],
   "source": [
    "#keep relevant cols\n",
    "educincome232=fmli232[['NEWID','Region','Education level','Income per Capita']]"
   ]
  },
  {
   "cell_type": "code",
   "execution_count": 35,
   "id": "6137fa74-777f-45ed-8a79-f5c4964b69d0",
   "metadata": {},
   "outputs": [],
   "source": [
    "#clean up N/A from region and education level \n",
    "educincome232=educincome232.loc[educincome232['Region'] != 'N/A' ]\n",
    "educincome232=educincome232.loc[educincome232['Education level'] != 'N/A' ]"
   ]
  },
  {
   "cell_type": "code",
   "execution_count": 36,
   "id": "501d99be-8f81-406b-a8db-36f2052993d3",
   "metadata": {},
   "outputs": [],
   "source": [
    "#catgorize it with the cusom order\n",
    "educincome232['Education level']=pd.Categorical(educincome232['Education level'], categories= custom_order, ordered=True)"
   ]
  },
  {
   "cell_type": "code",
   "execution_count": 37,
   "id": "927b1724-6ced-4a76-9b94-722903c222a3",
   "metadata": {},
   "outputs": [
    {
     "name": "stderr",
     "output_type": "stream",
     "text": [
      "C:\\Users\\Owner\\AppData\\Local\\Temp\\ipykernel_16456\\4034586373.py:2: FutureWarning: The default of observed=False is deprecated and will be changed to True in a future version of pandas. Pass observed=False to retain current behavior or observed=True to adopt the future default and silence this warning.\n",
      "  educincome232avg=round(educincome232.groupby(['Region','Education level'])['Income per Capita'].mean(),2)\n"
     ]
    }
   ],
   "source": [
    "#avg houshold income per capita per region and educ level\n",
    "educincome232avg=round(educincome232.groupby(['Region','Education level'])['Income per Capita'].mean(),2)"
   ]
  },
  {
   "cell_type": "code",
   "execution_count": 38,
   "id": "de2c2113-7e3b-49fb-a8da-fb16e2ef5715",
   "metadata": {},
   "outputs": [
    {
     "name": "stderr",
     "output_type": "stream",
     "text": [
      "C:\\Users\\Owner\\AppData\\Local\\Temp\\ipykernel_16456\\3698810780.py:1: FutureWarning: The default of observed=False is deprecated and will be changed to True in a future version of pandas. Pass observed=False to retain current behavior or observed=True to adopt the future default and silence this warning.\n",
      "  educincome232median=round(educincome232.groupby(['Region','Education level'])['Income per Capita'].median(),2)\n"
     ]
    }
   ],
   "source": [
    "educincome232median=round(educincome232.groupby(['Region','Education level'])['Income per Capita'].median(),2)"
   ]
  },
  {
   "cell_type": "code",
   "execution_count": 39,
   "id": "6f2d2084-06da-4726-91e8-6ba6c85ef3d1",
   "metadata": {},
   "outputs": [
    {
     "data": {
      "text/plain": [
       "Region     Education level \n",
       "Midwest    No degree           17265.18\n",
       "           High School         28261.26\n",
       "           Associate Degree    35562.64\n",
       "           Bachelor Degree     50680.08\n",
       "           Master Degree       54713.32\n",
       "Northeast  No degree           18477.89\n",
       "           High School         32240.11\n",
       "           Associate Degree    34995.57\n",
       "           Bachelor Degree     58459.54\n",
       "           Master Degree       77758.37\n",
       "South      No degree           16294.17\n",
       "           High School         23798.18\n",
       "           Associate Degree    30688.81\n",
       "           Bachelor Degree     46313.80\n",
       "           Master Degree       65259.70\n",
       "West       No degree           21701.82\n",
       "           High School         30830.51\n",
       "           Associate Degree    34203.67\n",
       "           Bachelor Degree     56114.20\n",
       "           Master Degree       66927.94\n",
       "Name: Income per Capita, dtype: float64"
      ]
     },
     "execution_count": 39,
     "metadata": {},
     "output_type": "execute_result"
    }
   ],
   "source": [
    "educincome232avg"
   ]
  },
  {
   "cell_type": "code",
   "execution_count": 40,
   "id": "bec14656-749d-4959-b54a-c7c5e1357677",
   "metadata": {},
   "outputs": [
    {
     "data": {
      "text/plain": [
       "Region     Education level \n",
       "Midwest    No degree           15000.00\n",
       "           High School         22062.50\n",
       "           Associate Degree    29850.00\n",
       "           Bachelor Degree     37000.50\n",
       "           Master Degree       47612.00\n",
       "Northeast  No degree           14207.00\n",
       "           High School         22214.50\n",
       "           Associate Degree    30150.00\n",
       "           Bachelor Degree     42889.50\n",
       "           Master Degree       58000.00\n",
       "South      No degree           13979.00\n",
       "           High School         17209.75\n",
       "           Associate Degree    24253.75\n",
       "           Bachelor Degree     34000.00\n",
       "           Master Degree       46105.60\n",
       "West       No degree           15406.50\n",
       "           High School         21708.33\n",
       "           Associate Degree    26944.00\n",
       "           Bachelor Degree     40770.00\n",
       "           Master Degree       50000.00\n",
       "Name: Income per Capita, dtype: float64"
      ]
     },
     "execution_count": 40,
     "metadata": {},
     "output_type": "execute_result"
    }
   ],
   "source": [
    "educincome232median"
   ]
  },
  {
   "cell_type": "code",
   "execution_count": 41,
   "id": "63923358-1737-423c-863c-4b5e7dac5e56",
   "metadata": {},
   "outputs": [],
   "source": [
    "#make a visulizations...."
   ]
  },
  {
   "cell_type": "markdown",
   "id": "a7df0de8-cb4c-4e5b-9a93-91e2b3ac044e",
   "metadata": {},
   "source": [
    "Q3"
   ]
  },
  {
   "cell_type": "code",
   "execution_count": 42,
   "id": "1d40ca1f-0c07-4611-8592-a15e6a219211",
   "metadata": {},
   "outputs": [],
   "source": [
    "#keep relevant cols\n",
    "educincome233=fmli233[['NEWID','Region','Education level','Income per Capita']]"
   ]
  },
  {
   "cell_type": "code",
   "execution_count": 43,
   "id": "2a80ba5f-5455-4883-a9b3-ba693eb4ed78",
   "metadata": {},
   "outputs": [],
   "source": [
    "#get rid of N/A vlaue from region and education levels\n",
    "educincome233=educincome233[educincome233['Education level'] != 'N/A']\n",
    "educincome233=educincome233[educincome233['Region'] != 'N/A']"
   ]
  },
  {
   "cell_type": "code",
   "execution_count": 44,
   "id": "0fdd2f18-6f7d-4c71-9b67-c09e7028adbc",
   "metadata": {},
   "outputs": [],
   "source": [
    "#order the cols by custom order\n",
    "educincome233['Education level']=pd.Categorical(educincome233['Education level'], categories= custom_order, ordered=True)"
   ]
  },
  {
   "cell_type": "code",
   "execution_count": 45,
   "id": "1fe1f249-8a1c-4140-bc1c-2f7214dc1179",
   "metadata": {},
   "outputs": [
    {
     "name": "stderr",
     "output_type": "stream",
     "text": [
      "C:\\Users\\Owner\\AppData\\Local\\Temp\\ipykernel_16456\\2115042590.py:1: FutureWarning: The default of observed=False is deprecated and will be changed to True in a future version of pandas. Pass observed=False to retain current behavior or observed=True to adopt the future default and silence this warning.\n",
      "  educincome233regionavg= educincome233.groupby(['Region','Education level'])['Income per Capita'].mean()\n"
     ]
    }
   ],
   "source": [
    "educincome233regionavg= educincome233.groupby(['Region','Education level'])['Income per Capita'].mean()"
   ]
  },
  {
   "cell_type": "code",
   "execution_count": 46,
   "id": "7bb26c4c-a50c-4eae-acf7-d9852b1a2e85",
   "metadata": {},
   "outputs": [
    {
     "name": "stderr",
     "output_type": "stream",
     "text": [
      "C:\\Users\\Owner\\AppData\\Local\\Temp\\ipykernel_16456\\1643909058.py:1: FutureWarning: The default of observed=False is deprecated and will be changed to True in a future version of pandas. Pass observed=False to retain current behavior or observed=True to adopt the future default and silence this warning.\n",
      "  educincome233regionmedian= educincome233.groupby(['Region','Education level'])['Income per Capita'].median()\n"
     ]
    }
   ],
   "source": [
    "educincome233regionmedian= educincome233.groupby(['Region','Education level'])['Income per Capita'].median()"
   ]
  },
  {
   "cell_type": "code",
   "execution_count": 47,
   "id": "6a557bb6-e343-425a-8d7b-8bef9d7f6902",
   "metadata": {},
   "outputs": [
    {
     "data": {
      "text/plain": [
       "Region     Education level \n",
       "Midwest    No degree           17214.661160\n",
       "           High School         30554.778223\n",
       "           Associate Degree    34448.085522\n",
       "           Bachelor Degree     46963.370917\n",
       "           Master Degree       55115.520718\n",
       "Northeast  No degree           18106.768519\n",
       "           High School         25923.263982\n",
       "           Associate Degree    36800.032540\n",
       "           Bachelor Degree     55972.198492\n",
       "           Master Degree       72070.237332\n",
       "South      No degree           15535.194205\n",
       "           High School         23267.641467\n",
       "           Associate Degree    28767.751799\n",
       "           Bachelor Degree     42458.650641\n",
       "           Master Degree       61938.754834\n",
       "West       No degree           14425.368280\n",
       "           High School         29466.357336\n",
       "           Associate Degree    31198.684411\n",
       "           Bachelor Degree     55439.935636\n",
       "           Master Degree       75058.264669\n",
       "Name: Income per Capita, dtype: float64"
      ]
     },
     "execution_count": 47,
     "metadata": {},
     "output_type": "execute_result"
    }
   ],
   "source": [
    "educincome233regionavg"
   ]
  },
  {
   "cell_type": "code",
   "execution_count": 48,
   "id": "bd31d2ca-c659-4fa3-afb6-7f75e815901d",
   "metadata": {},
   "outputs": [
    {
     "data": {
      "text/plain": [
       "Region     Education level \n",
       "Midwest    No degree           15400.000000\n",
       "           High School         22979.000000\n",
       "           Associate Degree    28575.000000\n",
       "           Bachelor Degree     37001.000000\n",
       "           Master Degree       44063.000000\n",
       "Northeast  No degree           13990.250000\n",
       "           High School         20000.000000\n",
       "           Associate Degree    28666.666667\n",
       "           Bachelor Degree     42333.333333\n",
       "           Master Degree       58384.250000\n",
       "South      No degree           14369.000000\n",
       "           High School         17855.000000\n",
       "           Associate Degree    24341.500000\n",
       "           Bachelor Degree     33256.166667\n",
       "           Master Degree       48200.000000\n",
       "West       No degree           11940.000000\n",
       "           High School         22340.500000\n",
       "           Associate Degree    26039.500000\n",
       "           Bachelor Degree     41195.000000\n",
       "           Master Degree       54876.666667\n",
       "Name: Income per Capita, dtype: float64"
      ]
     },
     "execution_count": 48,
     "metadata": {},
     "output_type": "execute_result"
    }
   ],
   "source": [
    "educincome233regionmedian"
   ]
  },
  {
   "cell_type": "code",
   "execution_count": 49,
   "id": "b9fc8257-0857-4310-8efd-5d67190d3a87",
   "metadata": {},
   "outputs": [],
   "source": [
    "#plots...."
   ]
  },
  {
   "cell_type": "markdown",
   "id": "5da87d8b-e42e-4d2f-b369-b0493dbf6d8d",
   "metadata": {},
   "source": [
    "Q4"
   ]
  },
  {
   "cell_type": "code",
   "execution_count": 50,
   "id": "e6b4e886-d3e0-46e8-8e56-f5a4bf9162aa",
   "metadata": {},
   "outputs": [],
   "source": [
    "#keep relevant cols\n",
    "educincome234= fmli234[['NEWID', 'Region', 'Education level', 'Income per Capita']]"
   ]
  },
  {
   "cell_type": "code",
   "execution_count": 51,
   "id": "de74e8a3-1217-4f3c-a922-618ba7478de3",
   "metadata": {},
   "outputs": [],
   "source": [
    "#clean up data\n",
    "#remove N/A vlaues from educ and region\n",
    "educincome234= educincome234.loc[educincome234['Region'] != 'N/A']\n",
    "educincome234= educincome234.loc[educincome234['Education level'] != 'N/A']"
   ]
  },
  {
   "cell_type": "code",
   "execution_count": 52,
   "id": "165f8c66-40fc-4063-b28f-6ce01a5303ff",
   "metadata": {},
   "outputs": [
    {
     "data": {
      "text/html": [
       "<div>\n",
       "<style scoped>\n",
       "    .dataframe tbody tr th:only-of-type {\n",
       "        vertical-align: middle;\n",
       "    }\n",
       "\n",
       "    .dataframe tbody tr th {\n",
       "        vertical-align: top;\n",
       "    }\n",
       "\n",
       "    .dataframe thead th {\n",
       "        text-align: right;\n",
       "    }\n",
       "</style>\n",
       "<table border=\"1\" class=\"dataframe\">\n",
       "  <thead>\n",
       "    <tr style=\"text-align: right;\">\n",
       "      <th></th>\n",
       "      <th>NEWID</th>\n",
       "      <th>Region</th>\n",
       "      <th>Education level</th>\n",
       "      <th>Income per Capita</th>\n",
       "    </tr>\n",
       "  </thead>\n",
       "  <tbody>\n",
       "    <tr>\n",
       "      <th>1</th>\n",
       "      <td>5251764</td>\n",
       "      <td>Midwest</td>\n",
       "      <td>Bachelor Degree</td>\n",
       "      <td>0.0</td>\n",
       "    </tr>\n",
       "    <tr>\n",
       "      <th>6</th>\n",
       "      <td>5251904</td>\n",
       "      <td>South</td>\n",
       "      <td>High School</td>\n",
       "      <td>0.0</td>\n",
       "    </tr>\n",
       "    <tr>\n",
       "      <th>11</th>\n",
       "      <td>5252104</td>\n",
       "      <td>South</td>\n",
       "      <td>Bachelor Degree</td>\n",
       "      <td>0.0</td>\n",
       "    </tr>\n",
       "    <tr>\n",
       "      <th>47</th>\n",
       "      <td>5253184</td>\n",
       "      <td>South</td>\n",
       "      <td>Bachelor Degree</td>\n",
       "      <td>0.0</td>\n",
       "    </tr>\n",
       "    <tr>\n",
       "      <th>59</th>\n",
       "      <td>5253564</td>\n",
       "      <td>South</td>\n",
       "      <td>Bachelor Degree</td>\n",
       "      <td>0.0</td>\n",
       "    </tr>\n",
       "    <tr>\n",
       "      <th>...</th>\n",
       "      <td>...</td>\n",
       "      <td>...</td>\n",
       "      <td>...</td>\n",
       "      <td>...</td>\n",
       "    </tr>\n",
       "    <tr>\n",
       "      <th>4573</th>\n",
       "      <td>5571091</td>\n",
       "      <td>West</td>\n",
       "      <td>High School</td>\n",
       "      <td>0.0</td>\n",
       "    </tr>\n",
       "    <tr>\n",
       "      <th>4580</th>\n",
       "      <td>5571291</td>\n",
       "      <td>West</td>\n",
       "      <td>No degree</td>\n",
       "      <td>0.0</td>\n",
       "    </tr>\n",
       "    <tr>\n",
       "      <th>4597</th>\n",
       "      <td>5571801</td>\n",
       "      <td>West</td>\n",
       "      <td>Master Degree</td>\n",
       "      <td>0.0</td>\n",
       "    </tr>\n",
       "    <tr>\n",
       "      <th>4628</th>\n",
       "      <td>5572621</td>\n",
       "      <td>South</td>\n",
       "      <td>Bachelor Degree</td>\n",
       "      <td>0.0</td>\n",
       "    </tr>\n",
       "    <tr>\n",
       "      <th>4650</th>\n",
       "      <td>5573141</td>\n",
       "      <td>Northeast</td>\n",
       "      <td>High School</td>\n",
       "      <td>0.0</td>\n",
       "    </tr>\n",
       "  </tbody>\n",
       "</table>\n",
       "<p>339 rows × 4 columns</p>\n",
       "</div>"
      ],
      "text/plain": [
       "        NEWID     Region  Education level  Income per Capita\n",
       "1     5251764    Midwest  Bachelor Degree                0.0\n",
       "6     5251904      South      High School                0.0\n",
       "11    5252104      South  Bachelor Degree                0.0\n",
       "47    5253184      South  Bachelor Degree                0.0\n",
       "59    5253564      South  Bachelor Degree                0.0\n",
       "...       ...        ...              ...                ...\n",
       "4573  5571091       West      High School                0.0\n",
       "4580  5571291       West        No degree                0.0\n",
       "4597  5571801       West    Master Degree                0.0\n",
       "4628  5572621      South  Bachelor Degree                0.0\n",
       "4650  5573141  Northeast      High School                0.0\n",
       "\n",
       "[339 rows x 4 columns]"
      ]
     },
     "execution_count": 52,
     "metadata": {},
     "output_type": "execute_result"
    }
   ],
   "source": [
    "#should ig et rid of these ????????????????\n",
    "educincome234.loc[educincome234['Income per Capita'] == 0]"
   ]
  },
  {
   "cell_type": "code",
   "execution_count": 53,
   "id": "f2a28e54-df73-4c17-919a-b01d50acd8d9",
   "metadata": {},
   "outputs": [],
   "source": [
    "#order educ level column\n",
    "educincome234['Education level']= pd.Categorical(educincome234['Education level'], categories= custom_order, ordered=True)"
   ]
  },
  {
   "cell_type": "code",
   "execution_count": 54,
   "id": "46bf7c48-cbb1-4d75-8a58-79b207b490da",
   "metadata": {},
   "outputs": [
    {
     "name": "stderr",
     "output_type": "stream",
     "text": [
      "C:\\Users\\Owner\\AppData\\Local\\Temp\\ipykernel_16456\\3131840422.py:2: FutureWarning: The default of observed=False is deprecated and will be changed to True in a future version of pandas. Pass observed=False to retain current behavior or observed=True to adopt the future default and silence this warning.\n",
      "  educincome234avg= round(educincome234.groupby(['Region','Education level'])['Income per Capita'].mean(),2)\n"
     ]
    }
   ],
   "source": [
    "#avg icome per capita per region and education level\n",
    "educincome234avg= round(educincome234.groupby(['Region','Education level'])['Income per Capita'].mean(),2)"
   ]
  },
  {
   "cell_type": "code",
   "execution_count": 55,
   "id": "94cafdad-5565-45f9-adcc-c328c964fec4",
   "metadata": {},
   "outputs": [
    {
     "data": {
      "text/plain": [
       "Region     Education level \n",
       "Midwest    No degree           17820.96\n",
       "           High School         30329.60\n",
       "           Associate Degree    30906.92\n",
       "           Bachelor Degree     49138.18\n",
       "           Master Degree       59967.28\n",
       "Northeast  No degree           15752.34\n",
       "           High School         25992.87\n",
       "           Associate Degree    32627.22\n",
       "           Bachelor Degree     52128.44\n",
       "           Master Degree       68843.70\n",
       "South      No degree           18177.86\n",
       "           High School         23728.89\n",
       "           Associate Degree    29620.55\n",
       "           Bachelor Degree     45638.46\n",
       "           Master Degree       61033.53\n",
       "West       No degree           17813.48\n",
       "           High School         31070.14\n",
       "           Associate Degree    36289.84\n",
       "           Bachelor Degree     57170.26\n",
       "           Master Degree       84806.29\n",
       "Name: Income per Capita, dtype: float64"
      ]
     },
     "execution_count": 55,
     "metadata": {},
     "output_type": "execute_result"
    }
   ],
   "source": [
    "educincome234avg"
   ]
  },
  {
   "cell_type": "code",
   "execution_count": 56,
   "id": "48071e17-d8df-42a3-94c8-21f6d32c1e7c",
   "metadata": {},
   "outputs": [
    {
     "name": "stderr",
     "output_type": "stream",
     "text": [
      "C:\\Users\\Owner\\AppData\\Local\\Temp\\ipykernel_16456\\2236595054.py:2: FutureWarning: The default of observed=False is deprecated and will be changed to True in a future version of pandas. Pass observed=False to retain current behavior or observed=True to adopt the future default and silence this warning.\n",
      "  educincome234median= round(educincome234.groupby(['Region','Education level'])['Income per Capita'].median(),2)\n"
     ]
    }
   ],
   "source": [
    "#median icome per capita per region and education level to account for varrying level of income per region and educ level\n",
    "educincome234median= round(educincome234.groupby(['Region','Education level'])['Income per Capita'].median(),2)"
   ]
  },
  {
   "cell_type": "code",
   "execution_count": 57,
   "id": "23a8e981-07eb-4aef-9762-ec670a2cbbc0",
   "metadata": {},
   "outputs": [
    {
     "data": {
      "text/plain": [
       "Region     Education level \n",
       "Midwest    No degree           14333.33\n",
       "           High School         24879.00\n",
       "           Associate Degree    26583.33\n",
       "           Bachelor Degree     35000.00\n",
       "           Master Degree       50000.00\n",
       "Northeast  No degree           13834.50\n",
       "           High School         20197.50\n",
       "           Associate Degree    26919.33\n",
       "           Bachelor Degree     42111.00\n",
       "           Master Degree       51477.33\n",
       "South      No degree           13784.00\n",
       "           High School         17851.00\n",
       "           Associate Degree    24779.00\n",
       "           Bachelor Degree     33489.50\n",
       "           Master Degree       42792.62\n",
       "West       No degree           13759.50\n",
       "           High School         22412.00\n",
       "           Associate Degree    29183.95\n",
       "           Bachelor Degree     40689.50\n",
       "           Master Degree       58425.33\n",
       "Name: Income per Capita, dtype: float64"
      ]
     },
     "execution_count": 57,
     "metadata": {},
     "output_type": "execute_result"
    }
   ],
   "source": [
    "educincome234median"
   ]
  },
  {
   "cell_type": "code",
   "execution_count": 58,
   "id": "d168b9a5-590d-441e-80b1-3cf5bfb53a19",
   "metadata": {},
   "outputs": [],
   "source": [
    "#visualizations........"
   ]
  },
  {
   "cell_type": "markdown",
   "id": "36e258dc-808b-402c-be95-89b03bb681b3",
   "metadata": {},
   "source": [
    "Question 2: Do households with higher education levels demonstrate more prudent spending patterns? \n",
    "a. Do higher educated households spend a lower percentage of their income on non-essentials compared to lower educated households?\n"
   ]
  },
  {
   "cell_type": "markdown",
   "id": "e335cbd5-b643-474b-a96b-11dd70717061",
   "metadata": {},
   "source": [
    "Q1"
   ]
  },
  {
   "cell_type": "code",
   "execution_count": 93,
   "id": "c0fecfc4-474c-42b8-87cc-fc59d1e934aa",
   "metadata": {},
   "outputs": [],
   "source": [
    "#clean up: get rid of N/A region and Educ cols\n",
    "fmli231spending=fmli231.loc[(fmli231['Region']!= 'N/A') & (fmli231['Education level'] != 'N/A')]"
   ]
  },
  {
   "cell_type": "code",
   "execution_count": 94,
   "id": "1ce34824-466f-4b3c-aa63-ddd4d97dea4d",
   "metadata": {},
   "outputs": [],
   "source": [
    "#read in MTBI\n",
    "mtbi231=pd.read_csv(r\"C:\\Users\\Owner\\Documents\\NSS\\Capstone\\Educationproj\\data\\intrvw22\\mtbi231.csv\")"
   ]
  },
  {
   "cell_type": "code",
   "execution_count": 95,
   "id": "09cb25a7-4e2c-436d-87e5-c8ac7868df86",
   "metadata": {},
   "outputs": [],
   "source": [
    "#Categorize the UCC codes\n",
    "nonessentials=[]\n",
    "for index, nonessential in mtbi231.iterrows():\n",
    "    if nonessential['UCC'] in {620212,620213,620215,620216,620222,620221,610900,620903,620926}:\n",
    "        nonessentials.append('Entertainmnet and Recreation')\n",
    "    elif nonessential['UCC'] in {430110,430120,640420}:\n",
    "        nonessentials.append('Luxury Purchases')\n",
    "    elif nonessential['UCC'] in {530110, 210210,530901, 680905,430130}:\n",
    "        nonessentials.append('Vacation and Travel')\n",
    "    elif nonessential['UCC'] in {450220,460902,520902,600132,600141,600110,600121,600122,600131,620919,620909,620907,620906,620921}:\n",
    "        nonessentials.append('Vehicles and Watercrafts')\n",
    "    elif nonessential['UCC'] in {620930,310350,310231,310243,310316,310314,310140,310231,310243,310232,310333,310400,340902,620917}:\n",
    "        nonessentials.append('Technology')\n",
    "    elif nonessential['UCC'] in {790330,790410,200900}: #790410 for dining out in MTBI231\n",
    "        nonessentials.append('Dining out and Alcoholic Beverages')\n",
    "    elif nonessential['UCC'] in {290430,280220,320233,320903,320904,990920,320345}:\n",
    "        nonessentials.append('Home Aesthetics')\n",
    "    elif nonessential['UCC'] in {340310,620112,680904,620918}:\n",
    "        nonessentials.append('Services')\n",
    "    else:\n",
    "        nonessentials.append('N/A')\n",
    "mtbi231['Non-essential']=nonessentials"
   ]
  },
  {
   "cell_type": "code",
   "execution_count": 96,
   "id": "16b89e84-1d52-45e6-8abd-b91895bd01b1",
   "metadata": {},
   "outputs": [],
   "source": [
    "#Clean mtbi: exclude 2022 itmes (Ref does not equal 2022)\n",
    "mtbi231=mtbi231.loc[mtbi231['REF_YR'] != 2022]"
   ]
  },
  {
   "cell_type": "code",
   "execution_count": 97,
   "id": "2536317f-f831-4401-9b95-ce6f33b64924",
   "metadata": {},
   "outputs": [],
   "source": [
    "#merge data \n",
    "spending231= pd.merge(fmli231spending, mtbi231, on='NEWID', how='inner')"
   ]
  },
  {
   "cell_type": "code",
   "execution_count": 98,
   "id": "b14ef9b6-a376-4fac-ab80-b27250bf8c17",
   "metadata": {},
   "outputs": [],
   "source": [
    "#keep relevant columns from fmli and mtbi\n",
    "spending231=spending231[['NEWID','Region','Education level','FINCBTAX','Income per Capita','COST', 'UCC']]"
   ]
  },
  {
   "cell_type": "code",
   "execution_count": 99,
   "id": "f500328c-4aca-4475-ab1a-c39e8404cd75",
   "metadata": {},
   "outputs": [],
   "source": [
    "#get rid of 0 vlaues in income per capita \n",
    "spending231=spending231.loc[spending231['Income per Capita'] != 0]"
   ]
  },
  {
   "cell_type": "code",
   "execution_count": 100,
   "id": "6508ebdf-d202-415a-81b4-025830d350e4",
   "metadata": {},
   "outputs": [],
   "source": [
    "#percentage of income per capita spent on non-essentials \n",
    "spending231['Non-essential expenditure % per capita'] = spending231['COST'] / spending231['Income per Capita']*100"
   ]
  },
  {
   "cell_type": "code",
   "execution_count": 101,
   "id": "84ccd6f4-60a7-4bb6-b827-59877638a6ee",
   "metadata": {},
   "outputs": [],
   "source": [
    "spending231['Non-essential expenditure per capita'] = spending231['Income per Capita']-spending231['COST']"
   ]
  },
  {
   "cell_type": "code",
   "execution_count": 103,
   "id": "ccf70576-43b4-463c-a667-60f63baaca43",
   "metadata": {},
   "outputs": [],
   "source": [
    "#avg percentage of income spent on non-essentials per region and education\n",
    "#Region: to account for price differences between regions\n",
    "percspending231avg=round(spending231.groupby(['Region', 'Education level'])['Non-essential expenditure % per capita'].mean(),2)"
   ]
  },
  {
   "cell_type": "code",
   "execution_count": 104,
   "id": "84cde78a-f215-440f-905e-c8aaf911891d",
   "metadata": {},
   "outputs": [
    {
     "data": {
      "text/plain": [
       "Region     Education level \n",
       "Midwest    Associate Degree      2.63\n",
       "           Bachelor Degree       2.91\n",
       "           High School          10.62\n",
       "           Master Degree         3.64\n",
       "           No degree            57.59\n",
       "Northeast  Associate Degree      3.09\n",
       "           Bachelor Degree       4.40\n",
       "           High School          25.43\n",
       "           Master Degree        14.07\n",
       "           No degree             5.61\n",
       "South      Associate Degree      5.54\n",
       "           Bachelor Degree      10.43\n",
       "           High School         685.77\n",
       "           Master Degree        59.49\n",
       "           No degree            33.12\n",
       "West       Associate Degree      7.31\n",
       "           Bachelor Degree       6.49\n",
       "           High School           9.20\n",
       "           Master Degree         7.44\n",
       "           No degree            12.08\n",
       "Name: Non-essential expenditure % per capita, dtype: float64"
      ]
     },
     "execution_count": 104,
     "metadata": {},
     "output_type": "execute_result"
    }
   ],
   "source": [
    "percspending231avg"
   ]
  },
  {
   "cell_type": "code",
   "execution_count": 105,
   "id": "30e09fb4-d924-4425-bee0-b2e15d28d9d8",
   "metadata": {},
   "outputs": [],
   "source": [
    "#median to account for drastically diffring % of income spent on non-essentials\n",
    "percspending231median=round(spending231.groupby(['Region', 'Education level'])['Non-essential expenditure % per capita'].median(),2)"
   ]
  },
  {
   "cell_type": "code",
   "execution_count": 106,
   "id": "547f3c32-2847-4fa8-b01f-0d838d0020a4",
   "metadata": {},
   "outputs": [
    {
     "data": {
      "text/plain": [
       "Region     Education level \n",
       "Midwest    Associate Degree    0.29\n",
       "           Bachelor Degree     0.25\n",
       "           High School         0.41\n",
       "           Master Degree       0.21\n",
       "           No degree           0.86\n",
       "Northeast  Associate Degree    0.31\n",
       "           Bachelor Degree     0.25\n",
       "           High School         0.42\n",
       "           Master Degree       0.21\n",
       "           No degree           0.38\n",
       "South      Associate Degree    0.37\n",
       "           Bachelor Degree     0.28\n",
       "           High School         0.56\n",
       "           Master Degree       0.23\n",
       "           No degree           0.83\n",
       "West       Associate Degree    0.30\n",
       "           Bachelor Degree     0.26\n",
       "           High School         0.41\n",
       "           Master Degree       0.20\n",
       "           No degree           0.93\n",
       "Name: Non-essential expenditure % per capita, dtype: float64"
      ]
     },
     "execution_count": 106,
     "metadata": {},
     "output_type": "execute_result"
    }
   ],
   "source": [
    "percspending231median"
   ]
  },
  {
   "cell_type": "code",
   "execution_count": null,
   "id": "1b8b79bb-0b7b-4902-b78d-f2c2eb3cb589",
   "metadata": {},
   "outputs": [],
   "source": []
  },
  {
   "cell_type": "code",
   "execution_count": null,
   "id": "b4f5f0ac-e108-447f-9b9e-7592021ff8ae",
   "metadata": {},
   "outputs": [],
   "source": []
  },
  {
   "cell_type": "code",
   "execution_count": null,
   "id": "1d7304d8-3123-4d17-8d6b-8a63764225d3",
   "metadata": {},
   "outputs": [],
   "source": []
  },
  {
   "cell_type": "code",
   "execution_count": 5,
   "id": "9049f5cf-b5d4-4e53-a6e4-033497b53b54",
   "metadata": {},
   "outputs": [],
   "source": [
    "education233= pd.read_csv(r\"C:\\Users\\Owner\\Documents\\NSS\\Capstone\\Educationproj\\data\\intrvw23\\fmli233.csv\")"
   ]
  },
  {
   "cell_type": "code",
   "execution_count": null,
   "id": "6b5ea053-957f-46db-bd33-d2a0ce117e71",
   "metadata": {},
   "outputs": [],
   "source": [
    "education233.head()"
   ]
  },
  {
   "cell_type": "code",
   "execution_count": null,
   "id": "24bcd53d-910a-4d28-8f60-1494086c9315",
   "metadata": {},
   "outputs": [],
   "source": [
    "education233= education233[['REGION','HIGH_EDU','FINCBTAX']]"
   ]
  },
  {
   "cell_type": "code",
   "execution_count": null,
   "id": "eb12a234-ab22-474c-ad04-ded84d9352da",
   "metadata": {},
   "outputs": [],
   "source": [
    "education233.head()"
   ]
  },
  {
   "cell_type": "code",
   "execution_count": null,
   "id": "280fa1c1-b953-4f21-afee-719a1dd1f69b",
   "metadata": {},
   "outputs": [],
   "source": [
    "education233['regionplace']= ''\n",
    "education233['Education level']=''"
   ]
  },
  {
   "cell_type": "code",
   "execution_count": null,
   "id": "d5b7e5cc-2908-45ab-a531-d20120c92381",
   "metadata": {},
   "outputs": [],
   "source": [
    "regionplace233=[]\n",
    "for index, region in education233.iterrows():\n",
    "    if region['REGION']== 1:\n",
    "        regionplace233.append('Northeast')\n",
    "    elif region['REGION']== 2:\n",
    "        regionplace233.append('Midwest')\n",
    "    elif region['REGION']== 3:\n",
    "        regionplace233.append('South')\n",
    "    elif region['REGION']== 4:\n",
    "        regionplace233.append('West')\n",
    "    else:\n",
    "        regionplace233.append('N/A')\n",
    "education233['regionplace']=regionplace233"
   ]
  },
  {
   "cell_type": "code",
   "execution_count": null,
   "id": "469a85b6-fb6a-4d65-ab9e-30d3dc271d87",
   "metadata": {},
   "outputs": [],
   "source": [
    "educlevel233=[]\n",
    "for index, educ in education233.iterrows():\n",
    "    if educ['HIGH_EDU']== {0,00,10,11}:\n",
    "        educlevel233.append('No degree')\n",
    "    elif educ['HIGH_EDU']== {11,12,13}:\n",
    "        educlevel233.append('High School')\n",
    "    elif educ['HIGH_EDU']== 14:\n",
    "        educlevel233.append('Associate Degree')\n",
    "    elif educ['HIGH_EDU']== 15:\n",
    "        educlevel233.append('Bachelor Degree')\n",
    "    elif educ['HIGH_EDU']== 16:\n",
    "        educlevel233.append('Master Degree')\n",
    "    elif educ['HIGH_EDU']== 17:\n",
    "        educlevel233.append('Professional/Doctorate Degree')\n",
    "    else:\n",
    "        educlevel233.append('N/A')\n",
    "education233['Education level']=educlevel233"
   ]
  },
  {
   "cell_type": "code",
   "execution_count": null,
   "id": "056d972a-3b94-4af2-a968-24597c43a02f",
   "metadata": {},
   "outputs": [],
   "source": [
    "#clean up the data from N/A values\n",
    "education233=education233[education233['Education level'] != 'N/A']\n",
    "education233=education233[education233['regionplace'] != 'N/A']"
   ]
  },
  {
   "cell_type": "code",
   "execution_count": null,
   "id": "076f7d71-102e-48a8-94f0-0f87ae737c3d",
   "metadata": {},
   "outputs": [],
   "source": [
    "education233=education233.reset_index(drop=True)"
   ]
  },
  {
   "cell_type": "code",
   "execution_count": null,
   "id": "54b65abe-4c87-40f0-9f4c-260c63b3bb15",
   "metadata": {},
   "outputs": [],
   "source": [
    "education233.head()"
   ]
  },
  {
   "cell_type": "code",
   "execution_count": null,
   "id": "ba2ec660-bd20-4c48-8e1f-6f13ba3b3d06",
   "metadata": {},
   "outputs": [],
   "source": [
    "education233regionavg= education233.groupby(['regionplace','Education level'])['FINCBTAX'].mean()"
   ]
  },
  {
   "cell_type": "code",
   "execution_count": null,
   "id": "a7a95165-afdb-43e9-9972-bd5941b37c58",
   "metadata": {},
   "outputs": [],
   "source": [
    "education233regionmedian= education233.groupby(['regionplace','Education level'])['FINCBTAX'].median()"
   ]
  },
  {
   "cell_type": "code",
   "execution_count": null,
   "id": "cb8a18e6-ab42-44d8-8ba0-bda02af4b755",
   "metadata": {},
   "outputs": [],
   "source": []
  },
  {
   "cell_type": "code",
   "execution_count": null,
   "id": "249363d1-4143-421d-91a1-5e20c6f2f550",
   "metadata": {},
   "outputs": [],
   "source": []
  },
  {
   "cell_type": "code",
   "execution_count": null,
   "id": "c55246dd-1c88-4e6c-9b75-0786233c3817",
   "metadata": {},
   "outputs": [],
   "source": []
  },
  {
   "cell_type": "code",
   "execution_count": null,
   "id": "c49873aa-2e62-42f1-8638-cefab2627fb3",
   "metadata": {},
   "outputs": [],
   "source": []
  },
  {
   "cell_type": "code",
   "execution_count": null,
   "id": "d732b079-2277-43dc-8714-c834db036149",
   "metadata": {},
   "outputs": [],
   "source": []
  },
  {
   "cell_type": "code",
   "execution_count": null,
   "id": "2a02c100-6a87-43c3-9ba0-4603944f49f6",
   "metadata": {},
   "outputs": [],
   "source": []
  },
  {
   "cell_type": "code",
   "execution_count": null,
   "id": "45e48085-51c7-476b-a304-845b85743bff",
   "metadata": {},
   "outputs": [],
   "source": []
  },
  {
   "cell_type": "code",
   "execution_count": null,
   "id": "51831be3-e2b3-4fb1-8aee-b3d81051f23c",
   "metadata": {},
   "outputs": [],
   "source": []
  },
  {
   "cell_type": "markdown",
   "id": "1c5e6593-8ae5-439e-9da2-f4f6f3046d1d",
   "metadata": {},
   "source": [
    "2023 Q1 and Q4"
   ]
  },
  {
   "cell_type": "code",
   "execution_count": 9,
   "id": "9760a2a3-3ab5-45e2-bb8b-addb0ff77f48",
   "metadata": {},
   "outputs": [],
   "source": [
    "education231= pd.read_csv(r\"C:\\Users\\Owner\\Documents\\NSS\\Capstone\\Educationproj\\data\\intrvw22\\fmli231.csv\")\n",
    "education234= pd.read_csv(r\"C:\\Users\\Owner\\Documents\\NSS\\Capstone\\Educationproj\\data\\intrvw23\\fmli234.csv\")"
   ]
  },
  {
   "cell_type": "code",
   "execution_count": 11,
   "id": "56f3cb6b-0805-4188-b77c-b6c4d181120f",
   "metadata": {},
   "outputs": [
    {
     "data": {
      "text/html": [
       "<div>\n",
       "<style scoped>\n",
       "    .dataframe tbody tr th:only-of-type {\n",
       "        vertical-align: middle;\n",
       "    }\n",
       "\n",
       "    .dataframe tbody tr th {\n",
       "        vertical-align: top;\n",
       "    }\n",
       "\n",
       "    .dataframe thead th {\n",
       "        text-align: right;\n",
       "    }\n",
       "</style>\n",
       "<table border=\"1\" class=\"dataframe\">\n",
       "  <thead>\n",
       "    <tr style=\"text-align: right;\">\n",
       "      <th></th>\n",
       "      <th>NEWID</th>\n",
       "      <th>DIRACC</th>\n",
       "      <th>DIRACC_</th>\n",
       "      <th>AGE_REF</th>\n",
       "      <th>AGE_REF_</th>\n",
       "      <th>AGE2</th>\n",
       "      <th>AGE2_</th>\n",
       "      <th>AS_COMP1</th>\n",
       "      <th>AS_C_MP1</th>\n",
       "      <th>AS_COMP2</th>\n",
       "      <th>...</th>\n",
       "      <th>CBSAPRIN</th>\n",
       "      <th>URBAN</th>\n",
       "      <th>CHDTXP</th>\n",
       "      <th>CHDTXP_</th>\n",
       "      <th>CHDTXPH</th>\n",
       "      <th>CHDTXPH_</th>\n",
       "      <th>NUM_VET</th>\n",
       "      <th>fftaxowe</th>\n",
       "      <th>fstaxowe</th>\n",
       "      <th>FINATXEM</th>\n",
       "    </tr>\n",
       "  </thead>\n",
       "  <tbody>\n",
       "    <tr>\n",
       "      <th>0</th>\n",
       "      <td>5251754</td>\n",
       "      <td>1.0</td>\n",
       "      <td>D</td>\n",
       "      <td>39</td>\n",
       "      <td>D</td>\n",
       "      <td>39.0</td>\n",
       "      <td>D</td>\n",
       "      <td>2</td>\n",
       "      <td>D</td>\n",
       "      <td>3</td>\n",
       "      <td>...</td>\n",
       "      <td>2</td>\n",
       "      <td>2</td>\n",
       "      <td>NaN</td>\n",
       "      <td>A</td>\n",
       "      <td>NaN</td>\n",
       "      <td>A</td>\n",
       "      <td>1</td>\n",
       "      <td>2019</td>\n",
       "      <td>0</td>\n",
       "      <td>57981.0</td>\n",
       "    </tr>\n",
       "    <tr>\n",
       "      <th>1</th>\n",
       "      <td>5251764</td>\n",
       "      <td>1.0</td>\n",
       "      <td>D</td>\n",
       "      <td>34</td>\n",
       "      <td>D</td>\n",
       "      <td>34.0</td>\n",
       "      <td>D</td>\n",
       "      <td>1</td>\n",
       "      <td>D</td>\n",
       "      <td>1</td>\n",
       "      <td>...</td>\n",
       "      <td>2</td>\n",
       "      <td>1</td>\n",
       "      <td>NaN</td>\n",
       "      <td>A</td>\n",
       "      <td>NaN</td>\n",
       "      <td>A</td>\n",
       "      <td>0</td>\n",
       "      <td>73297</td>\n",
       "      <td>27329</td>\n",
       "      <td>286715.6</td>\n",
       "    </tr>\n",
       "    <tr>\n",
       "      <th>2</th>\n",
       "      <td>5251784</td>\n",
       "      <td>1.0</td>\n",
       "      <td>D</td>\n",
       "      <td>65</td>\n",
       "      <td>D</td>\n",
       "      <td>NaN</td>\n",
       "      <td>A</td>\n",
       "      <td>0</td>\n",
       "      <td>D</td>\n",
       "      <td>1</td>\n",
       "      <td>...</td>\n",
       "      <td>2</td>\n",
       "      <td>1</td>\n",
       "      <td>NaN</td>\n",
       "      <td>A</td>\n",
       "      <td>NaN</td>\n",
       "      <td>A</td>\n",
       "      <td>0</td>\n",
       "      <td>0</td>\n",
       "      <td>0</td>\n",
       "      <td>17197.0</td>\n",
       "    </tr>\n",
       "    <tr>\n",
       "      <th>3</th>\n",
       "      <td>5251854</td>\n",
       "      <td>1.0</td>\n",
       "      <td>D</td>\n",
       "      <td>49</td>\n",
       "      <td>D</td>\n",
       "      <td>NaN</td>\n",
       "      <td>A</td>\n",
       "      <td>0</td>\n",
       "      <td>D</td>\n",
       "      <td>2</td>\n",
       "      <td>...</td>\n",
       "      <td>2</td>\n",
       "      <td>1</td>\n",
       "      <td>NaN</td>\n",
       "      <td>A</td>\n",
       "      <td>NaN</td>\n",
       "      <td>A</td>\n",
       "      <td>0</td>\n",
       "      <td>8815</td>\n",
       "      <td>0</td>\n",
       "      <td>74135.0</td>\n",
       "    </tr>\n",
       "    <tr>\n",
       "      <th>4</th>\n",
       "      <td>5251874</td>\n",
       "      <td>1.0</td>\n",
       "      <td>D</td>\n",
       "      <td>42</td>\n",
       "      <td>D</td>\n",
       "      <td>NaN</td>\n",
       "      <td>A</td>\n",
       "      <td>1</td>\n",
       "      <td>D</td>\n",
       "      <td>0</td>\n",
       "      <td>...</td>\n",
       "      <td>2</td>\n",
       "      <td>1</td>\n",
       "      <td>NaN</td>\n",
       "      <td>A</td>\n",
       "      <td>NaN</td>\n",
       "      <td>A</td>\n",
       "      <td>0</td>\n",
       "      <td>6436</td>\n",
       "      <td>1969</td>\n",
       "      <td>55595.0</td>\n",
       "    </tr>\n",
       "  </tbody>\n",
       "</table>\n",
       "<p>5 rows × 819 columns</p>\n",
       "</div>"
      ],
      "text/plain": [
       "     NEWID  DIRACC DIRACC_  AGE_REF AGE_REF_  AGE2 AGE2_  AS_COMP1 AS_C_MP1  \\\n",
       "0  5251754     1.0       D       39        D  39.0     D         2        D   \n",
       "1  5251764     1.0       D       34        D  34.0     D         1        D   \n",
       "2  5251784     1.0       D       65        D   NaN     A         0        D   \n",
       "3  5251854     1.0       D       49        D   NaN     A         0        D   \n",
       "4  5251874     1.0       D       42        D   NaN     A         1        D   \n",
       "\n",
       "   AS_COMP2  ... CBSAPRIN  URBAN CHDTXP  CHDTXP_ CHDTXPH  CHDTXPH_ NUM_VET  \\\n",
       "0         3  ...        2      2    NaN        A     NaN         A       1   \n",
       "1         1  ...        2      1    NaN        A     NaN         A       0   \n",
       "2         1  ...        2      1    NaN        A     NaN         A       0   \n",
       "3         2  ...        2      1    NaN        A     NaN         A       0   \n",
       "4         0  ...        2      1    NaN        A     NaN         A       0   \n",
       "\n",
       "   fftaxowe fstaxowe  FINATXEM  \n",
       "0      2019        0   57981.0  \n",
       "1     73297    27329  286715.6  \n",
       "2         0        0   17197.0  \n",
       "3      8815        0   74135.0  \n",
       "4      6436     1969   55595.0  \n",
       "\n",
       "[5 rows x 819 columns]"
      ]
     },
     "execution_count": 11,
     "metadata": {},
     "output_type": "execute_result"
    }
   ],
   "source": [
    "education234.head()"
   ]
  },
  {
   "cell_type": "code",
   "execution_count": 10,
   "id": "e97d1ca4-49ee-47b4-8f6c-9c5e518168cb",
   "metadata": {},
   "outputs": [
    {
     "data": {
      "text/html": [
       "<div>\n",
       "<style scoped>\n",
       "    .dataframe tbody tr th:only-of-type {\n",
       "        vertical-align: middle;\n",
       "    }\n",
       "\n",
       "    .dataframe tbody tr th {\n",
       "        vertical-align: top;\n",
       "    }\n",
       "\n",
       "    .dataframe thead th {\n",
       "        text-align: right;\n",
       "    }\n",
       "</style>\n",
       "<table border=\"1\" class=\"dataframe\">\n",
       "  <thead>\n",
       "    <tr style=\"text-align: right;\">\n",
       "      <th></th>\n",
       "      <th>NEWID</th>\n",
       "      <th>DIRACC</th>\n",
       "      <th>DIRACC_</th>\n",
       "      <th>AGE_REF</th>\n",
       "      <th>AGE_REF_</th>\n",
       "      <th>AGE2</th>\n",
       "      <th>AGE2_</th>\n",
       "      <th>AS_COMP1</th>\n",
       "      <th>AS_C_MP1</th>\n",
       "      <th>AS_COMP2</th>\n",
       "      <th>...</th>\n",
       "      <th>WHLFYR_</th>\n",
       "      <th>CBSAPRIN</th>\n",
       "      <th>URBAN</th>\n",
       "      <th>CHDTXP</th>\n",
       "      <th>CHDTXP_</th>\n",
       "      <th>CHDTXPH</th>\n",
       "      <th>CHDTXPH_</th>\n",
       "      <th>FFTAXOWE</th>\n",
       "      <th>FSTAXOWE</th>\n",
       "      <th>FINATXEM</th>\n",
       "    </tr>\n",
       "  </thead>\n",
       "  <tbody>\n",
       "    <tr>\n",
       "      <th>0</th>\n",
       "      <td>5011064</td>\n",
       "      <td>1.0</td>\n",
       "      <td>D</td>\n",
       "      <td>87</td>\n",
       "      <td>T</td>\n",
       "      <td>NaN</td>\n",
       "      <td>A</td>\n",
       "      <td>1</td>\n",
       "      <td>D</td>\n",
       "      <td>2</td>\n",
       "      <td>...</td>\n",
       "      <td>A</td>\n",
       "      <td>1</td>\n",
       "      <td>1</td>\n",
       "      <td>NaN</td>\n",
       "      <td>A</td>\n",
       "      <td>NaN</td>\n",
       "      <td>A</td>\n",
       "      <td>-4051</td>\n",
       "      <td>744</td>\n",
       "      <td>57240.2</td>\n",
       "    </tr>\n",
       "    <tr>\n",
       "      <th>1</th>\n",
       "      <td>5011134</td>\n",
       "      <td>1.0</td>\n",
       "      <td>D</td>\n",
       "      <td>73</td>\n",
       "      <td>D</td>\n",
       "      <td>75.0</td>\n",
       "      <td>D</td>\n",
       "      <td>1</td>\n",
       "      <td>D</td>\n",
       "      <td>1</td>\n",
       "      <td>...</td>\n",
       "      <td>A</td>\n",
       "      <td>2</td>\n",
       "      <td>1</td>\n",
       "      <td>NaN</td>\n",
       "      <td>A</td>\n",
       "      <td>NaN</td>\n",
       "      <td>A</td>\n",
       "      <td>-6600</td>\n",
       "      <td>0</td>\n",
       "      <td>55570.0</td>\n",
       "    </tr>\n",
       "    <tr>\n",
       "      <th>2</th>\n",
       "      <td>5011244</td>\n",
       "      <td>1.0</td>\n",
       "      <td>D</td>\n",
       "      <td>47</td>\n",
       "      <td>D</td>\n",
       "      <td>44.0</td>\n",
       "      <td>D</td>\n",
       "      <td>1</td>\n",
       "      <td>D</td>\n",
       "      <td>1</td>\n",
       "      <td>...</td>\n",
       "      <td>A</td>\n",
       "      <td>2</td>\n",
       "      <td>1</td>\n",
       "      <td>NaN</td>\n",
       "      <td>A</td>\n",
       "      <td>NaN</td>\n",
       "      <td>A</td>\n",
       "      <td>22325</td>\n",
       "      <td>4892</td>\n",
       "      <td>145383.0</td>\n",
       "    </tr>\n",
       "    <tr>\n",
       "      <th>3</th>\n",
       "      <td>5011314</td>\n",
       "      <td>1.0</td>\n",
       "      <td>D</td>\n",
       "      <td>82</td>\n",
       "      <td>D</td>\n",
       "      <td>NaN</td>\n",
       "      <td>A</td>\n",
       "      <td>0</td>\n",
       "      <td>D</td>\n",
       "      <td>1</td>\n",
       "      <td>...</td>\n",
       "      <td>A</td>\n",
       "      <td>2</td>\n",
       "      <td>2</td>\n",
       "      <td>NaN</td>\n",
       "      <td>A</td>\n",
       "      <td>NaN</td>\n",
       "      <td>A</td>\n",
       "      <td>-1400</td>\n",
       "      <td>0</td>\n",
       "      <td>8732.0</td>\n",
       "    </tr>\n",
       "    <tr>\n",
       "      <th>4</th>\n",
       "      <td>5011334</td>\n",
       "      <td>1.0</td>\n",
       "      <td>D</td>\n",
       "      <td>87</td>\n",
       "      <td>T</td>\n",
       "      <td>80.0</td>\n",
       "      <td>D</td>\n",
       "      <td>1</td>\n",
       "      <td>D</td>\n",
       "      <td>1</td>\n",
       "      <td>...</td>\n",
       "      <td>A</td>\n",
       "      <td>1</td>\n",
       "      <td>1</td>\n",
       "      <td>NaN</td>\n",
       "      <td>A</td>\n",
       "      <td>NaN</td>\n",
       "      <td>A</td>\n",
       "      <td>-6600</td>\n",
       "      <td>-148</td>\n",
       "      <td>50555.0</td>\n",
       "    </tr>\n",
       "  </tbody>\n",
       "</table>\n",
       "<p>5 rows × 818 columns</p>\n",
       "</div>"
      ],
      "text/plain": [
       "     NEWID  DIRACC DIRACC_  AGE_REF AGE_REF_  AGE2 AGE2_  AS_COMP1 AS_C_MP1  \\\n",
       "0  5011064     1.0       D       87        T   NaN     A         1        D   \n",
       "1  5011134     1.0       D       73        D  75.0     D         1        D   \n",
       "2  5011244     1.0       D       47        D  44.0     D         1        D   \n",
       "3  5011314     1.0       D       82        D   NaN     A         0        D   \n",
       "4  5011334     1.0       D       87        T  80.0     D         1        D   \n",
       "\n",
       "   AS_COMP2  ... WHLFYR_  CBSAPRIN URBAN  CHDTXP CHDTXP_  CHDTXPH CHDTXPH_  \\\n",
       "0         2  ...       A         1     1     NaN       A      NaN        A   \n",
       "1         1  ...       A         2     1     NaN       A      NaN        A   \n",
       "2         1  ...       A         2     1     NaN       A      NaN        A   \n",
       "3         1  ...       A         2     2     NaN       A      NaN        A   \n",
       "4         1  ...       A         1     1     NaN       A      NaN        A   \n",
       "\n",
       "   FFTAXOWE FSTAXOWE  FINATXEM  \n",
       "0     -4051      744   57240.2  \n",
       "1     -6600        0   55570.0  \n",
       "2     22325     4892  145383.0  \n",
       "3     -1400        0    8732.0  \n",
       "4     -6600     -148   50555.0  \n",
       "\n",
       "[5 rows x 818 columns]"
      ]
     },
     "execution_count": 10,
     "metadata": {},
     "output_type": "execute_result"
    }
   ],
   "source": [
    "education231.head()"
   ]
  },
  {
   "cell_type": "code",
   "execution_count": 8,
   "id": "a6a9596c-27e6-4c2e-a010-5dc0bf5ddb92",
   "metadata": {},
   "outputs": [],
   "source": [
    "education231= education231[['REGION','HIGH_EDU','FINCBTAX']]\n",
    "education234= education234[['REGION','HIGH_EDU','FINCBTAX']]"
   ]
  },
  {
   "cell_type": "code",
   "execution_count": null,
   "id": "a40ec68e-2cc3-4bae-b126-5771da30987b",
   "metadata": {},
   "outputs": [],
   "source": [
    "education231['regionplace']= ''\n",
    "education231['Education level']=''\n",
    "education234['regionplace']= ''\n",
    "education234['Education level']=''"
   ]
  },
  {
   "cell_type": "code",
   "execution_count": null,
   "id": "0ad685de-4733-43a3-9f0a-4dd04bed1910",
   "metadata": {},
   "outputs": [],
   "source": [
    "#region for 2023 Q1\n",
    "regionplace231=[]\n",
    "for index, region in education231.iterrows():\n",
    "    if region['REGION']== 1:\n",
    "        regionplace231.append('Northeast')\n",
    "    elif region['REGION']== 2:\n",
    "        regionplace231.append('Midwest')\n",
    "    elif region['REGION']== 3:\n",
    "        regionplace231.append('South')\n",
    "    elif region['REGION']== 4:\n",
    "        regionplace231.append('West')\n",
    "    else:\n",
    "        regionplace231.append('N/A')\n",
    "education231['regionplace']=regionplace231"
   ]
  },
  {
   "cell_type": "code",
   "execution_count": null,
   "id": "4f44cce4-d085-4a28-ad5a-b1dc1ab07d1b",
   "metadata": {},
   "outputs": [],
   "source": [
    "#education for 2023 Q1\n",
    "educlevel231=[]\n",
    "for index, educ in education231.iterrows():\n",
    "    if educ['HIGH_EDU']== {0,00,10,11}:\n",
    "        educlevel231.append('No degree')\n",
    "    elif educ['HIGH_EDU']== {11,12,13}:\n",
    "        educlevel231.append('High School')\n",
    "    elif educ['HIGH_EDU']== 14:\n",
    "        educlevel231.append('Associate Degree')\n",
    "    elif educ['HIGH_EDU']== 15:\n",
    "        educlevel231.append('Bachelor Degree')\n",
    "    elif educ['HIGH_EDU']== 16:\n",
    "        educlevel231.append('Master Degree')\n",
    "    elif educ['HIGH_EDU']== 17:\n",
    "        educlevel231.append('Professional/Doctorate Degree')\n",
    "    else:\n",
    "        educlevel231.append('N/A')\n",
    "education231['Education level']=educlevel231"
   ]
  },
  {
   "cell_type": "code",
   "execution_count": null,
   "id": "b5a45123-55fd-40a9-9cf4-7a7ffc899f14",
   "metadata": {},
   "outputs": [],
   "source": [
    "#region for 2023 Q4\n",
    "regionplace234=[]\n",
    "for index, region in education231.iterrows():\n",
    "    if region['REGION']== 1:\n",
    "        regionplace234.append('Northeast')\n",
    "    elif region['REGION']== 2:\n",
    "        regionplace234.append('Midwest')\n",
    "    elif region['REGION']== 3:\n",
    "        regionplace234.append('South')\n",
    "    elif region['REGION']== 4:\n",
    "        regionplace234.append('West')\n",
    "    else:\n",
    "        regionplace234.append('N/A')\n",
    "education231['regionplace']=regionplace234"
   ]
  },
  {
   "cell_type": "code",
   "execution_count": null,
   "id": "a705526f-dcc2-4e14-9b34-46c7b65c27d7",
   "metadata": {},
   "outputs": [],
   "source": [
    "#education for 2023 Q4\n",
    "educlevel234=[]\n",
    "for index, educ in education234.iterrows():\n",
    "    if educ['HIGH_EDU']== {0,00,10,11}:\n",
    "        educlevel234.append('No degree')\n",
    "    elif educ['HIGH_EDU']== {11,12,13}:\n",
    "        educlevel234.append('High School')\n",
    "    elif educ['HIGH_EDU']== 14:\n",
    "        educlevel234.append('Associate Degree')\n",
    "    elif educ['HIGH_EDU']== 15:\n",
    "        educlevel234.append('Bachelor Degree')\n",
    "    elif educ['HIGH_EDU']== 16:\n",
    "        educlevel234.append('Master Degree')\n",
    "    elif educ['HIGH_EDU']== 17:\n",
    "        educlevel234.append('Professional/Doctorate Degree')\n",
    "    else:\n",
    "        educlevel234.append('N/A')\n",
    "education234['Education level']=educlevel234"
   ]
  },
  {
   "cell_type": "code",
   "execution_count": null,
   "id": "fe7b03d3-58cc-41a6-b61b-644ec2be3cd3",
   "metadata": {},
   "outputs": [],
   "source": [
    "#clean up data for 2023 Q1\n",
    "education231=education231[education231['Education level'] != 'N/A']\n",
    "education231=education231[education231['regionplace'] != 'N/A']"
   ]
  },
  {
   "cell_type": "code",
   "execution_count": null,
   "id": "c91efc09-6ec3-419e-8489-0e51031fa5cf",
   "metadata": {},
   "outputs": [],
   "source": [
    "#median and avg for Q1\n",
    "education231regionavg= education231.groupby(['regionplace','Education level'])['FINCBTAX'].mean()\n",
    "education231regionmedian= education231.groupby(['regionplace','Education level'])['FINCBTAX'].median()"
   ]
  },
  {
   "cell_type": "code",
   "execution_count": null,
   "id": "39d26577-f96c-48c4-b72e-a911ab50a2e2",
   "metadata": {},
   "outputs": [],
   "source": [
    "education231.head()"
   ]
  },
  {
   "cell_type": "code",
   "execution_count": null,
   "id": "ee8df0d3-016f-4d0f-a8eb-6e5eb9a77b5a",
   "metadata": {},
   "outputs": [],
   "source": [
    "#clean up data for Q4\n",
    "education234=education234[education234['Education level'] != 'N/A']\n",
    "education234=education234[education234['regionplace'] != 'N/A']"
   ]
  },
  {
   "cell_type": "code",
   "execution_count": null,
   "id": "0bbac670-8215-47c5-a657-69614368a689",
   "metadata": {},
   "outputs": [],
   "source": [
    "#median and avg for Q4\n",
    "education234regionavg= education234.groupby(['regionplace','Education level'])['FINCBTAX'].mean()\n",
    "education234regionmedian= education234.groupby(['regionplace','Education level'])['FINCBTAX'].median()"
   ]
  },
  {
   "cell_type": "markdown",
   "id": "ae8d916e-15d6-496c-8884-d8a660953a71",
   "metadata": {},
   "source": [
    "Question 2: Do houholds with higher education levels demonstrate more prudent spending compared to households with lower educational levels?"
   ]
  },
  {
   "cell_type": "code",
   "execution_count": 12,
   "id": "0eab2ae1-e022-4be6-84da-05aafa2b03fb",
   "metadata": {},
   "outputs": [],
   "source": [
    "fmlispend231= pd.read_csv(r\"C:\\Users\\Owner\\Documents\\NSS\\Capstone\\Educationproj\\data\\intrvw22\\fmli231.csv\")\n",
    "mtbicost231= pd.read_csv(r\"C:\\Users\\Owner\\Documents\\NSS\\Capstone\\Educationproj\\data\\intrvw22\\memi231.csv\")"
   ]
  },
  {
   "cell_type": "code",
   "execution_count": null,
   "id": "7807c2fa-c622-4773-8289-49111506d0ef",
   "metadata": {},
   "outputs": [],
   "source": [
    "#1. Merge FMLI and MTBI Q1 on new id\n",
    "q1spending= pd.merge(fmlispend231, mtbicost231, on='NEWID', how='inner')"
   ]
  },
  {
   "cell_type": "code",
   "execution_count": null,
   "id": "22618f58-4ed9-4ddb-b212-629821ebb0d2",
   "metadata": {},
   "outputs": [],
   "source": [
    "q1spending.head()"
   ]
  },
  {
   "cell_type": "code",
   "execution_count": null,
   "id": "5b67dcdb-565a-436c-ae1c-5e433d80fa2d",
   "metadata": {},
   "outputs": [],
   "source": [
    "#keep relevent columns\n",
    "q1spending=q1spending[['NEWID','REGION','HIGH_EDU','FINCBTAX','UCC','COST']]"
   ]
  },
  {
   "cell_type": "code",
   "execution_count": null,
   "id": "3a9164b3-57fd-4185-a353-c0d418b9676c",
   "metadata": {},
   "outputs": [],
   "source": [
    "#categorize data essential vs non essential\n",
    "q1spending['necessity']=''"
   ]
  },
  {
   "cell_type": "code",
   "execution_count": null,
   "id": "1057d4cf-447a-4d61-882c-14244bc1f99f",
   "metadata": {},
   "outputs": [],
   "source": []
  }
 ],
 "metadata": {
  "kernelspec": {
   "display_name": "Python 3 (ipykernel)",
   "language": "python",
   "name": "python3"
  },
  "language_info": {
   "codemirror_mode": {
    "name": "ipython",
    "version": 3
   },
   "file_extension": ".py",
   "mimetype": "text/x-python",
   "name": "python",
   "nbconvert_exporter": "python",
   "pygments_lexer": "ipython3",
   "version": "3.12.7"
  }
 },
 "nbformat": 4,
 "nbformat_minor": 5
}
