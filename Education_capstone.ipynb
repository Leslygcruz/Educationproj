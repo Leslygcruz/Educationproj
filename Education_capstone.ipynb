{
 "cells": [
  {
   "cell_type": "code",
   "execution_count": 1,
   "id": "4a9ed001-1c10-4acc-94df-e33585e06c52",
   "metadata": {},
   "outputs": [],
   "source": [
    "import pandas as pd"
   ]
  },
  {
   "cell_type": "markdown",
   "id": "bee932da-a881-426a-aa1d-601730278cf2",
   "metadata": {},
   "source": [
    "getting the ducation levels for FMLI 232"
   ]
  },
  {
   "cell_type": "code",
   "execution_count": 2,
   "id": "042b1518-ae13-4825-b2e2-c81ddd7dd442",
   "metadata": {},
   "outputs": [],
   "source": [
    "education232=pd.read_csv(r\"C:\\Users\\Owner\\Documents\\NSS\\Capstone\\Educationproj\\data\\intrvw23\\fmli232.csv\")"
   ]
  },
  {
   "cell_type": "code",
   "execution_count": 3,
   "id": "a79a5e62-cb77-452a-a95d-9ec619f48f2f",
   "metadata": {},
   "outputs": [
    {
     "data": {
      "text/html": [
       "<div>\n",
       "<style scoped>\n",
       "    .dataframe tbody tr th:only-of-type {\n",
       "        vertical-align: middle;\n",
       "    }\n",
       "\n",
       "    .dataframe tbody tr th {\n",
       "        vertical-align: top;\n",
       "    }\n",
       "\n",
       "    .dataframe thead th {\n",
       "        text-align: right;\n",
       "    }\n",
       "</style>\n",
       "<table border=\"1\" class=\"dataframe\">\n",
       "  <thead>\n",
       "    <tr style=\"text-align: right;\">\n",
       "      <th></th>\n",
       "      <th>NEWID</th>\n",
       "      <th>DIRACC</th>\n",
       "      <th>DIRACC_</th>\n",
       "      <th>AGE_REF</th>\n",
       "      <th>AGE_REF_</th>\n",
       "      <th>AGE2</th>\n",
       "      <th>AGE2_</th>\n",
       "      <th>AS_COMP1</th>\n",
       "      <th>AS_C_MP1</th>\n",
       "      <th>AS_COMP2</th>\n",
       "      <th>...</th>\n",
       "      <th>CBSAPRIN</th>\n",
       "      <th>URBAN</th>\n",
       "      <th>CHDTXP</th>\n",
       "      <th>CHDTXP_</th>\n",
       "      <th>CHDTXPH</th>\n",
       "      <th>CHDTXPH_</th>\n",
       "      <th>NUM_VET</th>\n",
       "      <th>fftaxowe</th>\n",
       "      <th>fstaxowe</th>\n",
       "      <th>FINATXEM</th>\n",
       "    </tr>\n",
       "  </thead>\n",
       "  <tbody>\n",
       "    <tr>\n",
       "      <th>0</th>\n",
       "      <td>5090604</td>\n",
       "      <td>1.0</td>\n",
       "      <td>D</td>\n",
       "      <td>74</td>\n",
       "      <td>D</td>\n",
       "      <td>72.0</td>\n",
       "      <td>D</td>\n",
       "      <td>1</td>\n",
       "      <td>D</td>\n",
       "      <td>1</td>\n",
       "      <td>...</td>\n",
       "      <td>2</td>\n",
       "      <td>1</td>\n",
       "      <td>NaN</td>\n",
       "      <td>A</td>\n",
       "      <td>NaN</td>\n",
       "      <td>A</td>\n",
       "      <td>1</td>\n",
       "      <td>0</td>\n",
       "      <td>0</td>\n",
       "      <td>40677.0</td>\n",
       "    </tr>\n",
       "    <tr>\n",
       "      <th>1</th>\n",
       "      <td>5090624</td>\n",
       "      <td>1.0</td>\n",
       "      <td>D</td>\n",
       "      <td>87</td>\n",
       "      <td>T</td>\n",
       "      <td>NaN</td>\n",
       "      <td>A</td>\n",
       "      <td>0</td>\n",
       "      <td>D</td>\n",
       "      <td>1</td>\n",
       "      <td>...</td>\n",
       "      <td>2</td>\n",
       "      <td>2</td>\n",
       "      <td>NaN</td>\n",
       "      <td>A</td>\n",
       "      <td>NaN</td>\n",
       "      <td>A</td>\n",
       "      <td>0</td>\n",
       "      <td>0</td>\n",
       "      <td>0</td>\n",
       "      <td>13787.0</td>\n",
       "    </tr>\n",
       "    <tr>\n",
       "      <th>2</th>\n",
       "      <td>5090634</td>\n",
       "      <td>1.0</td>\n",
       "      <td>D</td>\n",
       "      <td>58</td>\n",
       "      <td>D</td>\n",
       "      <td>NaN</td>\n",
       "      <td>A</td>\n",
       "      <td>0</td>\n",
       "      <td>D</td>\n",
       "      <td>1</td>\n",
       "      <td>...</td>\n",
       "      <td>2</td>\n",
       "      <td>1</td>\n",
       "      <td>NaN</td>\n",
       "      <td>A</td>\n",
       "      <td>NaN</td>\n",
       "      <td>A</td>\n",
       "      <td>0</td>\n",
       "      <td>20397</td>\n",
       "      <td>7544</td>\n",
       "      <td>107059.0</td>\n",
       "    </tr>\n",
       "    <tr>\n",
       "      <th>3</th>\n",
       "      <td>5090664</td>\n",
       "      <td>1.0</td>\n",
       "      <td>D</td>\n",
       "      <td>55</td>\n",
       "      <td>D</td>\n",
       "      <td>52.0</td>\n",
       "      <td>D</td>\n",
       "      <td>1</td>\n",
       "      <td>D</td>\n",
       "      <td>1</td>\n",
       "      <td>...</td>\n",
       "      <td>2</td>\n",
       "      <td>2</td>\n",
       "      <td>NaN</td>\n",
       "      <td>A</td>\n",
       "      <td>NaN</td>\n",
       "      <td>A</td>\n",
       "      <td>0</td>\n",
       "      <td>3552</td>\n",
       "      <td>1489</td>\n",
       "      <td>57932.4</td>\n",
       "    </tr>\n",
       "    <tr>\n",
       "      <th>4</th>\n",
       "      <td>5090674</td>\n",
       "      <td>1.0</td>\n",
       "      <td>D</td>\n",
       "      <td>31</td>\n",
       "      <td>D</td>\n",
       "      <td>31.0</td>\n",
       "      <td>D</td>\n",
       "      <td>1</td>\n",
       "      <td>D</td>\n",
       "      <td>2</td>\n",
       "      <td>...</td>\n",
       "      <td>1</td>\n",
       "      <td>1</td>\n",
       "      <td>NaN</td>\n",
       "      <td>A</td>\n",
       "      <td>NaN</td>\n",
       "      <td>A</td>\n",
       "      <td>0</td>\n",
       "      <td>415</td>\n",
       "      <td>0</td>\n",
       "      <td>36475.0</td>\n",
       "    </tr>\n",
       "  </tbody>\n",
       "</table>\n",
       "<p>5 rows × 819 columns</p>\n",
       "</div>"
      ],
      "text/plain": [
       "     NEWID  DIRACC DIRACC_  AGE_REF AGE_REF_  AGE2 AGE2_  AS_COMP1 AS_C_MP1  \\\n",
       "0  5090604     1.0       D       74        D  72.0     D         1        D   \n",
       "1  5090624     1.0       D       87        T   NaN     A         0        D   \n",
       "2  5090634     1.0       D       58        D   NaN     A         0        D   \n",
       "3  5090664     1.0       D       55        D  52.0     D         1        D   \n",
       "4  5090674     1.0       D       31        D  31.0     D         1        D   \n",
       "\n",
       "   AS_COMP2  ... CBSAPRIN  URBAN CHDTXP  CHDTXP_ CHDTXPH  CHDTXPH_ NUM_VET  \\\n",
       "0         1  ...        2      1    NaN        A     NaN         A       1   \n",
       "1         1  ...        2      2    NaN        A     NaN         A       0   \n",
       "2         1  ...        2      1    NaN        A     NaN         A       0   \n",
       "3         1  ...        2      2    NaN        A     NaN         A       0   \n",
       "4         2  ...        1      1    NaN        A     NaN         A       0   \n",
       "\n",
       "   fftaxowe fstaxowe  FINATXEM  \n",
       "0         0        0   40677.0  \n",
       "1         0        0   13787.0  \n",
       "2     20397     7544  107059.0  \n",
       "3      3552     1489   57932.4  \n",
       "4       415        0   36475.0  \n",
       "\n",
       "[5 rows x 819 columns]"
      ]
     },
     "execution_count": 3,
     "metadata": {},
     "output_type": "execute_result"
    }
   ],
   "source": [
    "education232.head()"
   ]
  },
  {
   "cell_type": "code",
   "execution_count": 5,
   "id": "3885fe5e-d7b1-465b-a61f-c6947ee2693b",
   "metadata": {},
   "outputs": [],
   "source": [
    "education232= education232[['REGION','HIGH_EDU','FINCBTAX']]"
   ]
  },
  {
   "cell_type": "code",
   "execution_count": null,
   "id": "1a495fdf-2deb-4223-b351-8d6aa2891547",
   "metadata": {},
   "outputs": [],
   "source": [
    "education232.head(2)"
   ]
  },
  {
   "cell_type": "code",
   "execution_count": null,
   "id": "022f101c-56db-4524-9423-e5e4570b3ca4",
   "metadata": {},
   "outputs": [],
   "source": [
    "education232['regionplace']= ''\n",
    "education232['Education level']=''"
   ]
  },
  {
   "cell_type": "code",
   "execution_count": 6,
   "id": "9e1255e5-2b7a-4bf8-aec4-501411829ca9",
   "metadata": {},
   "outputs": [],
   "source": [
    "regionplace=[]\n",
    "for index, region in education232.iterrows():\n",
    "    if region['REGION']== 1:\n",
    "        regionplace.append('Northeast')\n",
    "    elif region['REGION']== 2:\n",
    "        regionplace.append('Midwest')\n",
    "    elif region['REGION']== 4:\n",
    "        regionplace.append('South')\n",
    "    elif region['REGION']== 4:\n",
    "        regionplace.append('West')\n",
    "    else:\n",
    "        regionplace.append('N/A')\n",
    "education232['regionplace']=regionplace"
   ]
  },
  {
   "cell_type": "code",
   "execution_count": null,
   "id": "5a696d20-5f06-45fc-a44d-f09bcdba0df0",
   "metadata": {},
   "outputs": [],
   "source": [
    "educlevel=[]\n",
    "for index, educ in education232.iterrows():\n",
    "    if educ['HIGH_EDU']== {0,00,10,11}:\n",
    "        educlevel.append('No degree')\n",
    "    elif educ['HIGH_EDU']== {11,12,13}:\n",
    "        educlevel.append('High School')\n",
    "    elif educ['HIGH_EDU']== 14:\n",
    "        educlevel.append('Associate Degree')\n",
    "    elif educ['HIGH_EDU']== 15:\n",
    "        educlevel.append('Bachelor Degree')\n",
    "    elif educ['HIGH_EDU']== 16:\n",
    "        educlevel.append('Master Degree')\n",
    "    elif educ['HIGH_EDU']== 17:\n",
    "        educlevel.append('Professional/Doctorate Degree')\n",
    "    else:\n",
    "        educlevel.append('N/A')\n",
    "education232['Education level']=educlevel"
   ]
  },
  {
   "cell_type": "code",
   "execution_count": 7,
   "id": "9b0d746d-ddff-4a00-a086-0c7a7b57e390",
   "metadata": {},
   "outputs": [],
   "source": [
    "education232=education232.reset_index(drop=True)"
   ]
  },
  {
   "cell_type": "code",
   "execution_count": 9,
   "id": "2a80ba5f-5455-4883-a9b3-ba693eb4ed78",
   "metadata": {},
   "outputs": [
    {
     "data": {
      "text/plain": [
       "0           N/A\n",
       "1           N/A\n",
       "2         South\n",
       "3           N/A\n",
       "4         South\n",
       "5     Northeast\n",
       "6           N/A\n",
       "7     Northeast\n",
       "8         South\n",
       "9       Midwest\n",
       "10      Midwest\n",
       "11        South\n",
       "12      Midwest\n",
       "13      Midwest\n",
       "14      Midwest\n",
       "15      Midwest\n",
       "16    Northeast\n",
       "17          N/A\n",
       "18    Northeast\n",
       "19      Midwest\n",
       "Name: regionplace, dtype: object"
      ]
     },
     "execution_count": 9,
     "metadata": {},
     "output_type": "execute_result"
    }
   ],
   "source": [
    "education232=education232[education232['Education level'] != 'N/A']\n",
    "education232=education232[education232['regionplace'] != 'N/A']"
   ]
  },
  {
   "cell_type": "code",
   "execution_count": 13,
   "id": "1fe1f249-8a1c-4140-bc1c-2f7214dc1179",
   "metadata": {},
   "outputs": [],
   "source": [
    "education232regionavg= education232.groupby(['regionplace','Education level'])['FINCBTAX'].mean()"
   ]
  },
  {
   "cell_type": "code",
   "execution_count": null,
   "id": "7bb26c4c-a50c-4eae-acf7-d9852b1a2e85",
   "metadata": {},
   "outputs": [],
   "source": [
    "education233regionmedian= education232.groupby(['regionplace','Education level'])['FINCBTAX'].median()"
   ]
  },
  {
   "cell_type": "code",
   "execution_count": null,
   "id": "e2ffbb6e-f81f-4c91-be34-b522a99b68b3",
   "metadata": {},
   "outputs": [],
   "source": [
    "education232regionavg"
   ]
  },
  {
   "cell_type": "code",
   "execution_count": null,
   "id": "bd31d2ca-c659-4fa3-afb6-7f75e815901d",
   "metadata": {},
   "outputs": [],
   "source": [
    "education233regionmedian"
   ]
  },
  {
   "cell_type": "code",
   "execution_count": null,
   "id": "b9fc8257-0857-4310-8efd-5d67190d3a87",
   "metadata": {},
   "outputs": [],
   "source": [
    "#plots...."
   ]
  },
  {
   "cell_type": "code",
   "execution_count": null,
   "id": "4c3b2891-77ea-49a3-aeac-3cf222a235a6",
   "metadata": {},
   "outputs": [],
   "source": []
  }
 ],
 "metadata": {
  "kernelspec": {
   "display_name": "Python 3 (ipykernel)",
   "language": "python",
   "name": "python3"
  },
  "language_info": {
   "codemirror_mode": {
    "name": "ipython",
    "version": 3
   },
   "file_extension": ".py",
   "mimetype": "text/x-python",
   "name": "python",
   "nbconvert_exporter": "python",
   "pygments_lexer": "ipython3",
   "version": "3.12.7"
  }
 },
 "nbformat": 4,
 "nbformat_minor": 5
}
